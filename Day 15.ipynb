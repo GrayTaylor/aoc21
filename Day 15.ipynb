{
 "cells": [
  {
   "cell_type": "code",
   "execution_count": null,
   "metadata": {},
   "outputs": [],
   "source": [
    "import aoc"
   ]
  },
  {
   "cell_type": "code",
   "execution_count": null,
   "metadata": {},
   "outputs": [],
   "source": [
    "example = ['1163751742',\n",
    "            '1381373672',\n",
    "            '2136511328',\n",
    "            '3694931569',\n",
    "            '7463417111',\n",
    "            '1319128137',\n",
    "            '1359912421',\n",
    "            '3125421639',\n",
    "            '1293138521',\n",
    "            '2311944581']"
   ]
  },
  {
   "cell_type": "code",
   "execution_count": null,
   "metadata": {},
   "outputs": [],
   "source": [
    "example_grid = aoc.ValueGrid(example)"
   ]
  },
  {
   "cell_type": "code",
   "execution_count": null,
   "metadata": {},
   "outputs": [],
   "source": [
    "import networkx as nx"
   ]
  },
  {
   "cell_type": "code",
   "execution_count": null,
   "metadata": {},
   "outputs": [],
   "source": [
    "class ValueGridGraph:\n",
    "    def __init__(self, value_grid):\n",
    "        self.value_grid = value_grid\n",
    "        \n",
    "        self.G = nx.Graph()\n",
    "        \n",
    "        for p in value_grid.points():\n",
    "            self.G.add_node(p, weight = int(value_grid.value_at_point(p)))\n",
    "            \n",
    "        for p in value_grid.points():\n",
    "            for n in value_grid.neighbours_of_point(p):\n",
    "                self.G.add_edge(p,n)\n",
    "                \n",
    "    def weigh_edge(self, u, v, d):\n",
    "        node_u_wt = self.G.nodes[u].get(\"weight\", 1)\n",
    "        node_v_wt = self.G.nodes[v].get(\"weight\", 1)\n",
    "        edge_wt = d.get(\"weight\", 1)\n",
    "        return node_v_wt\n",
    "    \n",
    "    def lowest_weight_path(self, start_point, end_point):\n",
    "        return nx.dijkstra_path(self.G, start_point, end_point, weight=self.weigh_edge)\n",
    "    \n",
    "    def weigh_start_to_end(self):\n",
    "        start_point = (0,0)\n",
    "        end_point = (self.value_grid.num_rows - 1, self.value_grid.num_cols - 1)\n",
    "        path = self.lowest_weight_path(start_point, end_point)\n",
    "        path_weight = sum([int(self.value_grid.value_at_point(p)) for p in path])\n",
    "        return path_weight - int(self.value_grid.value_at_point(start_point))"
   ]
  },
  {
   "cell_type": "code",
   "execution_count": null,
   "metadata": {},
   "outputs": [],
   "source": [
    "example_vgg = ValueGridGraph(example_grid)"
   ]
  },
  {
   "cell_type": "code",
   "execution_count": null,
   "metadata": {},
   "outputs": [],
   "source": [
    "print(example_vgg.lowest_weight_path((0,0), (9,9)))"
   ]
  },
  {
   "cell_type": "code",
   "execution_count": null,
   "metadata": {},
   "outputs": [],
   "source": [
    "assert example_vgg.weigh_start_to_end() == 40"
   ]
  },
  {
   "cell_type": "code",
   "execution_count": null,
   "metadata": {},
   "outputs": [],
   "source": [
    "full_input = aoc.read_file_as_list('inputs/day15.txt')"
   ]
  },
  {
   "cell_type": "code",
   "execution_count": null,
   "metadata": {},
   "outputs": [],
   "source": [
    "full_vg = aoc.ValueGrid(full_input)\n",
    "full_vgg = ValueGridGraph(full_vg)"
   ]
  },
  {
   "cell_type": "code",
   "execution_count": null,
   "metadata": {},
   "outputs": [],
   "source": [
    "# star 1\n",
    "full_vgg.weigh_start_to_end()"
   ]
  },
  {
   "cell_type": "code",
   "execution_count": null,
   "metadata": {},
   "outputs": [],
   "source": [
    "from math import floor"
   ]
  },
  {
   "cell_type": "code",
   "execution_count": null,
   "metadata": {},
   "outputs": [],
   "source": [
    "class RepeatedValueGridGraph:\n",
    "    def __init__(self, value_grid, num_repeats):\n",
    "        self.small_grid = value_grid\n",
    "        tile_size = value_grid.num_cols  # Assuming square\n",
    "        \n",
    "        holding_grid_labels = [''.join(['1' for c in range(num_repeats * tile_size)]) \n",
    "                               for r in range(num_repeats * tile_size)]\n",
    "        holding_grid = aoc.ValueGrid(holding_grid_labels)\n",
    "        \n",
    "        self.G = nx.Graph()\n",
    "        \n",
    "        for p in holding_grid.points():\n",
    "            # Locate\n",
    "            sub_x = p[0] % tile_size\n",
    "            sub_y = p[1] % tile_size\n",
    "            steps_x = floor(p[0] / tile_size)\n",
    "            steps_y = floor(p[1] / tile_size)\n",
    "            \n",
    "            # Looped value\n",
    "            value_at_p = int(value_grid.value_at_point((sub_x, sub_y)))\n",
    "            for k in range(steps_x + steps_y):\n",
    "                value_at_p += 1\n",
    "                if value_at_p == 10:\n",
    "                    value_at_p = 1\n",
    "            self.G.add_node(p, weight=value_at_p)\n",
    "            \n",
    "        for p in holding_grid.points():\n",
    "            for n in holding_grid.neighbours_of_point(p):\n",
    "                self.G.add_edge(p,n)\n",
    "                \n",
    "        self.grid_size = tile_size * num_repeats\n",
    "                \n",
    "    def weigh_edge(self, u, v, d):\n",
    "        node_u_wt = self.G.nodes[u].get(\"weight\", 1)\n",
    "        node_v_wt = self.G.nodes[v].get(\"weight\", 1)\n",
    "        edge_wt = d.get(\"weight\", 1)\n",
    "        return node_v_wt\n",
    "    \n",
    "    def lowest_weight_path(self, start_point, end_point):\n",
    "        return nx.dijkstra_path(self.G, start_point, end_point, weight=self.weigh_edge)\n",
    "    \n",
    "    def weigh_start_to_end(self):\n",
    "        start_point = (0,0)\n",
    "        end_point = (self.grid_size - 1, self.grid_size - 1)\n",
    "        path = self.lowest_weight_path(start_point, end_point)\n",
    "        path_weight = sum([self.G.nodes[p].get(\"weight\") for p in path])\n",
    "        return path_weight - int(self.G.nodes[start_point].get(\"weight\"))"
   ]
  },
  {
   "cell_type": "code",
   "execution_count": null,
   "metadata": {},
   "outputs": [],
   "source": [
    "example_rvgg = RepeatedValueGridGraph(example_grid, 5)"
   ]
  },
  {
   "cell_type": "code",
   "execution_count": null,
   "metadata": {},
   "outputs": [],
   "source": [
    "assert example_rvgg.weigh_start_to_end() == 315"
   ]
  },
  {
   "cell_type": "code",
   "execution_count": null,
   "metadata": {},
   "outputs": [],
   "source": [
    "full_rvgg = RepeatedValueGridGraph(full_vg, 5)"
   ]
  },
  {
   "cell_type": "code",
   "execution_count": null,
   "metadata": {},
   "outputs": [],
   "source": [
    "# Star 2\n",
    "%time full_rvgg.weigh_start_to_end()"
   ]
  },
  {
   "cell_type": "code",
   "execution_count": null,
   "metadata": {},
   "outputs": [],
   "source": []
  }
 ],
 "metadata": {
  "kernelspec": {
   "display_name": "Python 3",
   "language": "python",
   "name": "python3"
  },
  "language_info": {
   "codemirror_mode": {
    "name": "ipython",
    "version": 3
   },
   "file_extension": ".py",
   "mimetype": "text/x-python",
   "name": "python",
   "nbconvert_exporter": "python",
   "pygments_lexer": "ipython3",
   "version": "3.7.3"
  }
 },
 "nbformat": 4,
 "nbformat_minor": 2
}
