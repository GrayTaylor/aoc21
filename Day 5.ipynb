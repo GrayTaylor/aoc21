{
 "cells": [
  {
   "cell_type": "code",
   "execution_count": null,
   "metadata": {},
   "outputs": [],
   "source": [
    "import re\n",
    "import aoc_helpers as aoc"
   ]
  },
  {
   "cell_type": "code",
   "execution_count": null,
   "metadata": {},
   "outputs": [],
   "source": [
    "example_lines = r'''0,9 -> 5,9 \n",
    "8,0 -> 0,8\n",
    "9,4 -> 3,4\n",
    "2,2 -> 2,1\n",
    "7,0 -> 7,4\n",
    "6,4 -> 2,0\n",
    "0,9 -> 2,9\n",
    "3,4 -> 1,4\n",
    "0,0 -> 8,8\n",
    "5,5 -> 8,2'''"
   ]
  },
  {
   "cell_type": "code",
   "execution_count": null,
   "metadata": {},
   "outputs": [],
   "source": [
    "example_lines"
   ]
  },
  {
   "cell_type": "code",
   "execution_count": null,
   "metadata": {},
   "outputs": [],
   "source": [
    "lines = re.findall(r'(\\d+),(\\d+) -> (\\d+),(\\d+)', example_lines)\n",
    "lines = [[int(x) for x in line] for line in lines]\n",
    "lines"
   ]
  },
  {
   "cell_type": "code",
   "execution_count": null,
   "metadata": {},
   "outputs": [],
   "source": [
    "field_max = max([max(line) for line in lines])\n",
    "field_max"
   ]
  },
  {
   "cell_type": "code",
   "execution_count": null,
   "metadata": {},
   "outputs": [],
   "source": [
    "horizontal_lines = [l for l in lines if l[0]==l[2]]\n",
    "vertical_lines = [l for l in lines if l[1]==l[3]]"
   ]
  },
  {
   "cell_type": "code",
   "execution_count": null,
   "metadata": {},
   "outputs": [],
   "source": [
    "used_points = {}\n",
    "for l in horizontal_lines:\n",
    "    if l[1]<=l[3]:\n",
    "        for j in range(l[1], l[3] + 1):\n",
    "            point = (l[0], j)\n",
    "            if point in used_points:\n",
    "                used_points[point] += 1\n",
    "            else:\n",
    "                used_points[point] = 1\n",
    "    else:\n",
    "        for j in range(l[3], l[1] + 1):\n",
    "            point = (l[0], j)\n",
    "            if point in used_points:\n",
    "                used_points[point] += 1\n",
    "            else:\n",
    "                used_points[point] = 1\n",
    "\n",
    "for l in vertical_lines:\n",
    "    if l[0]<=l[2]:\n",
    "        for i in range(l[0], l[2] + 1):\n",
    "            point = (i, l[1])\n",
    "            if point in used_points:\n",
    "                used_points[point] += 1\n",
    "            else:\n",
    "                used_points[point] = 1\n",
    "    else:\n",
    "        for i in range(l[2], l[0] + 1):\n",
    "            point = (i, l[1])\n",
    "            if point in used_points:\n",
    "                used_points[point] += 1\n",
    "            else:\n",
    "                used_points[point] = 1"
   ]
  },
  {
   "cell_type": "code",
   "execution_count": null,
   "metadata": {},
   "outputs": [],
   "source": [
    "danger_points = [p for p,v in used_points.items() if v>1]"
   ]
  },
  {
   "cell_type": "code",
   "execution_count": null,
   "metadata": {},
   "outputs": [],
   "source": [
    "danger_points"
   ]
  },
  {
   "cell_type": "code",
   "execution_count": null,
   "metadata": {},
   "outputs": [],
   "source": [
    "assert len(danger_points) == 5"
   ]
  },
  {
   "cell_type": "code",
   "execution_count": null,
   "metadata": {},
   "outputs": [],
   "source": [
    "def count_danger_points(lines):\n",
    "    horizontal_lines = [l for l in lines if l[0]==l[2]]\n",
    "    vertical_lines = [l for l in lines if l[1]==l[3]]\n",
    "    used_points = {}\n",
    "    for l in horizontal_lines:\n",
    "        if l[1]<=l[3]:\n",
    "            for j in range(l[1], l[3] + 1):\n",
    "                point = (l[0], j)\n",
    "                if point in used_points:\n",
    "                    used_points[point] += 1\n",
    "                else:\n",
    "                    used_points[point] = 1\n",
    "        else:\n",
    "            for j in range(l[3], l[1] + 1):\n",
    "                point = (l[0], j)\n",
    "                if point in used_points:\n",
    "                    used_points[point] += 1\n",
    "                else:\n",
    "                    used_points[point] = 1\n",
    "\n",
    "    for l in vertical_lines:\n",
    "        if l[0]<=l[2]:\n",
    "            for i in range(l[0], l[2] + 1):\n",
    "                point = (i, l[1])\n",
    "                if point in used_points:\n",
    "                    used_points[point] += 1\n",
    "                else:\n",
    "                    used_points[point] = 1\n",
    "        else:\n",
    "            for i in range(l[2], l[0] + 1):\n",
    "                point = (i, l[1])\n",
    "                if point in used_points:\n",
    "                    used_points[point] += 1\n",
    "                else:\n",
    "                    used_points[point] = 1\n",
    "    \n",
    "    danger_points = [p for p,v in used_points.items() if v>1]\n",
    "    return len(danger_points)"
   ]
  },
  {
   "cell_type": "code",
   "execution_count": null,
   "metadata": {},
   "outputs": [],
   "source": [
    "assert count_danger_points(lines) == 5"
   ]
  },
  {
   "cell_type": "code",
   "execution_count": null,
   "metadata": {},
   "outputs": [],
   "source": [
    "full_input = aoc.read_file_as_string('inputs/day5_1.txt')\n",
    "lines = re.findall(r'(\\d+),(\\d+) -> (\\d+),(\\d+)', full_input)\n",
    "lines = [[int(x) for x in line] for line in lines]"
   ]
  },
  {
   "cell_type": "code",
   "execution_count": null,
   "metadata": {},
   "outputs": [],
   "source": [
    "count_danger_points(lines)"
   ]
  },
  {
   "cell_type": "code",
   "execution_count": null,
   "metadata": {},
   "outputs": [],
   "source": [
    "def count_danger_points2(lines, include_diag=True):\n",
    "    horizontal_lines = [l for l in lines if l[0]==l[2]]\n",
    "    vertical_lines = [l for l in lines if l[1]==l[3]]\n",
    "    diagonal_lines = [l for l in lines if abs(l[2]-l[0]) == abs(l[3] - l[1])]\n",
    "    if include_diag == False:\n",
    "        diagonal_lines = []\n",
    "\n",
    "    used_points = {}\n",
    "    for l in horizontal_lines:\n",
    "        if l[1]<=l[3]:\n",
    "            for j in range(l[1], l[3] + 1):\n",
    "                point = (l[0], j)\n",
    "                if point in used_points:\n",
    "                    used_points[point] += 1\n",
    "                else:\n",
    "                    used_points[point] = 1\n",
    "        else:\n",
    "            for j in range(l[3], l[1] + 1):\n",
    "                point = (l[0], j)\n",
    "                if point in used_points:\n",
    "                    used_points[point] += 1\n",
    "                else:\n",
    "                    used_points[point] = 1\n",
    "\n",
    "    for l in vertical_lines:\n",
    "        if l[0]<=l[2]:\n",
    "            for i in range(l[0], l[2] + 1):\n",
    "                point = (i, l[1])\n",
    "                if point in used_points:\n",
    "                    used_points[point] += 1\n",
    "                else:\n",
    "                    used_points[point] = 1\n",
    "        else:\n",
    "            for i in range(l[2], l[0] + 1):\n",
    "                point = (i, l[1])\n",
    "                if point in used_points:\n",
    "                    used_points[point] += 1\n",
    "                else:\n",
    "                    used_points[point] = 1\n",
    "                    \n",
    "    for l in diagonal_lines:\n",
    "        points = interpolate_diagonal_line(l)\n",
    "        for point in points:\n",
    "            if point in used_points:\n",
    "                used_points[point] += 1\n",
    "            else:\n",
    "                used_points[point] = 1\n",
    "    \n",
    "    danger_points = [p for p,v in used_points.items() if v>1]\n",
    "    \n",
    "    return len(danger_points)"
   ]
  },
  {
   "cell_type": "code",
   "execution_count": null,
   "metadata": {},
   "outputs": [],
   "source": [
    "diagonal_lines = [l for l in lines if l[2]-l[0] == l[3] - l[1]]"
   ]
  },
  {
   "cell_type": "code",
   "execution_count": null,
   "metadata": {},
   "outputs": [],
   "source": [
    "test_line = diagonal_lines[0]"
   ]
  },
  {
   "cell_type": "code",
   "execution_count": null,
   "metadata": {},
   "outputs": [],
   "source": [
    "l = test_line"
   ]
  },
  {
   "cell_type": "code",
   "execution_count": null,
   "metadata": {},
   "outputs": [],
   "source": [
    "def interpolate_diagonal_line(l):\n",
    "    start_x = l[0]\n",
    "    start_y = l[1]\n",
    "    end_x = l[2]\n",
    "    end_y = l[3]\n",
    "    if start_x <= end_x:\n",
    "        x_step = 1\n",
    "        num_steps = end_x - start_x + 1\n",
    "    else:\n",
    "        x_step = -1\n",
    "        num_steps = start_x - end_x + 1\n",
    "    if start_y <= end_y:\n",
    "        y_step = 1\n",
    "    else:\n",
    "        y_step = -1\n",
    "    \n",
    "    return [(start_x + n * x_step, start_y + n * y_step) \n",
    "            for n in range(num_steps)]\n",
    "    \n",
    "    \n",
    "    "
   ]
  },
  {
   "cell_type": "code",
   "execution_count": null,
   "metadata": {},
   "outputs": [],
   "source": [
    "lines = re.findall(r'(\\d+),(\\d+) -> (\\d+),(\\d+)', example_lines)\n",
    "lines = [[int(x) for x in line] for line in lines]\n",
    "count_danger_points2(lines, include_diag=True)"
   ]
  },
  {
   "cell_type": "code",
   "execution_count": null,
   "metadata": {},
   "outputs": [],
   "source": [
    "full_input = aoc.read_file_as_string('inputs/day5_1.txt')\n",
    "lines = re.findall(r'(\\d+),(\\d+) -> (\\d+),(\\d+)', full_input)\n",
    "lines = [[int(x) for x in line] for line in lines]"
   ]
  },
  {
   "cell_type": "code",
   "execution_count": null,
   "metadata": {},
   "outputs": [],
   "source": [
    "count_danger_points2(lines)"
   ]
  },
  {
   "cell_type": "code",
   "execution_count": null,
   "metadata": {},
   "outputs": [],
   "source": []
  }
 ],
 "metadata": {
  "kernelspec": {
   "display_name": "Python 3",
   "language": "python",
   "name": "python3"
  },
  "language_info": {
   "codemirror_mode": {
    "name": "ipython",
    "version": 3
   },
   "file_extension": ".py",
   "mimetype": "text/x-python",
   "name": "python",
   "nbconvert_exporter": "python",
   "pygments_lexer": "ipython3",
   "version": "3.7.3"
  }
 },
 "nbformat": 4,
 "nbformat_minor": 2
}
