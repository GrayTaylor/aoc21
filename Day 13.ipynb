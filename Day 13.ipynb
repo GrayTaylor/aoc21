{
 "cells": [
  {
   "cell_type": "code",
   "execution_count": 1,
   "metadata": {},
   "outputs": [],
   "source": [
    "import aoc"
   ]
  },
  {
   "cell_type": "code",
   "execution_count": 2,
   "metadata": {},
   "outputs": [],
   "source": [
    "day13 = aoc.read_file_as_list('inputs/day13.txt')"
   ]
  },
  {
   "cell_type": "code",
   "execution_count": 9,
   "metadata": {},
   "outputs": [],
   "source": [
    "folds = day13[-12:]"
   ]
  },
  {
   "cell_type": "code",
   "execution_count": 17,
   "metadata": {},
   "outputs": [],
   "source": [
    "day13_points = [tuple(int(v) for v in l.split(',')) for l in day13[:-13]] "
   ]
  },
  {
   "cell_type": "code",
   "execution_count": 19,
   "metadata": {},
   "outputs": [
    {
     "data": {
      "text/plain": [
       "'fold along x=655'"
      ]
     },
     "execution_count": 19,
     "metadata": {},
     "output_type": "execute_result"
    }
   ],
   "source": [
    "folds[0]"
   ]
  },
  {
   "cell_type": "code",
   "execution_count": 20,
   "metadata": {},
   "outputs": [],
   "source": [
    "def new_point(previous_point, fold_axis, fold_index):\n",
    "    assert fold_axis in ['x', 'y']\n",
    "    v0 = previous_point[0]\n",
    "    v1 = previous_point[1]\n",
    "    if fold_axis == 'x':\n",
    "        if v0 < fold_index:\n",
    "            return (v0,v1)\n",
    "        else:\n",
    "            return (2 * fold_index - v0, v1)\n",
    "    elif fold_axis == 'y':\n",
    "        if v1 < fold_index:\n",
    "            return (v0, v1)\n",
    "        else:\n",
    "            return (v0, 2 * fold_index - v1)\n",
    "        "
   ]
  },
  {
   "cell_type": "code",
   "execution_count": 21,
   "metadata": {},
   "outputs": [],
   "source": [
    "star1_points = []\n",
    "for p in day13_points:\n",
    "    new_p = new_point(p, 'x', 655)\n",
    "    if new_p not in star1_points:\n",
    "        star1_points.append(new_p)"
   ]
  },
  {
   "cell_type": "code",
   "execution_count": 22,
   "metadata": {},
   "outputs": [
    {
     "data": {
      "text/plain": [
       "827"
      ]
     },
     "execution_count": 22,
     "metadata": {},
     "output_type": "execute_result"
    }
   ],
   "source": [
    "len(star1_points)"
   ]
  },
  {
   "cell_type": "code",
   "execution_count": 23,
   "metadata": {},
   "outputs": [
    {
     "data": {
      "text/plain": [
       "['fold along x=655',\n",
       " 'fold along y=447',\n",
       " 'fold along x=327',\n",
       " 'fold along y=223',\n",
       " 'fold along x=163',\n",
       " 'fold along y=111',\n",
       " 'fold along x=81',\n",
       " 'fold along y=55',\n",
       " 'fold along x=40',\n",
       " 'fold along y=27',\n",
       " 'fold along y=13',\n",
       " 'fold along y=6']"
      ]
     },
     "execution_count": 23,
     "metadata": {},
     "output_type": "execute_result"
    }
   ],
   "source": [
    "folds"
   ]
  },
  {
   "cell_type": "code",
   "execution_count": 31,
   "metadata": {},
   "outputs": [],
   "source": [
    "instructions=[]\n",
    "for f in folds:\n",
    "    instructions.append([f[11], int(f[13:])])"
   ]
  },
  {
   "cell_type": "code",
   "execution_count": 32,
   "metadata": {},
   "outputs": [],
   "source": [
    "current_points = set([p for p in day13_points])"
   ]
  },
  {
   "cell_type": "code",
   "execution_count": 33,
   "metadata": {},
   "outputs": [],
   "source": [
    "for i in instructions:\n",
    "    current_points = set([new_point(p,i[0],i[1]) for p in current_points])"
   ]
  },
  {
   "cell_type": "code",
   "execution_count": 36,
   "metadata": {},
   "outputs": [],
   "source": [
    "max_x = max(v[0] for v in current_points)\n",
    "max_y = max(v[1] for v in current_points)"
   ]
  },
  {
   "cell_type": "code",
   "execution_count": 37,
   "metadata": {},
   "outputs": [
    {
     "data": {
      "text/plain": [
       "(38, 5)"
      ]
     },
     "execution_count": 37,
     "metadata": {},
     "output_type": "execute_result"
    }
   ],
   "source": [
    "max_x, max_y"
   ]
  },
  {
   "cell_type": "code",
   "execution_count": 44,
   "metadata": {},
   "outputs": [
    {
     "name": "stdout",
     "output_type": "stream",
     "text": [
      "XXXX..XX..X..X.X..X.XXX..XXXX..XX..XXX.\n",
      "X....X..X.X..X.X.X..X..X.X....X..X.X..X\n",
      "XXX..X..X.XXXX.XX...X..X.XXX..X....X..X\n",
      "X....XXXX.X..X.X.X..XXX..X....X....XXX.\n",
      "X....X..X.X..X.X.X..X.X..X....X..X.X...\n",
      "XXXX.X..X.X..X.X..X.X..X.XXXX..XX..X...\n"
     ]
    }
   ],
   "source": [
    "for j in range(max_y + 1):\n",
    "        row_j = ['X' if (i,j) in current_points else '.' for i in range(max_x + 1)]\n",
    "        print(''.join(row_j))"
   ]
  },
  {
   "cell_type": "code",
   "execution_count": null,
   "metadata": {},
   "outputs": [],
   "source": []
  }
 ],
 "metadata": {
  "kernelspec": {
   "display_name": "Python 3",
   "language": "python",
   "name": "python3"
  },
  "language_info": {
   "codemirror_mode": {
    "name": "ipython",
    "version": 3
   },
   "file_extension": ".py",
   "mimetype": "text/x-python",
   "name": "python",
   "nbconvert_exporter": "python",
   "pygments_lexer": "ipython3",
   "version": "3.7.3"
  }
 },
 "nbformat": 4,
 "nbformat_minor": 2
}
