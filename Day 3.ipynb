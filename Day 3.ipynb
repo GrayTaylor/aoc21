{
 "cells": [
  {
   "cell_type": "code",
   "execution_count": null,
   "metadata": {},
   "outputs": [],
   "source": [
    "import aoc_helpers"
   ]
  },
  {
   "cell_type": "code",
   "execution_count": null,
   "metadata": {},
   "outputs": [],
   "source": [
    "example_input = ['00100', '11110', '10110', '10111',\n",
    "                 '10101', '01111', '00111', '11100',\n",
    "                 '10000', '11001', '00010', '01010']"
   ]
  },
  {
   "cell_type": "code",
   "execution_count": null,
   "metadata": {},
   "outputs": [],
   "source": [
    "full_input = aoc_helpers.read_file_as_list_of_lists('inputs/day3_1.txt')\n",
    "full_input = [x[0] for x in full_input]\n",
    "\n",
    "# preview\n",
    "full_input[:5]"
   ]
  },
  {
   "cell_type": "code",
   "execution_count": null,
   "metadata": {},
   "outputs": [],
   "source": [
    "def distinct_counts(all_strings, strings_of_interest=None):\n",
    "    if strings_of_interest is None:\n",
    "        counts = dict.fromkeys(all_strings)\n",
    "    else:\n",
    "        counts = dict.fromkeys(strings_of_interest)\n",
    "    for key in counts:\n",
    "        counts[key] = sum([1 for s in all_strings if s==key])\n",
    "    return counts"
   ]
  },
  {
   "cell_type": "code",
   "execution_count": null,
   "metadata": {},
   "outputs": [],
   "source": [
    "def most_common_entry(all_strings, strings_of_interest=None):\n",
    "    counts = distinct_counts(all_strings, strings_of_interest)\n",
    "    ordered_counts = sorted([(v,k) for k,v in counts.items()], reverse=True)\n",
    "    return ordered_counts[0][1]\n",
    "\n",
    "def least_common_entry(all_strings, strings_of_interest=None):\n",
    "    counts = distinct_counts(all_strings, strings_of_interest)\n",
    "    ordered_counts = sorted([(v,k) for k,v in counts.items()])\n",
    "    return ordered_counts[0][1]"
   ]
  },
  {
   "cell_type": "code",
   "execution_count": null,
   "metadata": {},
   "outputs": [],
   "source": [
    "def diagnostic_rate(list_of_bit_strings, rate):\n",
    "    assert rate in ['gamma', 'epsilon']\n",
    "    num_bits = len(list_of_bit_strings[0])\n",
    "    \n",
    "    most_common_bits = [most_common_entry([s[k] for s in list_of_bit_strings]) \n",
    "                        for k in range(num_bits)]\n",
    "    \n",
    "    if rate == 'gamma':\n",
    "        bit_string = ''.join([d for d in most_common_bits])\n",
    "    elif rate == 'epsilon':\n",
    "        bit_string = ''.join([str(1-int(d)) for d in most_common_bits])\n",
    "    else:\n",
    "        bit_string = '0'\n",
    "        \n",
    "    return int(bit_string, base=2)\n",
    "        "
   ]
  },
  {
   "cell_type": "code",
   "execution_count": null,
   "metadata": {},
   "outputs": [],
   "source": [
    "assert diagnostic_rate(example_input, 'gamma') == 22\n",
    "assert diagnostic_rate(example_input, 'epsilon') == 9"
   ]
  },
  {
   "cell_type": "code",
   "execution_count": null,
   "metadata": {},
   "outputs": [],
   "source": [
    "# Star 1 solution\n",
    "diagnostic_rate(full_input, 'gamma') * diagnostic_rate(full_input, 'epsilon')"
   ]
  },
  {
   "cell_type": "code",
   "execution_count": null,
   "metadata": {},
   "outputs": [],
   "source": [
    "def diagnostic_rating(list_of_bit_strings, rating, verbose=False):\n",
    "    assert rating in ['oxygen_generator', 'co2_scrubber']\n",
    "    \n",
    "    found_bits = ''\n",
    "    candidates = [s for s in list_of_bit_strings]\n",
    "\n",
    "    while len(candidates) > 1:\n",
    "        if rating == 'co2_scrubber':\n",
    "            desired_bit = least_common_entry([c[0] for c in candidates])\n",
    "        else:\n",
    "            desired_bit = most_common_entry([c[0] for c in candidates])\n",
    "        \n",
    "        candidates = [c[1:] for c in candidates if c[0] == desired_bit]\n",
    "        found_bits += desired_bit\n",
    "        if verbose:\n",
    "            print(f'Starting condition {found_bits} leaves {len(candidates)} strings')\n",
    "\n",
    "    final_string = found_bits + candidates[0]\n",
    "    if verbose:\n",
    "        print(f'Conditioning on {found_bits} leaves one string {final_string}')\n",
    "    return int(final_string, base=2)"
   ]
  },
  {
   "cell_type": "code",
   "execution_count": null,
   "metadata": {},
   "outputs": [],
   "source": [
    "assert diagnostic_rating(example_input, 'oxygen_generator') == 23\n",
    "assert diagnostic_rating(example_input, 'co2_scrubber') == 10"
   ]
  },
  {
   "cell_type": "code",
   "execution_count": null,
   "metadata": {},
   "outputs": [],
   "source": [
    "diagnostic_rating(full_input, 'oxygen_generator', verbose=True)"
   ]
  },
  {
   "cell_type": "code",
   "execution_count": null,
   "metadata": {},
   "outputs": [],
   "source": [
    "diagnostic_rating(full_input, 'co2_scrubber', verbose=True)"
   ]
  },
  {
   "cell_type": "code",
   "execution_count": null,
   "metadata": {},
   "outputs": [],
   "source": [
    "# Star 2 solution\n",
    "diagnostic_rating(full_input, 'co2_scrubber') * diagnostic_rating(full_input, 'oxygen_generator')"
   ]
  },
  {
   "cell_type": "code",
   "execution_count": null,
   "metadata": {},
   "outputs": [],
   "source": []
  }
 ],
 "metadata": {
  "kernelspec": {
   "display_name": "Python 3",
   "language": "python",
   "name": "python3"
  },
  "language_info": {
   "codemirror_mode": {
    "name": "ipython",
    "version": 3
   },
   "file_extension": ".py",
   "mimetype": "text/x-python",
   "name": "python",
   "nbconvert_exporter": "python",
   "pygments_lexer": "ipython3",
   "version": "3.7.3"
  }
 },
 "nbformat": 4,
 "nbformat_minor": 2
}
