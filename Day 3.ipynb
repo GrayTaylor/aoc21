{
 "cells": [
  {
   "cell_type": "code",
   "execution_count": 1,
   "metadata": {},
   "outputs": [],
   "source": [
    "import aoc_helpers"
   ]
  },
  {
   "cell_type": "code",
   "execution_count": 2,
   "metadata": {},
   "outputs": [],
   "source": [
    "example_input = ['00100', '11110', '10110', '10111',\n",
    "                 '10101', '01111', '00111', '11100',\n",
    "                 '10000', '11001', '00010', '01010']"
   ]
  },
  {
   "cell_type": "code",
   "execution_count": 3,
   "metadata": {},
   "outputs": [
    {
     "data": {
      "text/plain": [
       "['111100000101',\n",
       " '001110100010',\n",
       " '101110110011',\n",
       " '100000001101',\n",
       " '001101010011']"
      ]
     },
     "execution_count": 3,
     "metadata": {},
     "output_type": "execute_result"
    }
   ],
   "source": [
    "full_input = aoc_helpers.read_file_as_list('inputs/day3_1.txt')\n",
    "\n",
    "# preview\n",
    "full_input[:5]"
   ]
  },
  {
   "cell_type": "code",
   "execution_count": 4,
   "metadata": {},
   "outputs": [],
   "source": [
    "def diagnostic_rate(list_of_bit_strings, rate):\n",
    "    assert rate in ['gamma', 'epsilon']\n",
    "    num_bits = len(list_of_bit_strings[0])\n",
    "    \n",
    "    if rate == 'gamma':\n",
    "        bits = [aoc_helpers.most_common_entry([s[k] for s in list_of_bit_strings]) \n",
    "                for k in range(num_bits)]\n",
    "    elif rate == 'epsilon':\n",
    "        bits = [aoc_helpers.least_common_entry([s[k] for s in list_of_bit_strings]) \n",
    "                for k in range(num_bits)]\n",
    "    else:\n",
    "        bits = ['0']\n",
    "    \n",
    "    bit_string = ''.join([d for d in bits])       \n",
    "    return int(bit_string, base=2)\n",
    "        "
   ]
  },
  {
   "cell_type": "code",
   "execution_count": 5,
   "metadata": {},
   "outputs": [],
   "source": [
    "assert diagnostic_rate(example_input, 'gamma') == 22\n",
    "assert diagnostic_rate(example_input, 'epsilon') == 9"
   ]
  },
  {
   "cell_type": "code",
   "execution_count": 6,
   "metadata": {},
   "outputs": [
    {
     "data": {
      "text/plain": [
       "3277364"
      ]
     },
     "execution_count": 6,
     "metadata": {},
     "output_type": "execute_result"
    }
   ],
   "source": [
    "# Star 1 solution\n",
    "diagnostic_rate(full_input, 'gamma') * diagnostic_rate(full_input, 'epsilon')"
   ]
  },
  {
   "cell_type": "code",
   "execution_count": 7,
   "metadata": {},
   "outputs": [],
   "source": [
    "def diagnostic_rating(list_of_bit_strings, rating, verbose=False):\n",
    "    assert rating in ['oxygen_generator', 'co2_scrubber']\n",
    "    \n",
    "    found_bits = ''\n",
    "    candidates = [s for s in list_of_bit_strings]\n",
    "\n",
    "    while len(candidates) > 1:\n",
    "        if rating == 'co2_scrubber':\n",
    "            desired_bit = aoc_helpers.least_common_entry([c[0] for c in candidates])\n",
    "        else:\n",
    "            desired_bit = aoc_helpers.most_common_entry([c[0] for c in candidates])\n",
    "        \n",
    "        candidates = [c[1:] for c in candidates if c[0] == desired_bit]\n",
    "        found_bits += desired_bit\n",
    "        if verbose:\n",
    "            print(f'Starting condition {found_bits} leaves {len(candidates)} strings')\n",
    "\n",
    "    final_string = found_bits + candidates[0]\n",
    "    if verbose:\n",
    "        print(f'Conditioning on {found_bits} leaves one string {final_string}')\n",
    "    return int(final_string, base=2)"
   ]
  },
  {
   "cell_type": "code",
   "execution_count": 8,
   "metadata": {},
   "outputs": [],
   "source": [
    "assert diagnostic_rating(example_input, 'oxygen_generator') == 23\n",
    "assert diagnostic_rating(example_input, 'co2_scrubber') == 10"
   ]
  },
  {
   "cell_type": "code",
   "execution_count": 9,
   "metadata": {},
   "outputs": [
    {
     "name": "stdout",
     "output_type": "stream",
     "text": [
      "Starting condition 1 leaves 511 strings\n",
      "Starting condition 11 leaves 261 strings\n",
      "Starting condition 110 leaves 133 strings\n",
      "Starting condition 1101 leaves 78 strings\n",
      "Starting condition 11011 leaves 44 strings\n",
      "Starting condition 110111 leaves 28 strings\n",
      "Starting condition 1101111 leaves 17 strings\n",
      "Starting condition 11011111 leaves 9 strings\n",
      "Starting condition 110111111 leaves 5 strings\n",
      "Starting condition 1101111111 leaves 4 strings\n",
      "Starting condition 11011111111 leaves 2 strings\n",
      "Starting condition 110111111111 leaves 1 strings\n",
      "Conditioning on 110111111111 leaves one string 110111111111\n"
     ]
    },
    {
     "data": {
      "text/plain": [
       "3583"
      ]
     },
     "execution_count": 9,
     "metadata": {},
     "output_type": "execute_result"
    }
   ],
   "source": [
    "diagnostic_rating(full_input, 'oxygen_generator', verbose=True)"
   ]
  },
  {
   "cell_type": "code",
   "execution_count": 10,
   "metadata": {},
   "outputs": [
    {
     "name": "stdout",
     "output_type": "stream",
     "text": [
      "Starting condition 0 leaves 489 strings\n",
      "Starting condition 01 leaves 237 strings\n",
      "Starting condition 011 leaves 113 strings\n",
      "Starting condition 0110 leaves 56 strings\n",
      "Starting condition 01100 leaves 26 strings\n",
      "Starting condition 011001 leaves 11 strings\n",
      "Starting condition 0110010 leaves 4 strings\n",
      "Starting condition 01100100 leaves 2 strings\n",
      "Starting condition 011001000 leaves 1 strings\n",
      "Conditioning on 011001000 leaves one string 011001000001\n"
     ]
    },
    {
     "data": {
      "text/plain": [
       "1601"
      ]
     },
     "execution_count": 10,
     "metadata": {},
     "output_type": "execute_result"
    }
   ],
   "source": [
    "diagnostic_rating(full_input, 'co2_scrubber', verbose=True)"
   ]
  },
  {
   "cell_type": "code",
   "execution_count": 11,
   "metadata": {},
   "outputs": [
    {
     "data": {
      "text/plain": [
       "5736383"
      ]
     },
     "execution_count": 11,
     "metadata": {},
     "output_type": "execute_result"
    }
   ],
   "source": [
    "# Star 2 solution\n",
    "diagnostic_rating(full_input, 'co2_scrubber') * diagnostic_rating(full_input, 'oxygen_generator')"
   ]
  },
  {
   "cell_type": "code",
   "execution_count": null,
   "metadata": {},
   "outputs": [],
   "source": []
  }
 ],
 "metadata": {
  "kernelspec": {
   "display_name": "Python 3",
   "language": "python",
   "name": "python3"
  },
  "language_info": {
   "codemirror_mode": {
    "name": "ipython",
    "version": 3
   },
   "file_extension": ".py",
   "mimetype": "text/x-python",
   "name": "python",
   "nbconvert_exporter": "python",
   "pygments_lexer": "ipython3",
   "version": "3.7.3"
  }
 },
 "nbformat": 4,
 "nbformat_minor": 2
}
