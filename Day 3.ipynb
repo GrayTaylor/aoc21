{
 "cells": [
  {
   "cell_type": "code",
   "execution_count": 1,
   "metadata": {},
   "outputs": [],
   "source": [
    "example_input = ['00100', '11110', '10110', '10111',\n",
    "                 '10101', '01111', '00111', '11100',\n",
    "                 '10000', '11001', '00010', '01010']"
   ]
  },
  {
   "cell_type": "code",
   "execution_count": 2,
   "metadata": {},
   "outputs": [],
   "source": [
    "bit_lists = [[int(d) for d in bit_string] for bit_string in example_input]"
   ]
  },
  {
   "cell_type": "code",
   "execution_count": 3,
   "metadata": {},
   "outputs": [
    {
     "data": {
      "text/plain": [
       "[[0, 0, 1, 0, 0],\n",
       " [1, 1, 1, 1, 0],\n",
       " [1, 0, 1, 1, 0],\n",
       " [1, 0, 1, 1, 1],\n",
       " [1, 0, 1, 0, 1],\n",
       " [0, 1, 1, 1, 1],\n",
       " [0, 0, 1, 1, 1],\n",
       " [1, 1, 1, 0, 0],\n",
       " [1, 0, 0, 0, 0],\n",
       " [1, 1, 0, 0, 1],\n",
       " [0, 0, 0, 1, 0],\n",
       " [0, 1, 0, 1, 0]]"
      ]
     },
     "execution_count": 3,
     "metadata": {},
     "output_type": "execute_result"
    }
   ],
   "source": [
    "bit_lists"
   ]
  },
  {
   "cell_type": "code",
   "execution_count": 4,
   "metadata": {},
   "outputs": [],
   "source": [
    "bit_sums = [sum([b[k] for b in bit_lists]) for k in range(5)]"
   ]
  },
  {
   "cell_type": "code",
   "execution_count": 5,
   "metadata": {},
   "outputs": [
    {
     "data": {
      "text/plain": [
       "[7, 5, 8, 7, 5]"
      ]
     },
     "execution_count": 5,
     "metadata": {},
     "output_type": "execute_result"
    }
   ],
   "source": [
    "bit_sums"
   ]
  },
  {
   "cell_type": "code",
   "execution_count": 6,
   "metadata": {},
   "outputs": [],
   "source": [
    "threshold = len(bit_lists)/2"
   ]
  },
  {
   "cell_type": "code",
   "execution_count": 7,
   "metadata": {},
   "outputs": [],
   "source": [
    "mcb = [1 if x >= threshold else 0 for x in bit_sums]"
   ]
  },
  {
   "cell_type": "code",
   "execution_count": 8,
   "metadata": {},
   "outputs": [
    {
     "data": {
      "text/plain": [
       "[1, 0, 1, 1, 0]"
      ]
     },
     "execution_count": 8,
     "metadata": {},
     "output_type": "execute_result"
    }
   ],
   "source": [
    "mcb"
   ]
  },
  {
   "cell_type": "code",
   "execution_count": 9,
   "metadata": {},
   "outputs": [
    {
     "data": {
      "text/plain": [
       "22"
      ]
     },
     "execution_count": 9,
     "metadata": {},
     "output_type": "execute_result"
    }
   ],
   "source": [
    "gamma = ''.join([str(d) for d in mcb])\n",
    "gamma = int(gamma, base=2)\n",
    "gamma"
   ]
  },
  {
   "cell_type": "code",
   "execution_count": 10,
   "metadata": {},
   "outputs": [
    {
     "data": {
      "text/plain": [
       "9"
      ]
     },
     "execution_count": 10,
     "metadata": {},
     "output_type": "execute_result"
    }
   ],
   "source": [
    "epsilon = ''.join([str(1-d) for d in mcb])\n",
    "epsilon = int(epsilon, base=2)\n",
    "epsilon"
   ]
  },
  {
   "cell_type": "code",
   "execution_count": 11,
   "metadata": {},
   "outputs": [],
   "source": [
    "import aoc_helpers"
   ]
  },
  {
   "cell_type": "code",
   "execution_count": 12,
   "metadata": {},
   "outputs": [],
   "source": [
    "full_input = aoc_helpers.read_file_as_list_of_lists('inputs/day3_1.txt')"
   ]
  },
  {
   "cell_type": "code",
   "execution_count": 13,
   "metadata": {},
   "outputs": [],
   "source": [
    "full_input = [x[0] for x in full_input]"
   ]
  },
  {
   "cell_type": "code",
   "execution_count": 14,
   "metadata": {},
   "outputs": [
    {
     "data": {
      "text/plain": [
       "['111100000101',\n",
       " '001110100010',\n",
       " '101110110011',\n",
       " '100000001101',\n",
       " '001101010011']"
      ]
     },
     "execution_count": 14,
     "metadata": {},
     "output_type": "execute_result"
    }
   ],
   "source": [
    "# preview\n",
    "full_input[:5]"
   ]
  },
  {
   "cell_type": "code",
   "execution_count": 15,
   "metadata": {},
   "outputs": [],
   "source": [
    "bit_lists = [[int(d) for d in bit_string] for bit_string in full_input]"
   ]
  },
  {
   "cell_type": "code",
   "execution_count": 16,
   "metadata": {},
   "outputs": [
    {
     "data": {
      "text/plain": [
       "12"
      ]
     },
     "execution_count": 16,
     "metadata": {},
     "output_type": "execute_result"
    }
   ],
   "source": [
    "len(bit_lists[0])"
   ]
  },
  {
   "cell_type": "code",
   "execution_count": 17,
   "metadata": {},
   "outputs": [],
   "source": [
    "bit_sums = [sum([b[k] for b in bit_lists]) for k in range(12)]"
   ]
  },
  {
   "cell_type": "code",
   "execution_count": 18,
   "metadata": {},
   "outputs": [],
   "source": [
    "threshold = len(bit_lists)/2"
   ]
  },
  {
   "cell_type": "code",
   "execution_count": 19,
   "metadata": {},
   "outputs": [],
   "source": [
    "mcb = [1 if x >= threshold else 0 for x in bit_sums]"
   ]
  },
  {
   "cell_type": "code",
   "execution_count": 20,
   "metadata": {},
   "outputs": [
    {
     "data": {
      "text/plain": [
       "3004"
      ]
     },
     "execution_count": 20,
     "metadata": {},
     "output_type": "execute_result"
    }
   ],
   "source": [
    "gamma = ''.join([str(d) for d in mcb])\n",
    "gamma = int(gamma, base=2)\n",
    "gamma"
   ]
  },
  {
   "cell_type": "code",
   "execution_count": 21,
   "metadata": {},
   "outputs": [
    {
     "data": {
      "text/plain": [
       "1091"
      ]
     },
     "execution_count": 21,
     "metadata": {},
     "output_type": "execute_result"
    }
   ],
   "source": [
    "epsilon = ''.join([str(1-d) for d in mcb])\n",
    "epsilon = int(epsilon, base=2)\n",
    "epsilon"
   ]
  },
  {
   "cell_type": "code",
   "execution_count": 22,
   "metadata": {},
   "outputs": [
    {
     "data": {
      "text/plain": [
       "3277364"
      ]
     },
     "execution_count": 22,
     "metadata": {},
     "output_type": "execute_result"
    }
   ],
   "source": [
    "# Star 1 solution\n",
    "gamma * epsilon"
   ]
  },
  {
   "cell_type": "code",
   "execution_count": 23,
   "metadata": {},
   "outputs": [],
   "source": [
    "def leading_mcd(list_of_binary_lists):\n",
    "    threshold = len(list_of_binary_lists) / 2\n",
    "    num_1s = sum([b[0] for b in list_of_binary_lists])\n",
    "    if num_1s >= threshold:\n",
    "        return 1\n",
    "    else:\n",
    "        return 0\n",
    "    "
   ]
  },
  {
   "cell_type": "code",
   "execution_count": 24,
   "metadata": {},
   "outputs": [
    {
     "data": {
      "text/plain": [
       "1"
      ]
     },
     "execution_count": 24,
     "metadata": {},
     "output_type": "execute_result"
    }
   ],
   "source": [
    "leading_mcd(bit_lists)"
   ]
  },
  {
   "cell_type": "code",
   "execution_count": 25,
   "metadata": {},
   "outputs": [],
   "source": [
    "def oxygen_generator_rating(list_of_bit_strings):\n",
    "    found_digits = []\n",
    "    candidates = [b for b in list_of_bit_strings]\n",
    "\n",
    "    while len(candidates) > 1:\n",
    "        digit_filter = leading_mcd(candidates)\n",
    "        print(digit_filter)\n",
    "        candidates = [c[1:] for c in candidates if c[0] == digit_filter]\n",
    "        found_digits.append(digit_filter)\n",
    "        print(f'Filter {digit_filter} leaves {len(candidates)} strings')\n",
    "\n",
    "    print(f'Filter digits {found_digits}, Remaining digits {candidates[0]}')\n",
    "    found_digits.extend(candidates[0])\n",
    "    bit_string = ''.join([str(d) for d in found_digits])\n",
    "    return int(bit_string, base=2)"
   ]
  },
  {
   "cell_type": "code",
   "execution_count": 26,
   "metadata": {},
   "outputs": [
    {
     "name": "stdout",
     "output_type": "stream",
     "text": [
      "1\n",
      "Filter 1 leaves 511 strings\n",
      "1\n",
      "Filter 1 leaves 261 strings\n",
      "0\n",
      "Filter 0 leaves 133 strings\n",
      "1\n",
      "Filter 1 leaves 78 strings\n",
      "1\n",
      "Filter 1 leaves 44 strings\n",
      "1\n",
      "Filter 1 leaves 28 strings\n",
      "1\n",
      "Filter 1 leaves 17 strings\n",
      "1\n",
      "Filter 1 leaves 9 strings\n",
      "1\n",
      "Filter 1 leaves 5 strings\n",
      "1\n",
      "Filter 1 leaves 4 strings\n",
      "1\n",
      "Filter 1 leaves 2 strings\n",
      "1\n",
      "Filter 1 leaves 1 strings\n",
      "Filter digits [1, 1, 0, 1, 1, 1, 1, 1, 1, 1, 1, 1], Remaining digits []\n"
     ]
    },
    {
     "data": {
      "text/plain": [
       "3583"
      ]
     },
     "execution_count": 26,
     "metadata": {},
     "output_type": "execute_result"
    }
   ],
   "source": [
    "oxygen_generator_rating(bit_lists)"
   ]
  },
  {
   "cell_type": "code",
   "execution_count": 27,
   "metadata": {},
   "outputs": [],
   "source": [
    "def co2_scrubber_rating(list_of_bit_strings):\n",
    "    found_digits = []\n",
    "    candidates = [b for b in list_of_bit_strings]\n",
    "\n",
    "    while len(candidates) > 1:\n",
    "        digit_filter = 1 - leading_mcd(candidates)\n",
    "        print(digit_filter)\n",
    "        candidates = [c[1:] for c in candidates if c[0] == digit_filter]\n",
    "        found_digits.append(digit_filter)\n",
    "        print(f'Filter {digit_filter} leaves {len(candidates)} strings')\n",
    "\n",
    "    print(f'Filter digits {found_digits}, Remaining digits {candidates[0]}')\n",
    "    found_digits.extend(candidates[0])\n",
    "    bit_string = ''.join([str(d) for d in found_digits])\n",
    "    return int(bit_string, base=2)"
   ]
  },
  {
   "cell_type": "code",
   "execution_count": 28,
   "metadata": {},
   "outputs": [
    {
     "name": "stdout",
     "output_type": "stream",
     "text": [
      "1\n",
      "Filter 1 leaves 7 strings\n",
      "0\n",
      "Filter 0 leaves 4 strings\n",
      "1\n",
      "Filter 1 leaves 3 strings\n",
      "1\n",
      "Filter 1 leaves 2 strings\n",
      "1\n",
      "Filter 1 leaves 1 strings\n",
      "Filter digits [1, 0, 1, 1, 1], Remaining digits []\n",
      "0\n",
      "Filter 0 leaves 5 strings\n",
      "1\n",
      "Filter 1 leaves 2 strings\n",
      "0\n",
      "Filter 0 leaves 1 strings\n",
      "Filter digits [0, 1, 0], Remaining digits [1, 0]\n"
     ]
    }
   ],
   "source": [
    "bit_lists = [[int(d) for d in bit_string] for bit_string in example_input]\n",
    "assert oxygen_generator_rating(bit_lists) == 23\n",
    "assert co2_scrubber_rating(bit_lists) == 10"
   ]
  },
  {
   "cell_type": "code",
   "execution_count": 29,
   "metadata": {},
   "outputs": [
    {
     "name": "stdout",
     "output_type": "stream",
     "text": [
      "1\n",
      "Filter 1 leaves 511 strings\n",
      "1\n",
      "Filter 1 leaves 261 strings\n",
      "0\n",
      "Filter 0 leaves 133 strings\n",
      "1\n",
      "Filter 1 leaves 78 strings\n",
      "1\n",
      "Filter 1 leaves 44 strings\n",
      "1\n",
      "Filter 1 leaves 28 strings\n",
      "1\n",
      "Filter 1 leaves 17 strings\n",
      "1\n",
      "Filter 1 leaves 9 strings\n",
      "1\n",
      "Filter 1 leaves 5 strings\n",
      "1\n",
      "Filter 1 leaves 4 strings\n",
      "1\n",
      "Filter 1 leaves 2 strings\n",
      "1\n",
      "Filter 1 leaves 1 strings\n",
      "Filter digits [1, 1, 0, 1, 1, 1, 1, 1, 1, 1, 1, 1], Remaining digits []\n",
      "0\n",
      "Filter 0 leaves 489 strings\n",
      "1\n",
      "Filter 1 leaves 237 strings\n",
      "1\n",
      "Filter 1 leaves 113 strings\n",
      "0\n",
      "Filter 0 leaves 56 strings\n",
      "0\n",
      "Filter 0 leaves 26 strings\n",
      "1\n",
      "Filter 1 leaves 11 strings\n",
      "0\n",
      "Filter 0 leaves 4 strings\n",
      "0\n",
      "Filter 0 leaves 2 strings\n",
      "0\n",
      "Filter 0 leaves 1 strings\n",
      "Filter digits [0, 1, 1, 0, 0, 1, 0, 0, 0], Remaining digits [0, 0, 1]\n"
     ]
    }
   ],
   "source": [
    "bit_lists = [[int(d) for d in bit_string] for bit_string in full_input]\n",
    "solution = oxygen_generator_rating(bit_lists) * co2_scrubber_rating(bit_lists)"
   ]
  },
  {
   "cell_type": "code",
   "execution_count": 30,
   "metadata": {},
   "outputs": [
    {
     "name": "stdout",
     "output_type": "stream",
     "text": [
      "5736383\n"
     ]
    }
   ],
   "source": [
    "# Star 2 solution\n",
    "print(solution)"
   ]
  },
  {
   "cell_type": "code",
   "execution_count": null,
   "metadata": {},
   "outputs": [],
   "source": []
  }
 ],
 "metadata": {
  "kernelspec": {
   "display_name": "Python 3",
   "language": "python",
   "name": "python3"
  },
  "language_info": {
   "codemirror_mode": {
    "name": "ipython",
    "version": 3
   },
   "file_extension": ".py",
   "mimetype": "text/x-python",
   "name": "python",
   "nbconvert_exporter": "python",
   "pygments_lexer": "ipython3",
   "version": "3.7.3"
  }
 },
 "nbformat": 4,
 "nbformat_minor": 2
}
