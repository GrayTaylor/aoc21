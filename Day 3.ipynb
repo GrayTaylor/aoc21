{
 "cells": [
  {
   "cell_type": "code",
   "execution_count": null,
   "metadata": {},
   "outputs": [],
   "source": [
    "import aoc_helpers"
   ]
  },
  {
   "cell_type": "code",
   "execution_count": null,
   "metadata": {},
   "outputs": [],
   "source": [
    "example_input = ['00100', '11110', '10110', '10111',\n",
    "                 '10101', '01111', '00111', '11100',\n",
    "                 '10000', '11001', '00010', '01010']"
   ]
  },
  {
   "cell_type": "code",
   "execution_count": null,
   "metadata": {},
   "outputs": [],
   "source": [
    "full_input = aoc_helpers.read_file_as_list_of_lists('inputs/day3_1.txt')\n",
    "full_input = [x[0] for x in full_input]\n",
    "\n",
    "# preview\n",
    "full_input[:5]"
   ]
  },
  {
   "cell_type": "code",
   "execution_count": null,
   "metadata": {},
   "outputs": [],
   "source": [
    "def distinct_counts(all_strings, strings_of_interest=None):\n",
    "    if strings_of_interest is None:\n",
    "        counts = dict.fromkeys(all_strings)\n",
    "    else:\n",
    "        counts = dict.fromkeys(strings_of_interest)\n",
    "    for key in counts:\n",
    "        counts[key] = sum([1 for s in all_strings if s==key])\n",
    "    return counts"
   ]
  },
  {
   "cell_type": "code",
   "execution_count": null,
   "metadata": {},
   "outputs": [],
   "source": [
    "def most_common_entry(all_strings, strings_of_interest=None):\n",
    "    counts = distinct_counts(all_strings, strings_of_interest)\n",
    "    ordered_counts = sorted([(v,k) for k,v in counts.items()], reverse=True)\n",
    "    return ordered_counts[0][1]"
   ]
  },
  {
   "cell_type": "code",
   "execution_count": null,
   "metadata": {},
   "outputs": [],
   "source": [
    "def diagnostic_rate(list_of_bit_strings, rate):\n",
    "    assert rate in ['gamma', 'epsilon']\n",
    "    num_bits = len(list_of_bit_strings[0])\n",
    "    \n",
    "    most_common_bits = [most_common_entry([s[k] for s in list_of_bit_strings]) \n",
    "                        for k in range(num_bits)]\n",
    "    \n",
    "    if rate == 'gamma':\n",
    "        bit_string = ''.join([d for d in most_common_bits])\n",
    "    elif rate == 'epsilon':\n",
    "        bit_string = ''.join([str(1-int(d)) for d in most_common_bits])\n",
    "    else:\n",
    "        bit_string = '0'\n",
    "        \n",
    "    return int(bit_string, base=2)\n",
    "        "
   ]
  },
  {
   "cell_type": "code",
   "execution_count": null,
   "metadata": {},
   "outputs": [],
   "source": [
    "assert diagnostic_rate(example_input, 'gamma') == 22\n",
    "assert diagnostic_rate(example_input, 'epsilon') == 9"
   ]
  },
  {
   "cell_type": "code",
   "execution_count": null,
   "metadata": {},
   "outputs": [],
   "source": [
    "# Star 1 solution\n",
    "diagnostic_rate(full_input, 'gamma') * diagnostic_rate(full_input, 'epsilon')"
   ]
  },
  {
   "cell_type": "code",
   "execution_count": null,
   "metadata": {},
   "outputs": [],
   "source": [
    "def leading_mcd(list_of_binary_lists):\n",
    "    threshold = len(list_of_binary_lists) / 2\n",
    "    num_1s = sum([b[0] for b in list_of_binary_lists])\n",
    "    if num_1s >= threshold:\n",
    "        return 1\n",
    "    else:\n",
    "        return 0\n",
    "    "
   ]
  },
  {
   "cell_type": "code",
   "execution_count": null,
   "metadata": {},
   "outputs": [],
   "source": [
    "def oxygen_generator_rating(list_of_bit_strings):\n",
    "    found_digits = []\n",
    "    candidates = [b for b in list_of_bit_strings]\n",
    "\n",
    "    while len(candidates) > 1:\n",
    "        digit_filter = leading_mcd(candidates)\n",
    "        print(digit_filter)\n",
    "        candidates = [c[1:] for c in candidates if c[0] == digit_filter]\n",
    "        found_digits.append(digit_filter)\n",
    "        print(f'Filter {digit_filter} leaves {len(candidates)} strings')\n",
    "\n",
    "    print(f'Filter digits {found_digits}, Remaining digits {candidates[0]}')\n",
    "    found_digits.extend(candidates[0])\n",
    "    bit_string = ''.join([str(d) for d in found_digits])\n",
    "    return int(bit_string, base=2)"
   ]
  },
  {
   "cell_type": "code",
   "execution_count": null,
   "metadata": {},
   "outputs": [],
   "source": [
    "def co2_scrubber_rating(list_of_bit_strings):\n",
    "    found_digits = []\n",
    "    candidates = [b for b in list_of_bit_strings]\n",
    "\n",
    "    while len(candidates) > 1:\n",
    "        digit_filter = 1 - leading_mcd(candidates)\n",
    "        print(digit_filter)\n",
    "        candidates = [c[1:] for c in candidates if c[0] == digit_filter]\n",
    "        found_digits.append(digit_filter)\n",
    "        print(f'Filter {digit_filter} leaves {len(candidates)} strings')\n",
    "\n",
    "    print(f'Filter digits {found_digits}, Remaining digits {candidates[0]}')\n",
    "    found_digits.extend(candidates[0])\n",
    "    bit_string = ''.join([str(d) for d in found_digits])\n",
    "    return int(bit_string, base=2)"
   ]
  },
  {
   "cell_type": "code",
   "execution_count": null,
   "metadata": {},
   "outputs": [],
   "source": [
    "bit_lists = [[int(d) for d in bit_string] for bit_string in example_input]\n",
    "assert oxygen_generator_rating(bit_lists) == 23\n",
    "assert co2_scrubber_rating(bit_lists) == 10"
   ]
  },
  {
   "cell_type": "code",
   "execution_count": null,
   "metadata": {},
   "outputs": [],
   "source": [
    "bit_lists = [[int(d) for d in bit_string] for bit_string in full_input]\n",
    "solution = oxygen_generator_rating(bit_lists) * co2_scrubber_rating(bit_lists)"
   ]
  },
  {
   "cell_type": "code",
   "execution_count": null,
   "metadata": {},
   "outputs": [],
   "source": [
    "# Star 2 solution\n",
    "print(solution)"
   ]
  },
  {
   "cell_type": "code",
   "execution_count": null,
   "metadata": {},
   "outputs": [],
   "source": []
  }
 ],
 "metadata": {
  "kernelspec": {
   "display_name": "Python 3",
   "language": "python",
   "name": "python3"
  },
  "language_info": {
   "codemirror_mode": {
    "name": "ipython",
    "version": 3
   },
   "file_extension": ".py",
   "mimetype": "text/x-python",
   "name": "python",
   "nbconvert_exporter": "python",
   "pygments_lexer": "ipython3",
   "version": "3.7.3"
  }
 },
 "nbformat": 4,
 "nbformat_minor": 2
}
