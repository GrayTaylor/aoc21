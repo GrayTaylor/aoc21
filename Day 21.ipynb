{
 "cells": [
  {
   "cell_type": "code",
   "execution_count": null,
   "metadata": {},
   "outputs": [],
   "source": [
    "position = [5,6]\n",
    "score = [0,0]\n",
    "keep_playing = True\n",
    "dice = 1\n",
    "active_player = 0\n",
    "num_rolls = 0"
   ]
  },
  {
   "cell_type": "code",
   "execution_count": null,
   "metadata": {},
   "outputs": [],
   "source": [
    "while keep_playing:\n",
    "    next_rolls = 3 * dice + 3\n",
    "    num_rolls += 3\n",
    "    position[active_player] += next_rolls\n",
    "    position[active_player] = position[active_player] % 10\n",
    "    if position[active_player] == 0:\n",
    "        score[active_player] += 10\n",
    "    else:\n",
    "        score[active_player] += position[active_player]\n",
    "    if max(score) >= 1000:\n",
    "        keep_playing = False\n",
    "    else:\n",
    "        active_player = 1 - active_player\n",
    "        dice = dice + 3\n",
    "    print(position, score, dice, num_rolls)"
   ]
  },
  {
   "cell_type": "code",
   "execution_count": null,
   "metadata": {},
   "outputs": [],
   "source": [
    "print(num_rolls * min(score))"
   ]
  },
  {
   "cell_type": "code",
   "execution_count": null,
   "metadata": {},
   "outputs": [],
   "source": [
    "from collections import deque"
   ]
  },
  {
   "cell_type": "code",
   "execution_count": null,
   "metadata": {},
   "outputs": [],
   "source": [
    "# position0, position1, score0, score1, active_player, num_universes\n",
    "initial_state = [4,8,0,0,0,1]"
   ]
  },
  {
   "cell_type": "code",
   "execution_count": null,
   "metadata": {},
   "outputs": [],
   "source": [
    "states = deque()"
   ]
  },
  {
   "cell_type": "code",
   "execution_count": null,
   "metadata": {},
   "outputs": [],
   "source": [
    "states.append(initial_state)"
   ]
  },
  {
   "cell_type": "code",
   "execution_count": null,
   "metadata": {},
   "outputs": [],
   "source": [
    "len(states)"
   ]
  },
  {
   "cell_type": "code",
   "execution_count": null,
   "metadata": {},
   "outputs": [],
   "source": [
    "splits = {3:1, 4:3, 5:6, 6:7, 7:6, 8:3, 9:1}\n",
    "total_wins = [0,0]\n",
    "\n",
    "while len(states) > 0:\n",
    "    ref_state = states.pop()\n",
    "    for increment,num_universes in splits.items():\n",
    "        new_state = [r for r in ref_state]\n",
    "        active_player = ref_state[4]\n",
    "        if active_player == 0:\n",
    "            new_state[0] = (new_state[0] + increment) % 10\n",
    "            if new_state[0] == 0:\n",
    "                new_state[2] += 10\n",
    "            else:\n",
    "                new_state[2] += new_state[0]\n",
    "        else:\n",
    "            new_state[1] = (new_state[1] + increment) % 10\n",
    "            if new_state[1] == 0:\n",
    "                new_state[3] += 10\n",
    "            else:\n",
    "                new_state[3] += new_state[1]\n",
    "        new_state[5] = new_state[5] * num_universes\n",
    "        new_state[4] = 1 - new_state[4]\n",
    "        \n",
    "        if new_state[2] >= 21:\n",
    "            total_wins[0] += new_state[5]\n",
    "        elif new_state[3] >= 21:\n",
    "            total_wins[1] += new_state[5]\n",
    "        else:\n",
    "            states.append(new_state)\n",
    "        "
   ]
  },
  {
   "cell_type": "code",
   "execution_count": null,
   "metadata": {},
   "outputs": [],
   "source": [
    "assert total_wins == [444356092776315,341960390180808]"
   ]
  },
  {
   "cell_type": "code",
   "execution_count": null,
   "metadata": {},
   "outputs": [],
   "source": [
    "def determine_wins(initial_state):\n",
    "    splits = {3:1, 4:3, 5:6, 6:7, 7:6, 8:3, 9:1}\n",
    "    total_wins = [0,0]\n",
    "    states = deque()\n",
    "    states.append(initial_state)\n",
    "    \n",
    "    while len(states) > 0:\n",
    "        ref_state = states.pop()\n",
    "        for increment,num_universes in splits.items():\n",
    "            new_state = [r for r in ref_state]\n",
    "            active_player = ref_state[4]\n",
    "            if active_player == 0:\n",
    "                new_state[0] = (new_state[0] + increment) % 10\n",
    "                if new_state[0] == 0:\n",
    "                    new_state[2] += 10\n",
    "                else:\n",
    "                    new_state[2] += new_state[0]\n",
    "            else:\n",
    "                new_state[1] = (new_state[1] + increment) % 10\n",
    "                if new_state[1] == 0:\n",
    "                    new_state[3] += 10\n",
    "                else:\n",
    "                    new_state[3] += new_state[1]\n",
    "            new_state[5] = new_state[5] * num_universes\n",
    "            new_state[4] = 1 - new_state[4]\n",
    "\n",
    "            if new_state[2] >= 21:\n",
    "                total_wins[0] += new_state[5]\n",
    "            elif new_state[3] >= 21:\n",
    "                total_wins[1] += new_state[5]\n",
    "            else:\n",
    "                states.append(new_state)\n",
    "            \n",
    "    return total_wins"
   ]
  },
  {
   "cell_type": "code",
   "execution_count": null,
   "metadata": {},
   "outputs": [],
   "source": [
    "%time x = determine_wins([4,8,0,0,0,1])"
   ]
  },
  {
   "cell_type": "code",
   "execution_count": null,
   "metadata": {},
   "outputs": [],
   "source": [
    "max(x)"
   ]
  },
  {
   "cell_type": "code",
   "execution_count": null,
   "metadata": {},
   "outputs": [],
   "source": [
    "%time x = determine_wins([5,6,0,0,0,1])"
   ]
  },
  {
   "cell_type": "code",
   "execution_count": null,
   "metadata": {},
   "outputs": [],
   "source": [
    "max(x)"
   ]
  },
  {
   "cell_type": "code",
   "execution_count": null,
   "metadata": {},
   "outputs": [],
   "source": []
  }
 ],
 "metadata": {
  "kernelspec": {
   "display_name": "Python 3",
   "language": "python",
   "name": "python3"
  },
  "language_info": {
   "codemirror_mode": {
    "name": "ipython",
    "version": 3
   },
   "file_extension": ".py",
   "mimetype": "text/x-python",
   "name": "python",
   "nbconvert_exporter": "python",
   "pygments_lexer": "ipython3",
   "version": "3.7.3"
  }
 },
 "nbformat": 4,
 "nbformat_minor": 2
}
