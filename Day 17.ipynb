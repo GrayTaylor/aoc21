{
 "cells": [
  {
   "cell_type": "code",
   "execution_count": null,
   "metadata": {},
   "outputs": [],
   "source": [
    "import aoc\n",
    "import re"
   ]
  },
  {
   "cell_type": "code",
   "execution_count": null,
   "metadata": {},
   "outputs": [],
   "source": [
    "example_target_string = 'target area: x=20..30, y=-10..-5'"
   ]
  },
  {
   "cell_type": "code",
   "execution_count": null,
   "metadata": {},
   "outputs": [],
   "source": [
    "class ProbeTarget:\n",
    "    def __init__(self, target_area_string):\n",
    "        pattern = r'target area: x=(-*)(\\d*)..(-*)(\\d*), y=(-*)(\\d*)..(-*)(\\d*)'\n",
    "        parsed_string = re.findall(pattern, target_area_string)[0]\n",
    "        self.min_x, self.max_x = int(parsed_string[1]), int(parsed_string[3])\n",
    "        self.min_y, self.max_y = int(parsed_string[5]), int(parsed_string[7])\n",
    "        if parsed_string[0] == '-':\n",
    "            self.min_x *= -1\n",
    "        if parsed_string[2] == '-':\n",
    "            self.max_x *= -1\n",
    "        if parsed_string[4] == '-':\n",
    "            self.min_y *= -1\n",
    "        if parsed_string[6] == '-':\n",
    "            self.max_y *= -1\n",
    "        \n",
    "        self.repr = f'target area: x={self.min_x}..{self.max_x}'\n",
    "        self.repr += f', y={self.min_y}..{self.max_y}'\n",
    "    \n",
    "    def contains_point(self, point):\n",
    "        if point[0] < self.min_x or point[0] > self.max_x:\n",
    "            return False\n",
    "        if point[1] < self.min_y or point[1] > self.max_y:\n",
    "            return False\n",
    "        return True\n",
    "        \n",
    "    def behind_point(self, point):\n",
    "        return point[0] > self.max_x\n",
    "    \n",
    "    def above_point(self, point):\n",
    "        return point[1] < self.min_y\n",
    "    \n",
    "    def __repr__(self):\n",
    "        return self.repr"
   ]
  },
  {
   "cell_type": "code",
   "execution_count": null,
   "metadata": {},
   "outputs": [],
   "source": [
    "example_target = ProbeTarget(example_target_string)"
   ]
  },
  {
   "cell_type": "code",
   "execution_count": null,
   "metadata": {},
   "outputs": [],
   "source": [
    "example_target "
   ]
  },
  {
   "cell_type": "code",
   "execution_count": null,
   "metadata": {},
   "outputs": [],
   "source": [
    "class Probe:\n",
    "    def __init__(self, initial_point, initial_velocities):\n",
    "        self.initial_point = initial_point\n",
    "        self.initial_velocities = initial_velocities\n",
    "        self.reset()\n",
    "        \n",
    "    def reset(self):\n",
    "        self.x = self.initial_point[0]\n",
    "        self.y = self.initial_point[1]\n",
    "        self.x_velocity = self.initial_velocities[0]\n",
    "        self.y_velocity = self.initial_velocities[1]\n",
    "        \n",
    "    def step(self):\n",
    "        self.x += self.x_velocity\n",
    "        self.y += self.y_velocity\n",
    "        \n",
    "        if self.x_velocity < 0:\n",
    "            self.x_velocity += 1\n",
    "        elif self.x_velocity > 0:\n",
    "            self.x_velocity -= 1\n",
    "            \n",
    "        self.y_velocity -= 1\n",
    "        \n",
    "    def point(self):\n",
    "        return [self.x, self.y]\n",
    "        \n",
    "    def cannot_reach_target(self, target):\n",
    "        if target.behind_point(self.point()):\n",
    "            return True\n",
    "        if target.above_point(self.point()) and self.y_velocity <= 0:\n",
    "            return True\n",
    "        return False\n",
    "    \n",
    "    def in_target(self, target):\n",
    "        return target.contains_point(self.point())\n",
    "        \n",
    "    def path_towards_target(self, target):\n",
    "        path = [self.point()]\n",
    "        while not self.cannot_reach_target(target) and not self.in_target(target):\n",
    "            self.step()\n",
    "            path.append(self.point())\n",
    "        return path\n",
    "    \n",
    "    def reaches_target(self, target):\n",
    "        self.reset()\n",
    "        path = self.path_towards_target(target)\n",
    "        return target.contains_point(path[-1])\n",
    "    \n",
    "    def trickshot_score(self, target):\n",
    "        self.reset()\n",
    "        path = self.path_towards_target(target)\n",
    "        if target.contains_point(path[-1]):\n",
    "            return max([p[1] for p in path])\n",
    "        else:\n",
    "            return -999"
   ]
  },
  {
   "cell_type": "code",
   "execution_count": null,
   "metadata": {},
   "outputs": [],
   "source": [
    "test_probe = Probe((0,0),(7,2))"
   ]
  },
  {
   "cell_type": "code",
   "execution_count": null,
   "metadata": {},
   "outputs": [],
   "source": [
    "test_probe.path_towards_target(example_target)"
   ]
  },
  {
   "cell_type": "code",
   "execution_count": null,
   "metadata": {},
   "outputs": [],
   "source": [
    "Probe((0,0),(6,3)).path_towards_target(example_target)"
   ]
  },
  {
   "cell_type": "code",
   "execution_count": null,
   "metadata": {},
   "outputs": [],
   "source": [
    "Probe((0,0),(9,0)).reaches_target(example_target)"
   ]
  },
  {
   "cell_type": "code",
   "execution_count": null,
   "metadata": {},
   "outputs": [],
   "source": [
    "Probe((0,0),(17,-4)).reaches_target(example_target)"
   ]
  },
  {
   "cell_type": "code",
   "execution_count": null,
   "metadata": {},
   "outputs": [],
   "source": [
    "Probe((0,0),(17,-4)).trickshot_score(example_target)"
   ]
  },
  {
   "cell_type": "code",
   "execution_count": null,
   "metadata": {},
   "outputs": [],
   "source": [
    "Probe((0,0),(6,9)).trickshot_score(example_target)"
   ]
  },
  {
   "cell_type": "code",
   "execution_count": null,
   "metadata": {},
   "outputs": [],
   "source": [
    "def trickshot(target):\n",
    "    best_velocities = (0,0)\n",
    "    best_height = Probe((0,0),(0,0)).trickshot_score(target)\n",
    "    for x in range(target.max_x):\n",
    "        for y in range(-1000, 1000):\n",
    "            height = Probe((0,0),(x,y)).trickshot_score(target)\n",
    "            if height > best_height:\n",
    "                best_height = height\n",
    "                best_velocities = (x, y)\n",
    "                print(f'New best {best_velocities} attains height {best_height}')\n",
    "    return best_height"
   ]
  },
  {
   "cell_type": "code",
   "execution_count": null,
   "metadata": {},
   "outputs": [],
   "source": [
    "%time trickshot(example_target)"
   ]
  },
  {
   "cell_type": "code",
   "execution_count": null,
   "metadata": {},
   "outputs": [],
   "source": [
    "day17_target = ProbeTarget(aoc.read_file_as_string('inputs/day17.txt'))"
   ]
  },
  {
   "cell_type": "code",
   "execution_count": null,
   "metadata": {},
   "outputs": [],
   "source": [
    "day17_target"
   ]
  },
  {
   "cell_type": "code",
   "execution_count": null,
   "metadata": {},
   "outputs": [],
   "source": [
    "%time trickshot(day17_target)"
   ]
  },
  {
   "cell_type": "code",
   "execution_count": null,
   "metadata": {},
   "outputs": [],
   "source": [
    "def find_successes(target):\n",
    "    num_success = 0\n",
    "    successes = []\n",
    "    for x in range(target.max_x + 1):\n",
    "        for y in range(-500, 500):\n",
    "            if Probe((0,0),(x,y)).reaches_target(target):\n",
    "                num_success += 1\n",
    "                successes.append((x,y))\n",
    "    return successes"
   ]
  },
  {
   "cell_type": "code",
   "execution_count": null,
   "metadata": {},
   "outputs": [],
   "source": [
    "%time hits_found = find_successes(example_target)"
   ]
  },
  {
   "cell_type": "code",
   "execution_count": null,
   "metadata": {},
   "outputs": [],
   "source": [
    "expected_string = r'''23,-10  25,-9   27,-5   29,-6   22,-6   21,-7   9,0     27,-7   24,-5\n",
    "25,-7   26,-6   25,-5   6,8     11,-2   20,-5   29,-10  6,3     28,-7\n",
    "8,0     30,-6   29,-8   20,-10  6,7     6,4     6,1     14,-4   21,-6\n",
    "26,-10  7,-1    7,7     8,-1    21,-9   6,2     20,-7   30,-10  14,-3\n",
    "20,-8   13,-2   7,3     28,-8   29,-9   15,-3   22,-5   26,-8   25,-8\n",
    "25,-6   15,-4   9,-2    15,-2   12,-2   28,-9   12,-3   24,-6   23,-7\n",
    "25,-10  7,8     11,-3   26,-7   7,1     23,-9   6,0     22,-10  27,-6\n",
    "8,1     22,-8   13,-4   7,6     28,-6   11,-4   12,-4   26,-9   7,4\n",
    "24,-10  23,-8   30,-8   7,0     9,-1    10,-1   26,-5   22,-9   6,5\n",
    "7,5     23,-6   28,-10  10,-2   11,-1   20,-9   14,-2   29,-7   13,-3\n",
    "23,-5   24,-8   27,-9   30,-7   28,-5   21,-10  7,9     6,6     21,-5\n",
    "27,-10  7,2     30,-9   21,-8   22,-7   24,-9   20,-6   6,9     29,-5\n",
    "8,-2    27,-8   30,-5   24,-7'''"
   ]
  },
  {
   "cell_type": "code",
   "execution_count": null,
   "metadata": {},
   "outputs": [],
   "source": [
    "expected = [(int(p[0]), int(p[1])) \n",
    "            for p in re.findall(r'(\\d+),(\\d+)', expected_string)]\n",
    "\n",
    "expected.extend([(int(p[0]), -1*int(p[1])) \n",
    "            for p in re.findall(r'(\\d+),-(\\d+)', expected_string)])"
   ]
  },
  {
   "cell_type": "code",
   "execution_count": null,
   "metadata": {},
   "outputs": [],
   "source": [
    "len(expected)"
   ]
  },
  {
   "cell_type": "code",
   "execution_count": null,
   "metadata": {},
   "outputs": [],
   "source": [
    "len(hits_found)"
   ]
  },
  {
   "cell_type": "code",
   "execution_count": null,
   "metadata": {},
   "outputs": [],
   "source": [
    "[p for p in expected if p not in hits_found]"
   ]
  },
  {
   "cell_type": "code",
   "execution_count": null,
   "metadata": {},
   "outputs": [],
   "source": [
    "%time hits_found = find_successes(day17_target)"
   ]
  },
  {
   "cell_type": "code",
   "execution_count": null,
   "metadata": {},
   "outputs": [],
   "source": [
    "len(hits_found)"
   ]
  },
  {
   "cell_type": "code",
   "execution_count": null,
   "metadata": {},
   "outputs": [],
   "source": []
  }
 ],
 "metadata": {
  "kernelspec": {
   "display_name": "Python 3",
   "language": "python",
   "name": "python3"
  },
  "language_info": {
   "codemirror_mode": {
    "name": "ipython",
    "version": 3
   },
   "file_extension": ".py",
   "mimetype": "text/x-python",
   "name": "python",
   "nbconvert_exporter": "python",
   "pygments_lexer": "ipython3",
   "version": "3.7.3"
  }
 },
 "nbformat": 4,
 "nbformat_minor": 2
}
