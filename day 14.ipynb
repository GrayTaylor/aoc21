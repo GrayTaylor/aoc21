{
 "cells": [
  {
   "cell_type": "code",
   "execution_count": 9,
   "metadata": {},
   "outputs": [],
   "source": [
    "import aoc\n",
    "import re"
   ]
  },
  {
   "cell_type": "code",
   "execution_count": 6,
   "metadata": {},
   "outputs": [],
   "source": [
    "def pairs_in_template(polymer_template):\n",
    "    for idx in range(len(polymer_template) - 1):\n",
    "        print(polymer_template[idx:idx + 2])"
   ]
  },
  {
   "cell_type": "code",
   "execution_count": 7,
   "metadata": {},
   "outputs": [
    {
     "name": "stdout",
     "output_type": "stream",
     "text": [
      "NN\n",
      "NC\n",
      "CB\n"
     ]
    }
   ],
   "source": [
    "pairs_in_template('NNCB')"
   ]
  },
  {
   "cell_type": "code",
   "execution_count": 8,
   "metadata": {},
   "outputs": [],
   "source": [
    "example_insertion_rules = r'''CH -> B\n",
    "HH -> N\n",
    "CB -> H\n",
    "NH -> C\n",
    "HB -> C\n",
    "HC -> B\n",
    "HN -> C\n",
    "NN -> C\n",
    "BH -> H\n",
    "NC -> B\n",
    "NB -> B\n",
    "BN -> B\n",
    "BB -> N\n",
    "BC -> B\n",
    "CC -> N\n",
    "CN -> C'''"
   ]
  },
  {
   "cell_type": "code",
   "execution_count": 12,
   "metadata": {},
   "outputs": [],
   "source": [
    "def insertion_rules_dict(insertion_rules_string):\n",
    "    insertion_rules = re.findall(r'(\\w\\w) -> (\\w)', insertion_rules_string)\n",
    "    return {r[0]: r[1] for r in insertion_rules}"
   ]
  },
  {
   "cell_type": "code",
   "execution_count": 14,
   "metadata": {},
   "outputs": [
    {
     "data": {
      "text/plain": [
       "{'CH': 'B',\n",
       " 'HH': 'N',\n",
       " 'CB': 'H',\n",
       " 'NH': 'C',\n",
       " 'HB': 'C',\n",
       " 'HC': 'B',\n",
       " 'HN': 'C',\n",
       " 'NN': 'C',\n",
       " 'BH': 'H',\n",
       " 'NC': 'B',\n",
       " 'NB': 'B',\n",
       " 'BN': 'B',\n",
       " 'BB': 'N',\n",
       " 'BC': 'B',\n",
       " 'CC': 'N',\n",
       " 'CN': 'C'}"
      ]
     },
     "execution_count": 14,
     "metadata": {},
     "output_type": "execute_result"
    }
   ],
   "source": [
    "example_rules = insertion_rules_dict(example_insertion_rules)"
   ]
  },
  {
   "cell_type": "code",
   "execution_count": 23,
   "metadata": {},
   "outputs": [],
   "source": [
    "def apply_rules_to_template(polymer_template, insertion_rules):\n",
    "    polymer_entries = []\n",
    "    for idx in range(len(polymer_template) - 1):\n",
    "        polymer_entries.append((idx, polymer_template[idx]))\n",
    "        pair = polymer_template[idx:idx + 2]\n",
    "        if pair in insertion_rules:\n",
    "            polymer_entries.append((idx + 0.5, insertion_rules[pair]))\n",
    "    polymer_entries.append((idx + 1, polymer_template[-1]))\n",
    "    polymer_entries.sort()\n",
    "    return ''.join([p[1] for p in polymer_entries])"
   ]
  },
  {
   "cell_type": "code",
   "execution_count": 24,
   "metadata": {},
   "outputs": [
    {
     "data": {
      "text/plain": [
       "'NCNBCHB'"
      ]
     },
     "execution_count": 24,
     "metadata": {},
     "output_type": "execute_result"
    }
   ],
   "source": [
    "apply_rules_to_template('NNCB', example_rules)"
   ]
  },
  {
   "cell_type": "code",
   "execution_count": 25,
   "metadata": {},
   "outputs": [
    {
     "data": {
      "text/plain": [
       "'NBCCNBBBCBHCB'"
      ]
     },
     "execution_count": 25,
     "metadata": {},
     "output_type": "execute_result"
    }
   ],
   "source": [
    "apply_rules_to_template('NCNBCHB', example_rules)"
   ]
  },
  {
   "cell_type": "code",
   "execution_count": 36,
   "metadata": {},
   "outputs": [],
   "source": [
    "def polymerise(polymer_template, insertion_rules, num_steps):\n",
    "    for k in range(num_steps):\n",
    "        polymer_template = apply_rules_to_template(polymer_template, insertion_rules)\n",
    "    return polymer_template"
   ]
  },
  {
   "cell_type": "code",
   "execution_count": 37,
   "metadata": {},
   "outputs": [
    {
     "data": {
      "text/plain": [
       "'NBCCNBBBCBHCB'"
      ]
     },
     "execution_count": 37,
     "metadata": {},
     "output_type": "execute_result"
    }
   ],
   "source": [
    "polymerise('NNCB', example_rules, 2)"
   ]
  },
  {
   "cell_type": "code",
   "execution_count": 38,
   "metadata": {},
   "outputs": [],
   "source": [
    "polymer10 = polymerise('NNCB', example_rules, 10)"
   ]
  },
  {
   "cell_type": "code",
   "execution_count": 40,
   "metadata": {},
   "outputs": [],
   "source": [
    "assert len(polymer10) == 3073"
   ]
  },
  {
   "cell_type": "code",
   "execution_count": 44,
   "metadata": {},
   "outputs": [],
   "source": [
    "element_counts = aoc.distinct_counts(polymer10)\n",
    "most_common_element = aoc.most_common_entry(polymer10)\n",
    "least_common_element = aoc.least_common_entry(polymer10)"
   ]
  },
  {
   "cell_type": "code",
   "execution_count": 46,
   "metadata": {},
   "outputs": [],
   "source": [
    "assert element_counts[most_common_element] == 1749\n",
    "assert element_counts[least_common_element] == 161"
   ]
  },
  {
   "cell_type": "code",
   "execution_count": 47,
   "metadata": {},
   "outputs": [],
   "source": [
    "day14_string = aoc.read_file_as_string('inputs/day14.txt')"
   ]
  },
  {
   "cell_type": "code",
   "execution_count": 48,
   "metadata": {},
   "outputs": [],
   "source": [
    "day14_rules = insertion_rules_dict(day14_string)"
   ]
  },
  {
   "cell_type": "code",
   "execution_count": 50,
   "metadata": {},
   "outputs": [
    {
     "data": {
      "text/plain": [
       "100"
      ]
     },
     "execution_count": 50,
     "metadata": {},
     "output_type": "execute_result"
    }
   ],
   "source": [
    "len(day14_rules)"
   ]
  },
  {
   "cell_type": "code",
   "execution_count": 52,
   "metadata": {},
   "outputs": [],
   "source": [
    "day14_polymer_template = aoc.read_file_as_list('inputs/day14.txt')[0]"
   ]
  },
  {
   "cell_type": "code",
   "execution_count": 53,
   "metadata": {},
   "outputs": [
    {
     "data": {
      "text/plain": [
       "'FSKBVOSKPCPPHVOPVFPC'"
      ]
     },
     "execution_count": 53,
     "metadata": {},
     "output_type": "execute_result"
    }
   ],
   "source": [
    "day14_polymer_template"
   ]
  },
  {
   "cell_type": "code",
   "execution_count": 54,
   "metadata": {},
   "outputs": [],
   "source": [
    "polymer10 = polymerise(day14_polymer_template, day14_rules, 10)"
   ]
  },
  {
   "cell_type": "code",
   "execution_count": 55,
   "metadata": {},
   "outputs": [],
   "source": [
    "element_counts = aoc.distinct_counts(polymer10)\n",
    "most_common_element = aoc.most_common_entry(polymer10)\n",
    "least_common_element = aoc.least_common_entry(polymer10)"
   ]
  },
  {
   "cell_type": "code",
   "execution_count": 56,
   "metadata": {},
   "outputs": [
    {
     "data": {
      "text/plain": [
       "2360"
      ]
     },
     "execution_count": 56,
     "metadata": {},
     "output_type": "execute_result"
    }
   ],
   "source": [
    "element_counts[most_common_element] - element_counts[least_common_element]"
   ]
  },
  {
   "cell_type": "code",
   "execution_count": 58,
   "metadata": {},
   "outputs": [],
   "source": [
    "# star 2"
   ]
  },
  {
   "cell_type": "code",
   "execution_count": 59,
   "metadata": {},
   "outputs": [],
   "source": [
    "polymer10 = polymerise('NNCB', example_rules, 10)"
   ]
  },
  {
   "cell_type": "code",
   "execution_count": 61,
   "metadata": {},
   "outputs": [],
   "source": [
    "polymer10a = polymerise('NN', example_rules, 10)\n",
    "polymer10b = polymerise('NC', example_rules, 10)\n",
    "polymer10c = polymerise('CB', example_rules, 10)"
   ]
  },
  {
   "cell_type": "code",
   "execution_count": 71,
   "metadata": {},
   "outputs": [],
   "source": [
    "alt_route = polymer10a + polymer10b[1:-1] + polymer10c"
   ]
  },
  {
   "cell_type": "code",
   "execution_count": 66,
   "metadata": {},
   "outputs": [
    {
     "data": {
      "text/plain": [
       "3073"
      ]
     },
     "execution_count": 66,
     "metadata": {},
     "output_type": "execute_result"
    }
   ],
   "source": [
    "len(polymer10)"
   ]
  },
  {
   "cell_type": "code",
   "execution_count": 72,
   "metadata": {},
   "outputs": [
    {
     "data": {
      "text/plain": [
       "3073"
      ]
     },
     "execution_count": 72,
     "metadata": {},
     "output_type": "execute_result"
    }
   ],
   "source": [
    "len(alt_route)"
   ]
  },
  {
   "cell_type": "code",
   "execution_count": 73,
   "metadata": {},
   "outputs": [
    {
     "data": {
      "text/plain": [
       "True"
      ]
     },
     "execution_count": 73,
     "metadata": {},
     "output_type": "execute_result"
    }
   ],
   "source": [
    "alt_route == polymer10"
   ]
  },
  {
   "cell_type": "code",
   "execution_count": 80,
   "metadata": {},
   "outputs": [
    {
     "name": "stdout",
     "output_type": "stream",
     "text": [
      "Wall time: 12.2 s\n"
     ]
    }
   ],
   "source": [
    "%time x=polymerise('FS', day14_rules, 24)"
   ]
  },
  {
   "cell_type": "code",
   "execution_count": 81,
   "metadata": {},
   "outputs": [
    {
     "data": {
      "text/plain": [
       "65536"
      ]
     },
     "execution_count": 81,
     "metadata": {},
     "output_type": "execute_result"
    }
   ],
   "source": [
    "2**16"
   ]
  },
  {
   "cell_type": "code",
   "execution_count": 89,
   "metadata": {},
   "outputs": [],
   "source": [
    "def direct_count_for_pair(pair, insertion_rules, num_steps):\n",
    "    polymer = polymerise(pair, insertion_rules, num_steps)\n",
    "    return aoc.distinct_counts(polymer)"
   ]
  },
  {
   "cell_type": "code",
   "execution_count": 90,
   "metadata": {},
   "outputs": [
    {
     "data": {
      "text/plain": [
       "{'F': 1, 'C': 1, 'S': 1}"
      ]
     },
     "execution_count": 90,
     "metadata": {},
     "output_type": "execute_result"
    }
   ],
   "source": [
    "direct_count_for_pair('FS', day14_rules, 1)"
   ]
  },
  {
   "cell_type": "code",
   "execution_count": 84,
   "metadata": {},
   "outputs": [],
   "source": [
    "def add_dicts(x, y):\n",
    "    return {k: x.get(k, 0) + y.get(k, 0) for k in set(x) | set(y)}"
   ]
  },
  {
   "cell_type": "code",
   "execution_count": 88,
   "metadata": {},
   "outputs": [
    {
     "data": {
      "text/plain": [
       "{'F': 1, 'C': 1, 'S': 1, 'O': 1, 'K': 1}"
      ]
     },
     "execution_count": 88,
     "metadata": {},
     "output_type": "execute_result"
    }
   ],
   "source": [
    "counts1 = aoc.distinct_counts(polymerise('FSK', day14_rules, 1))\n",
    "counts1"
   ]
  },
  {
   "cell_type": "code",
   "execution_count": 91,
   "metadata": {},
   "outputs": [
    {
     "data": {
      "text/plain": [
       "{'F': 1, 'C': 1, 'S': 1}"
      ]
     },
     "execution_count": 91,
     "metadata": {},
     "output_type": "execute_result"
    }
   ],
   "source": [
    "direct_count_for_pair('FS', day14_rules, 1)"
   ]
  },
  {
   "cell_type": "code",
   "execution_count": 92,
   "metadata": {},
   "outputs": [
    {
     "data": {
      "text/plain": [
       "{'S': 1, 'O': 1, 'K': 1}"
      ]
     },
     "execution_count": 92,
     "metadata": {},
     "output_type": "execute_result"
    }
   ],
   "source": [
    "direct_count_for_pair('SK', day14_rules, 1)"
   ]
  },
  {
   "cell_type": "code",
   "execution_count": 93,
   "metadata": {},
   "outputs": [
    {
     "data": {
      "text/plain": [
       "{'K': 1, 'S': 2, 'F': 1, 'O': 1, 'C': 1}"
      ]
     },
     "execution_count": 93,
     "metadata": {},
     "output_type": "execute_result"
    }
   ],
   "source": [
    "add_dicts(direct_count_for_pair('FS', day14_rules, 1), direct_count_for_pair('SK', day14_rules, 1))"
   ]
  },
  {
   "cell_type": "code",
   "execution_count": 95,
   "metadata": {},
   "outputs": [],
   "source": [
    "def recurse_counts_for_pair(pair, insertion_rules, num_steps):\n",
    "    if num_steps <= 10:\n",
    "        polymer = polymerise(pair, insertion_rules, num_steps)\n",
    "        return aoc.distinct_counts(polymer)\n",
    "    elif pair not in insertion_rules:\n",
    "        return {pair[0]: 1, pair[1]:1}\n",
    "    else:\n",
    "        insert = insertion_rules[pair]\n",
    "        counts_left = recurse_counts_for_pair(pair[0]+insert, insertion_rules, num_steps - 1)\n",
    "        counts_right = recurse_counts_for_pair(insert+pair[1], insertion_rules, num_steps - 1)\n",
    "        counts = add_dicts(counts_left, counts_right)\n",
    "        counts[insert] -= 1\n",
    "        return counts"
   ]
  },
  {
   "cell_type": "code",
   "execution_count": 96,
   "metadata": {},
   "outputs": [
    {
     "name": "stdout",
     "output_type": "stream",
     "text": [
      "Wall time: 999 µs\n"
     ]
    },
    {
     "data": {
      "text/plain": [
       "{'F': 83,\n",
       " 'P': 203,\n",
       " 'H': 105,\n",
       " 'V': 132,\n",
       " 'B': 116,\n",
       " 'S': 59,\n",
       " 'O': 113,\n",
       " 'N': 120,\n",
       " 'K': 38,\n",
       " 'C': 56}"
      ]
     },
     "execution_count": 96,
     "metadata": {},
     "output_type": "execute_result"
    }
   ],
   "source": [
    "%time recurse_counts_for_pair('FS', day14_rules, 10)"
   ]
  },
  {
   "cell_type": "code",
   "execution_count": 97,
   "metadata": {},
   "outputs": [
    {
     "name": "stdout",
     "output_type": "stream",
     "text": [
      "Wall time: 2 ms\n"
     ]
    },
    {
     "data": {
      "text/plain": [
       "{'B': 234,\n",
       " 'N': 231,\n",
       " 'V': 281,\n",
       " 'O': 257,\n",
       " 'F': 161,\n",
       " 'P': 385,\n",
       " 'S': 120,\n",
       " 'C': 99,\n",
       " 'H': 197,\n",
       " 'K': 84}"
      ]
     },
     "execution_count": 97,
     "metadata": {},
     "output_type": "execute_result"
    }
   ],
   "source": [
    "%time recurse_counts_for_pair('FS', day14_rules, 11)"
   ]
  },
  {
   "cell_type": "code",
   "execution_count": 98,
   "metadata": {},
   "outputs": [
    {
     "name": "stdout",
     "output_type": "stream",
     "text": [
      "Wall time: 4 ms\n"
     ]
    },
    {
     "data": {
      "text/plain": [
       "{'B': 475,\n",
       " 'N': 465,\n",
       " 'V': 584,\n",
       " 'F': 317,\n",
       " 'O': 542,\n",
       " 'P': 737,\n",
       " 'S': 260,\n",
       " 'C': 189,\n",
       " 'H': 370,\n",
       " 'K': 158}"
      ]
     },
     "execution_count": 98,
     "metadata": {},
     "output_type": "execute_result"
    }
   ],
   "source": [
    "%time recurse_counts_for_pair('FS', day14_rules, 12)"
   ]
  },
  {
   "cell_type": "code",
   "execution_count": 114,
   "metadata": {},
   "outputs": [
    {
     "name": "stdout",
     "output_type": "stream",
     "text": [
      "Wall time: 25.2 s\n"
     ]
    },
    {
     "data": {
      "text/plain": [
       "{'B': 3560991,\n",
       " 'N': 3764029,\n",
       " 'V': 5909474,\n",
       " 'O': 5729863,\n",
       " 'F': 2605860,\n",
       " 'P': 4843284,\n",
       " 'S': 2082078,\n",
       " 'C': 1360451,\n",
       " 'H': 2348525,\n",
       " 'K': 1349878}"
      ]
     },
     "execution_count": 114,
     "metadata": {},
     "output_type": "execute_result"
    }
   ],
   "source": [
    "%time recurse_counts_for_pair('FS', day14_rules, 25)"
   ]
  },
  {
   "cell_type": "code",
   "execution_count": 115,
   "metadata": {},
   "outputs": [
    {
     "name": "stdout",
     "output_type": "stream",
     "text": [
      "Wall time: 34 s\n"
     ]
    },
    {
     "data": {
      "text/plain": [
       "{'F': 2605860,\n",
       " 'P': 4843284,\n",
       " 'H': 2348525,\n",
       " 'V': 5909474,\n",
       " 'B': 3560991,\n",
       " 'S': 2082078,\n",
       " 'O': 5729863,\n",
       " 'N': 3764029,\n",
       " 'K': 1349878,\n",
       " 'C': 1360451}"
      ]
     },
     "execution_count": 115,
     "metadata": {},
     "output_type": "execute_result"
    }
   ],
   "source": [
    "%time aoc.distinct_counts(polymerise('FS', day14_rules, 25))"
   ]
  },
  {
   "cell_type": "code",
   "execution_count": 122,
   "metadata": {},
   "outputs": [],
   "source": [
    "class Polymerizer():\n",
    "    def __init__(self, insertion_rules_string):\n",
    "        insertion_rules = re.findall(r'(\\w\\w) -> (\\w)', insertion_rules_string)\n",
    "        self.insertion_rules = {r[0]: r[1] for r in insertion_rules}\n",
    "    \n",
    "    def apply_rules_to_template(self, polymer_template):\n",
    "        polymer_entries = []\n",
    "        for idx in range(len(polymer_template) - 1):\n",
    "            polymer_entries.append((idx, polymer_template[idx]))\n",
    "            pair = polymer_template[idx:idx + 2]\n",
    "            if pair in self.insertion_rules:\n",
    "                polymer_entries.append((idx + 0.5, self.insertion_rules[pair]))\n",
    "        polymer_entries.append((idx + 1, polymer_template[-1]))\n",
    "        polymer_entries.sort()\n",
    "        return ''.join([p[1] for p in polymer_entries])\n",
    "    \n",
    "    def polymerize(self, polymer_template, num_steps):\n",
    "        for k in range(num_steps):\n",
    "            polymer_template = self.apply_rules_to_template(polymer_template)\n",
    "        return polymer_template\n",
    "    \n",
    "    def counts_after_polymerization(self, polymer_template, num_steps):\n",
    "        return aoc.distinct_counts(self.polymerize(polymer_template, num_steps))\n",
    "    \n",
    "    def score_after_polymerization(self, polymer_template, num_steps):\n",
    "        element_counts = self.counts_after_polymerization(polymer_template, num_steps)\n",
    "        ordered_counts = sorted([(v, k) for k, v in element_counts.items()])\n",
    "        return ordered_counts[-1][0] - ordered_counts[0][0]\n",
    "    "
   ]
  },
  {
   "cell_type": "code",
   "execution_count": 123,
   "metadata": {},
   "outputs": [],
   "source": [
    "example_polymerizer = Polymerizer(example_insertion_rules)"
   ]
  },
  {
   "cell_type": "code",
   "execution_count": 124,
   "metadata": {},
   "outputs": [
    {
     "data": {
      "text/plain": [
       "1588"
      ]
     },
     "execution_count": 124,
     "metadata": {},
     "output_type": "execute_result"
    }
   ],
   "source": [
    "example_polymerizer.score_after_polymerization('NNCB', 10)"
   ]
  },
  {
   "cell_type": "code",
   "execution_count": 126,
   "metadata": {},
   "outputs": [],
   "source": [
    "full_polymerizer = Polymerizer(day14_string)"
   ]
  },
  {
   "cell_type": "code",
   "execution_count": 128,
   "metadata": {},
   "outputs": [
    {
     "data": {
      "text/plain": [
       "2360"
      ]
     },
     "execution_count": 128,
     "metadata": {},
     "output_type": "execute_result"
    }
   ],
   "source": [
    "full_polymerizer.score_after_polymerization(day14_polymer_template, 10)"
   ]
  },
  {
   "cell_type": "code",
   "execution_count": 144,
   "metadata": {},
   "outputs": [],
   "source": [
    "class RecursivePolymerizer():\n",
    "    def __init__(self, insertion_rules_string):\n",
    "        insertion_rules = re.findall(r'(\\w\\w) -> (\\w)', insertion_rules_string)\n",
    "        self.insertion_rules = {r[0]: r[1] for r in insertion_rules}\n",
    "    \n",
    "    def apply_rules_to_template(self, polymer_template):\n",
    "        polymer_entries = []\n",
    "        for idx in range(len(polymer_template) - 1):\n",
    "            polymer_entries.append((idx, polymer_template[idx]))\n",
    "            pair = polymer_template[idx:idx + 2]\n",
    "            if pair in self.insertion_rules:\n",
    "                polymer_entries.append((idx + 0.5, self.insertion_rules[pair]))\n",
    "        polymer_entries.append((idx + 1, polymer_template[-1]))\n",
    "        polymer_entries.sort()\n",
    "        return ''.join([p[1] for p in polymer_entries])\n",
    "    \n",
    "    def polymerize(self, polymer_template, num_steps):\n",
    "        for k in range(num_steps):\n",
    "            polymer_template = self.apply_rules_to_template(polymer_template)\n",
    "        return polymer_template\n",
    "    \n",
    "    def counts_after_polymerization_of_pair(self, pair, num_steps):\n",
    "        return aoc.distinct_counts(self.polymerize(pair, num_steps))  # TODO: something smarter here\n",
    "        \n",
    "    def counts_after_polymerization(self, polymer_template, num_steps):\n",
    "        scores = self.counts_after_polymerization_of_pair(polymer_template[:2], num_steps)\n",
    "        scores[polymer_template[1]] -= 1\n",
    "        for idx in range(1, len(polymer_template) - 1):\n",
    "            scores_idx = self.counts_after_polymerization_of_pair(polymer_template[idx: idx + 2], num_steps)\n",
    "            scores_idx[polymer_template[idx + 1]] -= 1\n",
    "            scores = add_dicts(scores, scores_idx)\n",
    "        scores[polymer_template[-1]] += 1\n",
    "        return scores\n",
    "        \n",
    "    "
   ]
  },
  {
   "cell_type": "code",
   "execution_count": 149,
   "metadata": {},
   "outputs": [
    {
     "data": {
      "text/plain": [
       "{'N': 865, 'B': 1749, 'C': 298, 'H': 161}"
      ]
     },
     "execution_count": 149,
     "metadata": {},
     "output_type": "execute_result"
    }
   ],
   "source": [
    "example_polymerizer.counts_after_polymerization('NNCB', 10)"
   ]
  },
  {
   "cell_type": "code",
   "execution_count": 145,
   "metadata": {},
   "outputs": [],
   "source": [
    "example_polymerizer2 = RecursivePolymerizer(example_insertion_rules)"
   ]
  },
  {
   "cell_type": "code",
   "execution_count": 150,
   "metadata": {},
   "outputs": [
    {
     "data": {
      "text/plain": [
       "{'H': 161, 'B': 1749, 'C': 298, 'N': 865}"
      ]
     },
     "execution_count": 150,
     "metadata": {},
     "output_type": "execute_result"
    }
   ],
   "source": [
    "example_polymerizer2.counts_after_polymerization('NNCB', 10)"
   ]
  },
  {
   "cell_type": "code",
   "execution_count": null,
   "metadata": {},
   "outputs": [],
   "source": []
  }
 ],
 "metadata": {
  "kernelspec": {
   "display_name": "Python 3",
   "language": "python",
   "name": "python3"
  },
  "language_info": {
   "codemirror_mode": {
    "name": "ipython",
    "version": 3
   },
   "file_extension": ".py",
   "mimetype": "text/x-python",
   "name": "python",
   "nbconvert_exporter": "python",
   "pygments_lexer": "ipython3",
   "version": "3.7.3"
  }
 },
 "nbformat": 4,
 "nbformat_minor": 2
}
