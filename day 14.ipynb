{
 "cells": [
  {
   "cell_type": "code",
   "execution_count": null,
   "metadata": {},
   "outputs": [],
   "source": [
    "import aoc\n",
    "import re"
   ]
  },
  {
   "cell_type": "code",
   "execution_count": null,
   "metadata": {},
   "outputs": [],
   "source": [
    "def pairs_in_template(polymer_template):\n",
    "    for idx in range(len(polymer_template) - 1):\n",
    "        print(polymer_template[idx:idx + 2])"
   ]
  },
  {
   "cell_type": "code",
   "execution_count": null,
   "metadata": {},
   "outputs": [],
   "source": [
    "pairs_in_template('NNCB')"
   ]
  },
  {
   "cell_type": "code",
   "execution_count": null,
   "metadata": {},
   "outputs": [],
   "source": [
    "example_insertion_rules = r'''CH -> B\n",
    "HH -> N\n",
    "CB -> H\n",
    "NH -> C\n",
    "HB -> C\n",
    "HC -> B\n",
    "HN -> C\n",
    "NN -> C\n",
    "BH -> H\n",
    "NC -> B\n",
    "NB -> B\n",
    "BN -> B\n",
    "BB -> N\n",
    "BC -> B\n",
    "CC -> N\n",
    "CN -> C'''"
   ]
  },
  {
   "cell_type": "code",
   "execution_count": null,
   "metadata": {},
   "outputs": [],
   "source": [
    "def insertion_rules_dict(insertion_rules_string):\n",
    "    insertion_rules = re.findall(r'(\\w\\w) -> (\\w)', insertion_rules_string)\n",
    "    return {r[0]: r[1] for r in insertion_rules}"
   ]
  },
  {
   "cell_type": "code",
   "execution_count": null,
   "metadata": {},
   "outputs": [],
   "source": [
    "example_rules = insertion_rules_dict(example_insertion_rules)"
   ]
  },
  {
   "cell_type": "code",
   "execution_count": null,
   "metadata": {},
   "outputs": [],
   "source": [
    "def apply_rules_to_template(polymer_template, insertion_rules):\n",
    "    polymer_entries = []\n",
    "    for idx in range(len(polymer_template) - 1):\n",
    "        polymer_entries.append((idx, polymer_template[idx]))\n",
    "        pair = polymer_template[idx:idx + 2]\n",
    "        if pair in insertion_rules:\n",
    "            polymer_entries.append((idx + 0.5, insertion_rules[pair]))\n",
    "    polymer_entries.append((idx + 1, polymer_template[-1]))\n",
    "    polymer_entries.sort()\n",
    "    return ''.join([p[1] for p in polymer_entries])"
   ]
  },
  {
   "cell_type": "code",
   "execution_count": null,
   "metadata": {},
   "outputs": [],
   "source": [
    "apply_rules_to_template('NNCB', example_rules)"
   ]
  },
  {
   "cell_type": "code",
   "execution_count": null,
   "metadata": {},
   "outputs": [],
   "source": [
    "apply_rules_to_template('NCNBCHB', example_rules)"
   ]
  },
  {
   "cell_type": "code",
   "execution_count": null,
   "metadata": {},
   "outputs": [],
   "source": [
    "def polymerise(polymer_template, insertion_rules, num_steps):\n",
    "    for k in range(num_steps):\n",
    "        polymer_template = apply_rules_to_template(polymer_template, insertion_rules)\n",
    "    return polymer_template"
   ]
  },
  {
   "cell_type": "code",
   "execution_count": null,
   "metadata": {},
   "outputs": [],
   "source": [
    "polymerise('NNCB', example_rules, 2)"
   ]
  },
  {
   "cell_type": "code",
   "execution_count": null,
   "metadata": {},
   "outputs": [],
   "source": [
    "polymer10 = polymerise('NNCB', example_rules, 10)"
   ]
  },
  {
   "cell_type": "code",
   "execution_count": null,
   "metadata": {},
   "outputs": [],
   "source": [
    "assert len(polymer10) == 3073"
   ]
  },
  {
   "cell_type": "code",
   "execution_count": null,
   "metadata": {},
   "outputs": [],
   "source": [
    "element_counts = aoc.distinct_counts(polymer10)\n",
    "most_common_element = aoc.most_common_entry(polymer10)\n",
    "least_common_element = aoc.least_common_entry(polymer10)"
   ]
  },
  {
   "cell_type": "code",
   "execution_count": null,
   "metadata": {},
   "outputs": [],
   "source": [
    "assert element_counts[most_common_element] == 1749\n",
    "assert element_counts[least_common_element] == 161"
   ]
  },
  {
   "cell_type": "code",
   "execution_count": null,
   "metadata": {},
   "outputs": [],
   "source": [
    "day14_string = aoc.read_file_as_string('inputs/day14.txt')"
   ]
  },
  {
   "cell_type": "code",
   "execution_count": null,
   "metadata": {},
   "outputs": [],
   "source": [
    "day14_rules = insertion_rules_dict(day14_string)"
   ]
  },
  {
   "cell_type": "code",
   "execution_count": null,
   "metadata": {},
   "outputs": [],
   "source": [
    "len(day14_rules)"
   ]
  },
  {
   "cell_type": "code",
   "execution_count": null,
   "metadata": {},
   "outputs": [],
   "source": [
    "day14_polymer_template = aoc.read_file_as_list('inputs/day14.txt')[0]"
   ]
  },
  {
   "cell_type": "code",
   "execution_count": null,
   "metadata": {},
   "outputs": [],
   "source": [
    "day14_polymer_template"
   ]
  },
  {
   "cell_type": "code",
   "execution_count": null,
   "metadata": {},
   "outputs": [],
   "source": [
    "polymer10 = polymerise(day14_polymer_template, day14_rules, 10)"
   ]
  },
  {
   "cell_type": "code",
   "execution_count": null,
   "metadata": {},
   "outputs": [],
   "source": [
    "element_counts = aoc.distinct_counts(polymer10)\n",
    "most_common_element = aoc.most_common_entry(polymer10)\n",
    "least_common_element = aoc.least_common_entry(polymer10)"
   ]
  },
  {
   "cell_type": "code",
   "execution_count": null,
   "metadata": {},
   "outputs": [],
   "source": [
    "element_counts[most_common_element] - element_counts[least_common_element]"
   ]
  },
  {
   "cell_type": "code",
   "execution_count": null,
   "metadata": {},
   "outputs": [],
   "source": [
    "# star 2"
   ]
  },
  {
   "cell_type": "code",
   "execution_count": null,
   "metadata": {},
   "outputs": [],
   "source": [
    "polymer10 = polymerise('NNCB', example_rules, 10)"
   ]
  },
  {
   "cell_type": "code",
   "execution_count": null,
   "metadata": {},
   "outputs": [],
   "source": [
    "polymer10a = polymerise('NN', example_rules, 10)\n",
    "polymer10b = polymerise('NC', example_rules, 10)\n",
    "polymer10c = polymerise('CB', example_rules, 10)"
   ]
  },
  {
   "cell_type": "code",
   "execution_count": null,
   "metadata": {},
   "outputs": [],
   "source": [
    "alt_route = polymer10a + polymer10b[1:-1] + polymer10c"
   ]
  },
  {
   "cell_type": "code",
   "execution_count": null,
   "metadata": {},
   "outputs": [],
   "source": [
    "len(polymer10)"
   ]
  },
  {
   "cell_type": "code",
   "execution_count": null,
   "metadata": {},
   "outputs": [],
   "source": [
    "len(alt_route)"
   ]
  },
  {
   "cell_type": "code",
   "execution_count": null,
   "metadata": {},
   "outputs": [],
   "source": [
    "alt_route == polymer10"
   ]
  },
  {
   "cell_type": "code",
   "execution_count": null,
   "metadata": {},
   "outputs": [],
   "source": [
    "%time x=polymerise('FS', day14_rules, 24)"
   ]
  },
  {
   "cell_type": "code",
   "execution_count": null,
   "metadata": {},
   "outputs": [],
   "source": [
    "2**16"
   ]
  },
  {
   "cell_type": "code",
   "execution_count": null,
   "metadata": {},
   "outputs": [],
   "source": [
    "def direct_count_for_pair(pair, insertion_rules, num_steps):\n",
    "    polymer = polymerise(pair, insertion_rules, num_steps)\n",
    "    return aoc.distinct_counts(polymer)"
   ]
  },
  {
   "cell_type": "code",
   "execution_count": null,
   "metadata": {},
   "outputs": [],
   "source": [
    "direct_count_for_pair('FS', day14_rules, 1)"
   ]
  },
  {
   "cell_type": "code",
   "execution_count": null,
   "metadata": {},
   "outputs": [],
   "source": [
    "def add_dicts(x, y):\n",
    "    return {k: x.get(k, 0) + y.get(k, 0) for k in set(x) | set(y)}"
   ]
  },
  {
   "cell_type": "code",
   "execution_count": null,
   "metadata": {},
   "outputs": [],
   "source": [
    "counts1 = aoc.distinct_counts(polymerise('FSK', day14_rules, 1))\n",
    "counts1"
   ]
  },
  {
   "cell_type": "code",
   "execution_count": null,
   "metadata": {},
   "outputs": [],
   "source": [
    "direct_count_for_pair('FS', day14_rules, 1)"
   ]
  },
  {
   "cell_type": "code",
   "execution_count": null,
   "metadata": {},
   "outputs": [],
   "source": [
    "direct_count_for_pair('SK', day14_rules, 1)"
   ]
  },
  {
   "cell_type": "code",
   "execution_count": null,
   "metadata": {},
   "outputs": [],
   "source": [
    "add_dicts(direct_count_for_pair('FS', day14_rules, 1), direct_count_for_pair('SK', day14_rules, 1))"
   ]
  },
  {
   "cell_type": "code",
   "execution_count": null,
   "metadata": {},
   "outputs": [],
   "source": [
    "def recurse_counts_for_pair(pair, insertion_rules, num_steps):\n",
    "    if num_steps <= 10:\n",
    "        polymer = polymerise(pair, insertion_rules, num_steps)\n",
    "        return aoc.distinct_counts(polymer)\n",
    "    elif pair not in insertion_rules:\n",
    "        return {pair[0]: 1, pair[1]:1}\n",
    "    else:\n",
    "        insert = insertion_rules[pair]\n",
    "        counts_left = recurse_counts_for_pair(pair[0]+insert, insertion_rules, num_steps - 1)\n",
    "        counts_right = recurse_counts_for_pair(insert+pair[1], insertion_rules, num_steps - 1)\n",
    "        counts = add_dicts(counts_left, counts_right)\n",
    "        counts[insert] -= 1\n",
    "        return counts"
   ]
  },
  {
   "cell_type": "code",
   "execution_count": null,
   "metadata": {},
   "outputs": [],
   "source": [
    "%time recurse_counts_for_pair('FS', day14_rules, 10)"
   ]
  },
  {
   "cell_type": "code",
   "execution_count": null,
   "metadata": {},
   "outputs": [],
   "source": [
    "%time recurse_counts_for_pair('FS', day14_rules, 11)"
   ]
  },
  {
   "cell_type": "code",
   "execution_count": null,
   "metadata": {},
   "outputs": [],
   "source": [
    "%time recurse_counts_for_pair('FS', day14_rules, 12)"
   ]
  },
  {
   "cell_type": "code",
   "execution_count": null,
   "metadata": {},
   "outputs": [],
   "source": [
    "%time recurse_counts_for_pair('FS', day14_rules, 25)"
   ]
  },
  {
   "cell_type": "code",
   "execution_count": null,
   "metadata": {},
   "outputs": [],
   "source": [
    "%time aoc.distinct_counts(polymerise('FS', day14_rules, 25))"
   ]
  },
  {
   "cell_type": "code",
   "execution_count": null,
   "metadata": {},
   "outputs": [],
   "source": [
    "class Polymerizer():\n",
    "    def __init__(self, insertion_rules_string):\n",
    "        insertion_rules = re.findall(r'(\\w\\w) -> (\\w)', insertion_rules_string)\n",
    "        self.insertion_rules = {r[0]: r[1] for r in insertion_rules}\n",
    "    \n",
    "    def apply_rules_to_template(self, polymer_template):\n",
    "        polymer_entries = []\n",
    "        for idx in range(len(polymer_template) - 1):\n",
    "            polymer_entries.append((idx, polymer_template[idx]))\n",
    "            pair = polymer_template[idx:idx + 2]\n",
    "            if pair in self.insertion_rules:\n",
    "                polymer_entries.append((idx + 0.5, self.insertion_rules[pair]))\n",
    "        polymer_entries.append((idx + 1, polymer_template[-1]))\n",
    "        polymer_entries.sort()\n",
    "        return ''.join([p[1] for p in polymer_entries])\n",
    "    \n",
    "    def polymerize(self, polymer_template, num_steps):\n",
    "        for k in range(num_steps):\n",
    "            polymer_template = self.apply_rules_to_template(polymer_template)\n",
    "        return polymer_template\n",
    "    \n",
    "    def counts_after_polymerization(self, polymer_template, num_steps):\n",
    "        return aoc.distinct_counts(self.polymerize(polymer_template, num_steps))\n",
    "    \n",
    "    def score_after_polymerization(self, polymer_template, num_steps):\n",
    "        element_counts = self.counts_after_polymerization(polymer_template, num_steps)\n",
    "        ordered_counts = sorted([(v, k) for k, v in element_counts.items()])\n",
    "        return ordered_counts[-1][0] - ordered_counts[0][0]\n",
    "    "
   ]
  },
  {
   "cell_type": "code",
   "execution_count": null,
   "metadata": {},
   "outputs": [],
   "source": [
    "example_polymerizer = Polymerizer(example_insertion_rules)"
   ]
  },
  {
   "cell_type": "code",
   "execution_count": null,
   "metadata": {},
   "outputs": [],
   "source": [
    "example_polymerizer.score_after_polymerization('NNCB', 10)"
   ]
  },
  {
   "cell_type": "code",
   "execution_count": null,
   "metadata": {},
   "outputs": [],
   "source": [
    "full_polymerizer = Polymerizer(day14_string)"
   ]
  },
  {
   "cell_type": "code",
   "execution_count": null,
   "metadata": {},
   "outputs": [],
   "source": [
    "full_polymerizer.score_after_polymerization(day14_polymer_template, 10)"
   ]
  },
  {
   "cell_type": "code",
   "execution_count": null,
   "metadata": {},
   "outputs": [],
   "source": [
    "class RecursivePolymerizer():\n",
    "    def __init__(self, insertion_rules_string):\n",
    "        insertion_rules = re.findall(r'(\\w\\w) -> (\\w)', insertion_rules_string)\n",
    "        self.insertion_rules = {r[0]: r[1] for r in insertion_rules}\n",
    "        self.cache = {}\n",
    "    \n",
    "    def apply_rules_to_template(self, polymer_template):\n",
    "        polymer_entries = []\n",
    "        for idx in range(len(polymer_template) - 1):\n",
    "            polymer_entries.append((idx, polymer_template[idx]))\n",
    "            pair = polymer_template[idx:idx + 2]\n",
    "            if pair in self.insertion_rules:\n",
    "                polymer_entries.append((idx + 0.5, self.insertion_rules[pair]))\n",
    "        polymer_entries.append((idx + 1, polymer_template[-1]))\n",
    "        polymer_entries.sort()\n",
    "        return ''.join([p[1] for p in polymer_entries])\n",
    "    \n",
    "    def polymerize(self, polymer_template, num_steps):\n",
    "        for k in range(num_steps):\n",
    "            polymer_template = self.apply_rules_to_template(polymer_template)\n",
    "        return polymer_template\n",
    "    \n",
    "    def counts_after_polymerization_of_pair(self, pair, num_steps, cache=True):\n",
    "        # Consult cache for perfomance boost\n",
    "        if cache and (pair, num_steps) in self.cache:\n",
    "            #print(f'retrieved {pair}, {num_steps}')\n",
    "            #print(self.cache[(pair, num_steps)])\n",
    "            return self.cache[(pair, num_steps)]\n",
    "        else:\n",
    "            if pair not in self.insertion_rules:\n",
    "                print('Nothing to do for ', pair)\n",
    "                counts = aoc.distinct_counts(pair)\n",
    "            elif num_steps == 1:\n",
    "                counts = aoc.distinct_counts([pair[0], pair[1], self.insertion_rules[pair]])\n",
    "            else:\n",
    "                insertion = self.insertion_rules[pair]\n",
    "                counts_left = self.counts_after_polymerization_of_pair(pair[0] + insertion, num_steps - 1, cache)\n",
    "                counts_right = self.counts_after_polymerization_of_pair(insertion + pair[1], num_steps - 1, cache)\n",
    "                counts = add_dicts(counts_left, counts_right)\n",
    "                counts[insertion] -= 1\n",
    "                \n",
    "            self.cache[(pair, num_steps)] = {k:v for k,v in counts.items()}\n",
    "            #print(f'calculated {pair}, {num_steps}')\n",
    "            #print(counts)\n",
    "            return counts\n",
    "\n",
    "    def counts_after_polymerization(self, polymer_template, num_steps, cache=True):\n",
    "        scores = {}\n",
    "        for idx in range(len(polymer_template) - 1):\n",
    "            pair = polymer_template[idx: idx + 2]\n",
    "            scores_idx = self.counts_after_polymerization_of_pair(pair, num_steps, cache)\n",
    "            scores = add_dicts(scores, scores_idx)\n",
    "            \n",
    "        # Correct for repeating characters\n",
    "        for char in polymer_template[1:-1]:\n",
    "            print(f'removing a {char}')\n",
    "            scores[char] -= 1\n",
    "            \n",
    "        return scores\n",
    "    \n",
    "    def score_after_polymerization(self, polymer_template, num_steps):\n",
    "        element_counts = self.counts_after_polymerization(polymer_template, num_steps)\n",
    "        ordered_counts = sorted([(v, k) for k, v in element_counts.items()])\n",
    "        return ordered_counts[-1][0] - ordered_counts[0][0]\n",
    "        \n",
    "    "
   ]
  },
  {
   "cell_type": "code",
   "execution_count": null,
   "metadata": {},
   "outputs": [],
   "source": [
    "%time example_polymerizer.counts_after_polymerization('NNCB', 20)"
   ]
  },
  {
   "cell_type": "code",
   "execution_count": null,
   "metadata": {},
   "outputs": [],
   "source": [
    "example_polymerizer2 = RecursivePolymerizer(example_insertion_rules)\n"
   ]
  },
  {
   "cell_type": "code",
   "execution_count": null,
   "metadata": {},
   "outputs": [],
   "source": [
    "%time example_polymerizer2.score_after_polymerization('NNCB', 40)"
   ]
  },
  {
   "cell_type": "code",
   "execution_count": null,
   "metadata": {},
   "outputs": [],
   "source": [
    "full_polymerizer = Polymerizer(day14_string)"
   ]
  },
  {
   "cell_type": "code",
   "execution_count": null,
   "metadata": {},
   "outputs": [],
   "source": [
    "full_polymerizer"
   ]
  },
  {
   "cell_type": "code",
   "execution_count": null,
   "metadata": {},
   "outputs": [],
   "source": [
    "full_polymerizer2 = RecursivePolymerizer(day14_string)\n",
    "assert full_polymerizer2.score_after_polymerization(day14_polymer_template, 10) == 2360"
   ]
  },
  {
   "cell_type": "code",
   "execution_count": null,
   "metadata": {},
   "outputs": [],
   "source": [
    "%time full_polymerizer2.score_after_polymerization(day14_polymer_template, 40)"
   ]
  },
  {
   "cell_type": "code",
   "execution_count": null,
   "metadata": {},
   "outputs": [],
   "source": []
  }
 ],
 "metadata": {
  "kernelspec": {
   "display_name": "Python 3",
   "language": "python",
   "name": "python3"
  },
  "language_info": {
   "codemirror_mode": {
    "name": "ipython",
    "version": 3
   },
   "file_extension": ".py",
   "mimetype": "text/x-python",
   "name": "python",
   "nbconvert_exporter": "python",
   "pygments_lexer": "ipython3",
   "version": "3.7.3"
  }
 },
 "nbformat": 4,
 "nbformat_minor": 2
}
