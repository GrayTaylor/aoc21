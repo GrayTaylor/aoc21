{
 "cells": [
  {
   "cell_type": "code",
   "execution_count": 1,
   "metadata": {},
   "outputs": [],
   "source": [
    "example_list = [199, 200, 208, 210, 200, 207, 240, 269, 260, 263]"
   ]
  },
  {
   "cell_type": "code",
   "execution_count": 2,
   "metadata": {},
   "outputs": [],
   "source": [
    "def num_increases(sonar_readings):\n",
    "    verdict = [i for i in range(len(sonar_readings) - 1) \n",
    "               if sonar_readings[i] < sonar_readings[i+1]]\n",
    "    return len(verdict)"
   ]
  },
  {
   "cell_type": "code",
   "execution_count": 3,
   "metadata": {},
   "outputs": [],
   "source": [
    "assert num_increases(example_list) == 7"
   ]
  },
  {
   "cell_type": "code",
   "execution_count": 4,
   "metadata": {},
   "outputs": [],
   "source": [
    "with open('inputs/day1_1.txt','r') as f:\n",
    "    star1_list =  f.readlines()"
   ]
  },
  {
   "cell_type": "code",
   "execution_count": 5,
   "metadata": {},
   "outputs": [
    {
     "data": {
      "text/plain": [
       "[150, 152, 155, 156, 157]"
      ]
     },
     "execution_count": 5,
     "metadata": {},
     "output_type": "execute_result"
    }
   ],
   "source": [
    "# Cleanup, cast and review\n",
    "star1_list = [int(r.strip('\\n')) for r in star1_list]\n",
    "star1_list[:5]"
   ]
  },
  {
   "cell_type": "code",
   "execution_count": 6,
   "metadata": {},
   "outputs": [
    {
     "name": "stdout",
     "output_type": "stream",
     "text": [
      "1502\n"
     ]
    }
   ],
   "source": [
    "# First star answer\n",
    "print(num_increases(star1_list))"
   ]
  },
  {
   "cell_type": "code",
   "execution_count": 7,
   "metadata": {},
   "outputs": [],
   "source": [
    "def sliding_window(sonar_readings, window_size):\n",
    "    num_sliding_windows = len(sonar_readings) + 1 - window_size\n",
    "    return [sum(sonar_readings[i:i + window_size]) \n",
    "            for i in range(num_sliding_windows)]"
   ]
  },
  {
   "cell_type": "code",
   "execution_count": 8,
   "metadata": {},
   "outputs": [],
   "source": [
    "# Verify the example\n",
    "expected_windows = [607, 618, 618, 617, 647, 716, 769, 792]\n",
    "assert sliding_window(example_list, 3) == expected_windows\n",
    "assert num_increases(sliding_window(example_list, 3)) == 5"
   ]
  },
  {
   "cell_type": "code",
   "execution_count": 9,
   "metadata": {},
   "outputs": [
    {
     "name": "stdout",
     "output_type": "stream",
     "text": [
      "1538\n"
     ]
    }
   ],
   "source": [
    "# Second star answer\n",
    "print(num_increases(sliding_window(star1_list, 3)))"
   ]
  },
  {
   "cell_type": "code",
   "execution_count": null,
   "metadata": {},
   "outputs": [],
   "source": []
  }
 ],
 "metadata": {
  "kernelspec": {
   "display_name": "Python 3",
   "language": "python",
   "name": "python3"
  },
  "language_info": {
   "codemirror_mode": {
    "name": "ipython",
    "version": 3
   },
   "file_extension": ".py",
   "mimetype": "text/x-python",
   "name": "python",
   "nbconvert_exporter": "python",
   "pygments_lexer": "ipython3",
   "version": "3.7.3"
  }
 },
 "nbformat": 4,
 "nbformat_minor": 2
}
