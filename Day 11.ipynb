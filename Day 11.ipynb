{
 "cells": [
  {
   "cell_type": "code",
   "execution_count": 31,
   "metadata": {},
   "outputs": [],
   "source": [
    "import aoc\n",
    "def grid_from_input(input_strings):\n",
    "    return [[int(x) for x in s] for s in input_strings]"
   ]
  },
  {
   "cell_type": "code",
   "execution_count": 32,
   "metadata": {},
   "outputs": [],
   "source": [
    "example_dumbo = ['5483143223',\n",
    "                 '2745854711',\n",
    "                 '5264556173',\n",
    "                 '6141336146',\n",
    "                 '6357385478',\n",
    "                 '4167524645',\n",
    "                 '2176841721',\n",
    "                 '6882881134',\n",
    "                 '4846848554',\n",
    "                 '5283751526']\n",
    "\n",
    "tiny_example = ['11111',\n",
    "                '19991',\n",
    "                '19191',\n",
    "                '19991',\n",
    "                '11111']"
   ]
  },
  {
   "cell_type": "code",
   "execution_count": 33,
   "metadata": {},
   "outputs": [],
   "source": [
    "example_grid = aoc.ValueGrid(grid_from_input(tiny_example), \n",
    "                             neighbour_pattern='ring')"
   ]
  },
  {
   "cell_type": "code",
   "execution_count": 34,
   "metadata": {},
   "outputs": [
    {
     "name": "stdout",
     "output_type": "stream",
     "text": [
      "[1, 1, 1, 1, 1]\n",
      "[1, 9, 9, 9, 1]\n",
      "[1, 9, 1, 9, 1]\n",
      "[1, 9, 9, 9, 1]\n",
      "[1, 1, 1, 1, 1]\n"
     ]
    }
   ],
   "source": [
    "example_grid.view_grid()"
   ]
  },
  {
   "cell_type": "code",
   "execution_count": 35,
   "metadata": {},
   "outputs": [],
   "source": [
    "def dumbo_step(grid):\n",
    "    flashed_this_step = []\n",
    "    for p in grid.points():\n",
    "        grid.increment_value_at_point(p)\n",
    "    propagators = [p for p in grid.points() if grid.value_at_point(p) > 9]\n",
    "    while len(propagators) > 0:\n",
    "        #print('propagators')\n",
    "        #print(propagators)\n",
    "        for p in propagators:\n",
    "            if p not in flashed_this_step:\n",
    "                flashed_this_step.append(p)\n",
    "                #print('flashed ', p)\n",
    "                for n in grid.neighbours_of_point(p):\n",
    "                    grid.increment_value_at_point(n)\n",
    "        propagators = [p for p in grid.points() \n",
    "                       if grid.value_at_point(p) > 9\n",
    "                       and p not in flashed_this_step]\n",
    "    for p in flashed_this_step:\n",
    "        grid.set_value_at_point(p, 0)\n",
    "    return len(flashed_this_step)"
   ]
  },
  {
   "cell_type": "code",
   "execution_count": 36,
   "metadata": {},
   "outputs": [],
   "source": [
    "num_flash = dumbo_step(example_grid)"
   ]
  },
  {
   "cell_type": "code",
   "execution_count": 37,
   "metadata": {},
   "outputs": [
    {
     "name": "stdout",
     "output_type": "stream",
     "text": [
      "[3, 4, 5, 4, 3]\n",
      "[4, 0, 0, 0, 4]\n",
      "[5, 0, 0, 0, 5]\n",
      "[4, 0, 0, 0, 4]\n",
      "[3, 4, 5, 4, 3]\n"
     ]
    }
   ],
   "source": [
    "example_grid.view_grid()"
   ]
  },
  {
   "cell_type": "code",
   "execution_count": 38,
   "metadata": {},
   "outputs": [],
   "source": [
    "num_flash = dumbo_step(example_grid)"
   ]
  },
  {
   "cell_type": "code",
   "execution_count": 39,
   "metadata": {},
   "outputs": [
    {
     "name": "stdout",
     "output_type": "stream",
     "text": [
      "[4, 5, 6, 5, 4]\n",
      "[5, 1, 1, 1, 5]\n",
      "[6, 1, 1, 1, 6]\n",
      "[5, 1, 1, 1, 5]\n",
      "[4, 5, 6, 5, 4]\n"
     ]
    }
   ],
   "source": [
    "example_grid.view_grid()"
   ]
  },
  {
   "cell_type": "code",
   "execution_count": 40,
   "metadata": {},
   "outputs": [],
   "source": [
    "example_grid = aoc.ValueGrid(grid_from_input(example_dumbo), \n",
    "                             neighbour_pattern='ring')"
   ]
  },
  {
   "cell_type": "code",
   "execution_count": 41,
   "metadata": {},
   "outputs": [
    {
     "name": "stdout",
     "output_type": "stream",
     "text": [
      "[5, 4, 8, 3, 1, 4, 3, 2, 2, 3]\n",
      "[2, 7, 4, 5, 8, 5, 4, 7, 1, 1]\n",
      "[5, 2, 6, 4, 5, 5, 6, 1, 7, 3]\n",
      "[6, 1, 4, 1, 3, 3, 6, 1, 4, 6]\n",
      "[6, 3, 5, 7, 3, 8, 5, 4, 7, 8]\n",
      "[4, 1, 6, 7, 5, 2, 4, 6, 4, 5]\n",
      "[2, 1, 7, 6, 8, 4, 1, 7, 2, 1]\n",
      "[6, 8, 8, 2, 8, 8, 1, 1, 3, 4]\n",
      "[4, 8, 4, 6, 8, 4, 8, 5, 5, 4]\n",
      "[5, 2, 8, 3, 7, 5, 1, 5, 2, 6]\n"
     ]
    }
   ],
   "source": [
    "example_grid.view_grid()"
   ]
  },
  {
   "cell_type": "code",
   "execution_count": 42,
   "metadata": {},
   "outputs": [],
   "source": [
    "num_flash = dumbo_step(example_grid)"
   ]
  },
  {
   "cell_type": "code",
   "execution_count": 43,
   "metadata": {},
   "outputs": [
    {
     "data": {
      "text/plain": [
       "0"
      ]
     },
     "execution_count": 43,
     "metadata": {},
     "output_type": "execute_result"
    }
   ],
   "source": [
    "num_flash"
   ]
  },
  {
   "cell_type": "code",
   "execution_count": 44,
   "metadata": {},
   "outputs": [
    {
     "name": "stdout",
     "output_type": "stream",
     "text": [
      "[6, 5, 9, 4, 2, 5, 4, 3, 3, 4]\n",
      "[3, 8, 5, 6, 9, 6, 5, 8, 2, 2]\n",
      "[6, 3, 7, 5, 6, 6, 7, 2, 8, 4]\n",
      "[7, 2, 5, 2, 4, 4, 7, 2, 5, 7]\n",
      "[7, 4, 6, 8, 4, 9, 6, 5, 8, 9]\n",
      "[5, 2, 7, 8, 6, 3, 5, 7, 5, 6]\n",
      "[3, 2, 8, 7, 9, 5, 2, 8, 3, 2]\n",
      "[7, 9, 9, 3, 9, 9, 2, 2, 4, 5]\n",
      "[5, 9, 5, 7, 9, 5, 9, 6, 6, 5]\n",
      "[6, 3, 9, 4, 8, 6, 2, 6, 3, 7]\n"
     ]
    }
   ],
   "source": [
    "example_grid.view_grid()"
   ]
  },
  {
   "cell_type": "code",
   "execution_count": 45,
   "metadata": {},
   "outputs": [],
   "source": [
    "def count_total_flashes(grid, num_steps):\n",
    "    grid.reset()\n",
    "    total_flashes = 0\n",
    "    for k in range(num_steps):\n",
    "        total_flashes += dumbo_step(grid)\n",
    "    return total_flashes"
   ]
  },
  {
   "cell_type": "code",
   "execution_count": 46,
   "metadata": {},
   "outputs": [
    {
     "data": {
      "text/plain": [
       "1656"
      ]
     },
     "execution_count": 46,
     "metadata": {},
     "output_type": "execute_result"
    }
   ],
   "source": [
    "count_total_flashes(example_grid, 100)"
   ]
  },
  {
   "cell_type": "code",
   "execution_count": 47,
   "metadata": {},
   "outputs": [],
   "source": [
    "full_input = aoc.read_file_as_list('inputs/day11.txt')\n",
    "full_grid = aoc.ValueGrid(grid_from_input(full_input), \n",
    "                          neighbour_pattern='ring')"
   ]
  },
  {
   "cell_type": "code",
   "execution_count": 48,
   "metadata": {},
   "outputs": [
    {
     "data": {
      "text/plain": [
       "1713"
      ]
     },
     "execution_count": 48,
     "metadata": {},
     "output_type": "execute_result"
    }
   ],
   "source": [
    "count_total_flashes(full_grid, 100)"
   ]
  },
  {
   "cell_type": "code",
   "execution_count": 49,
   "metadata": {},
   "outputs": [],
   "source": [
    "# star 2"
   ]
  },
  {
   "cell_type": "code",
   "execution_count": 50,
   "metadata": {},
   "outputs": [],
   "source": [
    "def detect_sync(grid):\n",
    "    target_flashes = grid.num_rows * grid.num_cols\n",
    "    grid.reset()\n",
    "    steps = 1\n",
    "    while dumbo_step(grid) != target_flashes:\n",
    "        steps += 1\n",
    "    return steps"
   ]
  },
  {
   "cell_type": "code",
   "execution_count": 51,
   "metadata": {},
   "outputs": [
    {
     "data": {
      "text/plain": [
       "195"
      ]
     },
     "execution_count": 51,
     "metadata": {},
     "output_type": "execute_result"
    }
   ],
   "source": [
    "detect_sync(example_grid)"
   ]
  },
  {
   "cell_type": "code",
   "execution_count": 52,
   "metadata": {},
   "outputs": [
    {
     "data": {
      "text/plain": [
       "502"
      ]
     },
     "execution_count": 52,
     "metadata": {},
     "output_type": "execute_result"
    }
   ],
   "source": [
    "detect_sync(full_grid)"
   ]
  },
  {
   "cell_type": "code",
   "execution_count": null,
   "metadata": {},
   "outputs": [],
   "source": []
  }
 ],
 "metadata": {
  "kernelspec": {
   "display_name": "Python 3",
   "language": "python",
   "name": "python3"
  },
  "language_info": {
   "codemirror_mode": {
    "name": "ipython",
    "version": 3
   },
   "file_extension": ".py",
   "mimetype": "text/x-python",
   "name": "python",
   "nbconvert_exporter": "python",
   "pygments_lexer": "ipython3",
   "version": "3.7.3"
  }
 },
 "nbformat": 4,
 "nbformat_minor": 2
}
