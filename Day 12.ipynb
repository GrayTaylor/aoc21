{
 "cells": [
  {
   "cell_type": "code",
   "execution_count": null,
   "metadata": {},
   "outputs": [],
   "source": [
    "import aoc\n",
    "import re\n",
    "from collections import deque"
   ]
  },
  {
   "cell_type": "code",
   "execution_count": null,
   "metadata": {},
   "outputs": [],
   "source": [
    "full_network = aoc.read_file_as_list('inputs/day12.txt')"
   ]
  },
  {
   "cell_type": "code",
   "execution_count": null,
   "metadata": {},
   "outputs": [],
   "source": [
    "example_network = ['start-A',\n",
    "                   'start-b',\n",
    "                   'A-c',\n",
    "                   'A-b',\n",
    "                   'b-d',\n",
    "                   'A-end',\n",
    "                   'b-end']"
   ]
  },
  {
   "cell_type": "code",
   "execution_count": null,
   "metadata": {},
   "outputs": [],
   "source": [
    "class CaveNetwork():\n",
    "    def __init__(self, edge_list):\n",
    "        self.large_caves = []\n",
    "        self.small_caves = []\n",
    "        self.edges = []\n",
    "        \n",
    "        for edge in edge_list:\n",
    "            vertices = edge.split('-')\n",
    "            for v in vertices:\n",
    "                if v.upper() == v and v not in self.large_caves:\n",
    "                    self.large_caves.append(v)\n",
    "                if v.upper() != v and v not in self.small_caves:\n",
    "                    self.small_caves.append(v)\n",
    "            v0, v1 = vertices[0], vertices[1]\n",
    "            self.edges.extend([(v0,v1), (v1,v0)])\n",
    "            \n",
    "    def extend_path(self, path, new_vertex):\n",
    "        new_path = [v for v in path]\n",
    "        new_path.append(new_vertex)\n",
    "        return new_path\n",
    "    \n",
    "    def valid_next_small_caves_for_path(self, path, mode='d12s1'):\n",
    "        if mode == 'd12s1':\n",
    "            return [v for v in self.small_caves \n",
    "                    if (path[-1], v) in self.edges \n",
    "                    and v not in path]\n",
    "        elif mode == 'd12s2':\n",
    "            if self.has_repeated_small_cave(path):\n",
    "                return [v for v in self.small_caves \n",
    "                    if (path[-1], v) in self.edges \n",
    "                    and v not in path]\n",
    "            else:\n",
    "                # Haven't yet repeated any small cave, so\n",
    "                # can visit any of them (with an edge)\n",
    "                # Except: don't repeat start \n",
    "                # Assumes pathing logic catches first visit to end!\n",
    "                return [v for v in self.small_caves \n",
    "                        if (path[-1], v) in self.edges \n",
    "                        and v != 'start']\n",
    "        else:\n",
    "            raise ValueError(f'Unexpected mode {mode}')\n",
    "                \n",
    "        \n",
    "    def repeated_small_caves(self, path):\n",
    "        visit_counts = aoc.distinct_counts(path, [v for v in self.small_caves])\n",
    "        return [v for v in visit_counts if visit_counts[v] > 1]\n",
    "        \n",
    "    def has_repeated_small_cave(self, path):\n",
    "        return len(self.repeated_small_caves(path)) > 0\n",
    "            \n",
    "    def find_all_extensions(self, path, mode='d12s1'):\n",
    "        possible_next_small_caves = self.valid_next_small_caves_for_path(path, mode)\n",
    "        possible_next_large_caves = [v for v in self.large_caves if (path[-1], v) in self.edges]\n",
    "        \n",
    "        new_paths = [self.extend_path(path, v) for v in possible_next_small_caves]\n",
    "        new_paths.extend([self.extend_path(path, v) for v in possible_next_large_caves])\n",
    "        return new_paths\n",
    "    \n",
    "    def find_start_to_end(self, mode='d12s1'):\n",
    "        incomplete_paths = deque([['start']])\n",
    "        complete_paths = []\n",
    "        while len(incomplete_paths) > 0:\n",
    "            next_candidate = incomplete_paths.pop()\n",
    "            new_paths = self.find_all_extensions(next_candidate, mode)\n",
    "            incomplete_paths.extend([p for p in new_paths if p[-1]!='end'])\n",
    "            complete_paths.extend([p for p in new_paths if p[-1]=='end'])\n",
    "        return complete_paths\n",
    "            "
   ]
  },
  {
   "cell_type": "code",
   "execution_count": null,
   "metadata": {},
   "outputs": [],
   "source": [
    "example_cave = CaveNetwork(example_network)"
   ]
  },
  {
   "cell_type": "code",
   "execution_count": null,
   "metadata": {},
   "outputs": [],
   "source": [
    "example_cave.find_start_to_end()"
   ]
  },
  {
   "cell_type": "code",
   "execution_count": null,
   "metadata": {},
   "outputs": [],
   "source": [
    "len(example_cave.find_start_to_end())"
   ]
  },
  {
   "cell_type": "code",
   "execution_count": null,
   "metadata": {},
   "outputs": [],
   "source": [
    "full_cave = CaveNetwork(full_network)"
   ]
  },
  {
   "cell_type": "code",
   "execution_count": null,
   "metadata": {},
   "outputs": [],
   "source": [
    "# Star 1\n",
    "len(full_cave.find_start_to_end())"
   ]
  },
  {
   "cell_type": "code",
   "execution_count": null,
   "metadata": {},
   "outputs": [],
   "source": [
    "# Star 2"
   ]
  },
  {
   "cell_type": "code",
   "execution_count": null,
   "metadata": {},
   "outputs": [],
   "source": [
    "len(example_cave.find_start_to_end(mode='d12s2'))"
   ]
  },
  {
   "cell_type": "code",
   "execution_count": null,
   "metadata": {},
   "outputs": [],
   "source": [
    "len(full_cave.find_start_to_end(mode='d12s2'))"
   ]
  },
  {
   "cell_type": "code",
   "execution_count": null,
   "metadata": {},
   "outputs": [],
   "source": []
  }
 ],
 "metadata": {
  "kernelspec": {
   "display_name": "Python 3",
   "language": "python",
   "name": "python3"
  },
  "language_info": {
   "codemirror_mode": {
    "name": "ipython",
    "version": 3
   },
   "file_extension": ".py",
   "mimetype": "text/x-python",
   "name": "python",
   "nbconvert_exporter": "python",
   "pygments_lexer": "ipython3",
   "version": "3.7.3"
  }
 },
 "nbformat": 4,
 "nbformat_minor": 2
}
