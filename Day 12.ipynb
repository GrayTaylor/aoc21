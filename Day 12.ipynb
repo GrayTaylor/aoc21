{
 "cells": [
  {
   "cell_type": "code",
   "execution_count": 28,
   "metadata": {},
   "outputs": [],
   "source": [
    "import aoc\n",
    "import re\n",
    "from collections import deque"
   ]
  },
  {
   "cell_type": "code",
   "execution_count": 2,
   "metadata": {},
   "outputs": [],
   "source": [
    "full_network = aoc.read_file_as_list('inputs/day12.txt')"
   ]
  },
  {
   "cell_type": "code",
   "execution_count": 4,
   "metadata": {},
   "outputs": [],
   "source": [
    "example_network = ['start-A',\n",
    "                   'start-b',\n",
    "                   'A-c',\n",
    "                   'A-b',\n",
    "                   'b-d',\n",
    "                   'A-end',\n",
    "                   'b-end']"
   ]
  },
  {
   "cell_type": "code",
   "execution_count": 25,
   "metadata": {},
   "outputs": [],
   "source": [
    "class CaveNetwork():\n",
    "    def __init__(self, edge_list):\n",
    "        self.large_caves = []\n",
    "        self.small_caves = []\n",
    "        self.edges = []\n",
    "        \n",
    "        for edge in edge_list:\n",
    "            vertices = edge.split('-')\n",
    "            for v in vertices:\n",
    "                if v.upper() == v and v not in self.large_caves:\n",
    "                    self.large_caves.append(v)\n",
    "                if v.upper() != v and v not in self.small_caves:\n",
    "                    self.small_caves.append(v)\n",
    "            v0, v1 = vertices[0], vertices[1]\n",
    "            self.edges.extend([(v0,v1), (v1,v0)])\n",
    "            \n",
    "    def extend_path(self, path, new_vertex):\n",
    "        new_path = [v for v in path]\n",
    "        new_path.append(new_vertex)\n",
    "        return new_path\n",
    "            \n",
    "    def find_all_extensions(self, path):\n",
    "        current_cave = path[-1]\n",
    "        possible_next_small_caves = [v for v in self.small_caves \n",
    "                                     if (current_cave, v) in self.edges and v not in path]\n",
    "        possible_next_large_caves = [v for v in self.large_caves if (current_cave, v) in self.edges]\n",
    "        \n",
    "        new_paths = [self.extend_path(path, v) for v in possible_next_small_caves]\n",
    "        new_paths.extend([self.extend_path(path, v) for v in possible_next_large_caves])\n",
    "        return new_paths\n",
    "            "
   ]
  },
  {
   "cell_type": "code",
   "execution_count": 26,
   "metadata": {},
   "outputs": [],
   "source": [
    "example_cave = CaveNetwork(example_network)"
   ]
  },
  {
   "cell_type": "code",
   "execution_count": 27,
   "metadata": {},
   "outputs": [
    {
     "data": {
      "text/plain": [
       "[['start', 'b'], ['start', 'A']]"
      ]
     },
     "execution_count": 27,
     "metadata": {},
     "output_type": "execute_result"
    }
   ],
   "source": [
    "example_cave.find_all_extensions(['start'])"
   ]
  },
  {
   "cell_type": "code",
   "execution_count": 42,
   "metadata": {},
   "outputs": [],
   "source": [
    "def find_start_to_end(cave_network):\n",
    "    incomplete_paths = deque([['start']])\n",
    "    complete_paths = []\n",
    "    while len(incomplete_paths) > 0:\n",
    "        next_candidate = incomplete_paths.pop()\n",
    "        new_paths = cave_network.find_all_extensions(next_candidate)\n",
    "        incomplete_paths.extend([p for p in new_paths if p[-1]!='end'])\n",
    "        complete_paths.extend([p for p in new_paths if p[-1]=='end'])\n",
    "    return complete_paths\n",
    "        \n",
    "        "
   ]
  },
  {
   "cell_type": "code",
   "execution_count": 43,
   "metadata": {},
   "outputs": [],
   "source": [
    "example_paths = find_start_to_end(example_cave)"
   ]
  },
  {
   "cell_type": "code",
   "execution_count": 44,
   "metadata": {},
   "outputs": [
    {
     "data": {
      "text/plain": [
       "10"
      ]
     },
     "execution_count": 44,
     "metadata": {},
     "output_type": "execute_result"
    }
   ],
   "source": [
    "len(example_paths)"
   ]
  },
  {
   "cell_type": "code",
   "execution_count": 45,
   "metadata": {},
   "outputs": [
    {
     "data": {
      "text/plain": [
       "[['start', 'A', 'end'],\n",
       " ['start', 'A', 'c', 'A', 'end'],\n",
       " ['start', 'A', 'c', 'A', 'b', 'end'],\n",
       " ['start', 'A', 'c', 'A', 'b', 'A', 'end'],\n",
       " ['start', 'A', 'b', 'end'],\n",
       " ['start', 'A', 'b', 'A', 'end'],\n",
       " ['start', 'A', 'b', 'A', 'c', 'A', 'end'],\n",
       " ['start', 'b', 'end'],\n",
       " ['start', 'b', 'A', 'end'],\n",
       " ['start', 'b', 'A', 'c', 'A', 'end']]"
      ]
     },
     "execution_count": 45,
     "metadata": {},
     "output_type": "execute_result"
    }
   ],
   "source": [
    "example_paths"
   ]
  },
  {
   "cell_type": "code",
   "execution_count": 46,
   "metadata": {},
   "outputs": [],
   "source": [
    "full_cave = CaveNetwork(full_network)"
   ]
  },
  {
   "cell_type": "code",
   "execution_count": 48,
   "metadata": {},
   "outputs": [
    {
     "data": {
      "text/plain": [
       "5212"
      ]
     },
     "execution_count": 48,
     "metadata": {},
     "output_type": "execute_result"
    }
   ],
   "source": [
    "# Star 1\n",
    "len(find_start_to_end(full_cave))"
   ]
  },
  {
   "cell_type": "code",
   "execution_count": null,
   "metadata": {},
   "outputs": [],
   "source": []
  }
 ],
 "metadata": {
  "kernelspec": {
   "display_name": "Python 3",
   "language": "python",
   "name": "python3"
  },
  "language_info": {
   "codemirror_mode": {
    "name": "ipython",
    "version": 3
   },
   "file_extension": ".py",
   "mimetype": "text/x-python",
   "name": "python",
   "nbconvert_exporter": "python",
   "pygments_lexer": "ipython3",
   "version": "3.7.3"
  }
 },
 "nbformat": 4,
 "nbformat_minor": 2
}
