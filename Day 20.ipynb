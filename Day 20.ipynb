{
 "cells": [
  {
   "cell_type": "code",
   "execution_count": null,
   "metadata": {},
   "outputs": [],
   "source": [
    "example_iaa = '..#.#..#####.#.#.#.###.##.....###.##.#..###.####..#####..#....#..#..##..###..######.###...####..#..#####..##..#.#####...##.#.#..#.##..#.#......#.###.######.###.####...#.##.##..#..#..#####.....#.#....###..#.##......#.....#..#..#..##..#...##.######.####.####.#.#...#.......#..#.#.#...####.##.#......#..#...##.#.##..#...##.#.##..###.#......#.#.......#.#.#.####.###.##...#.....####.#..#..#.##.#....##..#.####....##...##..#...#......#.#.......#.......##..####..#...#.#.#...##..#.#..###..#####........#..####......#..#'"
   ]
  },
  {
   "cell_type": "code",
   "execution_count": null,
   "metadata": {},
   "outputs": [],
   "source": [
    "len(example_iaa)"
   ]
  },
  {
   "cell_type": "code",
   "execution_count": null,
   "metadata": {},
   "outputs": [],
   "source": [
    "example_image = ['#..#.',\n",
    "'#....',\n",
    "'##..#',\n",
    "'..#..',\n",
    "'..###']\n",
    "\n",
    "example_image = [[c for c in r] for r in example_image]\n",
    "example_image"
   ]
  },
  {
   "cell_type": "code",
   "execution_count": null,
   "metadata": {},
   "outputs": [],
   "source": [
    "class PixelImage:\n",
    "    def __init__(self, input_image, pad_symbol='.'):\n",
    "        self.input_image = input_image\n",
    "        self.pad_symbol = pad_symbol\n",
    "        self.image_field = {}\n",
    "        self.num_rows = len(input_image)\n",
    "        self.num_cols = max(len(r) for r in input_image)\n",
    "        for i in range(self.num_rows):\n",
    "            for j, val in enumerate(input_image[i]):\n",
    "                self.image_field[(i,j)] = val\n",
    "        \n",
    "    def pixel_at_point(self, point):\n",
    "        return self.image_field.get(point, self.pad_symbol)\n",
    "    \n",
    "    def square_at_point(self, point):\n",
    "        x = point[0]\n",
    "        y = point[1]\n",
    "        grid = [[self.pixel_at_point((i,j)) for j in [y-1, y, y+1]] \n",
    "                for i in [x-1, x, x+1]]\n",
    "        return grid\n",
    "    \n",
    "    def index_at_point(self, point):\n",
    "        grid = self.square_at_point(point)\n",
    "        pixels = ''.join([''.join(r) for r in grid])\n",
    "        digits = ''.join(['0' if p=='.' else '1' for p in pixels])\n",
    "        return int(digits, 2)\n",
    "    \n",
    "    def render(self):\n",
    "        rows = [''.join(r) for r in self.input_image]\n",
    "        for r in rows:\n",
    "            print(r)\n",
    "            \n",
    "    def enhance(self, algorithm):\n",
    "        new_rows = [[algorithm[self.index_at_point((i,j))] for j in range(self.num_cols)] \n",
    "                    for i in range(self.num_rows)]\n",
    "        return PixelImage(new_rows)\n",
    "    \n",
    "    def lit_pixels(self):\n",
    "        return sum([1 for _,v in self.image_field.items() if v == '#'])\n",
    "    "
   ]
  },
  {
   "cell_type": "code",
   "execution_count": null,
   "metadata": {},
   "outputs": [],
   "source": [
    "test = PixelImage(example_image)\n",
    "test.render()"
   ]
  },
  {
   "cell_type": "code",
   "execution_count": null,
   "metadata": {},
   "outputs": [],
   "source": [
    "test.image_field.get((-1,-1),'.')"
   ]
  },
  {
   "cell_type": "code",
   "execution_count": null,
   "metadata": {},
   "outputs": [],
   "source": [
    "test.square_at_point((2,2))"
   ]
  },
  {
   "cell_type": "code",
   "execution_count": null,
   "metadata": {},
   "outputs": [],
   "source": [
    "x = 2\n",
    "y = 3\n",
    "[[(i,j) for j in [y-1, y, y+1]] for i in [x-1, x, x+1]]"
   ]
  },
  {
   "cell_type": "code",
   "execution_count": null,
   "metadata": {},
   "outputs": [],
   "source": [
    "example_iaa[test.index_at_point((2,2))]"
   ]
  },
  {
   "cell_type": "code",
   "execution_count": null,
   "metadata": {},
   "outputs": [],
   "source": [
    "example_image = ['...............',\n",
    "                    '...............',\n",
    "                    '...............',\n",
    "                    '...............',\n",
    "                    '...............',\n",
    "                    '.....#..#......',\n",
    "                    '.....#.........',\n",
    "                    '.....##..#.....',\n",
    "                    '.......#.......',\n",
    "                    '.......###.....',\n",
    "                    '...............',\n",
    "                    '...............',\n",
    "                    '...............',\n",
    "                    '...............',\n",
    "                    '...............']"
   ]
  },
  {
   "cell_type": "code",
   "execution_count": null,
   "metadata": {},
   "outputs": [],
   "source": [
    "example_image = [[c for c in r] for r in example_image]\n",
    "example_image"
   ]
  },
  {
   "cell_type": "code",
   "execution_count": null,
   "metadata": {},
   "outputs": [],
   "source": [
    "def pad_image(image, pad_symbol='.'):\n",
    "    num_cols = len(image[0])\n",
    "    rows = [[pad_symbol for _ in range(num_cols + 2)]]\n",
    "    for r in image:\n",
    "        new_r = [pad_symbol]\n",
    "        new_r.extend(r)\n",
    "        new_r.append(pad_symbol)\n",
    "        rows.append(new_r)\n",
    "    rows.append([pad_symbol for _ in range(num_cols + 2)])\n",
    "    return rows"
   ]
  },
  {
   "cell_type": "code",
   "execution_count": null,
   "metadata": {},
   "outputs": [],
   "source": [
    "full_example = PixelImage(pad_image(example_image))"
   ]
  },
  {
   "cell_type": "code",
   "execution_count": null,
   "metadata": {},
   "outputs": [],
   "source": [
    "full_example.render()"
   ]
  },
  {
   "cell_type": "code",
   "execution_count": null,
   "metadata": {},
   "outputs": [],
   "source": [
    "step1 = full_example.enhance(example_iaa)"
   ]
  },
  {
   "cell_type": "code",
   "execution_count": null,
   "metadata": {},
   "outputs": [],
   "source": [
    "step1.render()"
   ]
  },
  {
   "cell_type": "code",
   "execution_count": null,
   "metadata": {},
   "outputs": [],
   "source": [
    "step2 = PixelImage(pad_image(step1.input_image)).enhance(example_iaa)\n",
    "step2.render()"
   ]
  },
  {
   "cell_type": "code",
   "execution_count": null,
   "metadata": {},
   "outputs": [],
   "source": [
    "step2.lit_pixels()"
   ]
  },
  {
   "cell_type": "code",
   "execution_count": null,
   "metadata": {},
   "outputs": [],
   "source": [
    "import aoc"
   ]
  },
  {
   "cell_type": "code",
   "execution_count": null,
   "metadata": {},
   "outputs": [],
   "source": [
    "day20 = aoc.read_file_as_list('inputs/day20.txt')"
   ]
  },
  {
   "cell_type": "code",
   "execution_count": null,
   "metadata": {},
   "outputs": [],
   "source": [
    "day20_algorithm = day20[0]"
   ]
  },
  {
   "cell_type": "code",
   "execution_count": null,
   "metadata": {},
   "outputs": [],
   "source": [
    "day20_list = day20[2:]\n",
    "day20_image = [[c for c in r] for r in day20_list]\n",
    "day20_grid = PixelImage(pad_image(pad_image(day20_image)))\n",
    "day20_grid.render()"
   ]
  },
  {
   "cell_type": "code",
   "execution_count": null,
   "metadata": {},
   "outputs": [],
   "source": [
    "step1 = day20_grid.enhance(day20_algorithm)"
   ]
  },
  {
   "cell_type": "code",
   "execution_count": null,
   "metadata": {},
   "outputs": [],
   "source": [
    "step1.render()"
   ]
  },
  {
   "cell_type": "code",
   "execution_count": null,
   "metadata": {},
   "outputs": [],
   "source": [
    "step2 = PixelImage(pad_image(pad_image(step1.input_image, pad_symbol='#'),pad_symbol='#'), pad_symbol='#')\n",
    "step2.render()\n",
    "step2.lit_pixels()"
   ]
  },
  {
   "cell_type": "code",
   "execution_count": null,
   "metadata": {},
   "outputs": [],
   "source": [
    "step3 = step2.enhance(day20_algorithm)\n",
    "step3.render()"
   ]
  },
  {
   "cell_type": "code",
   "execution_count": null,
   "metadata": {},
   "outputs": [],
   "source": [
    "step3.lit_pixels()"
   ]
  },
  {
   "cell_type": "code",
   "execution_count": null,
   "metadata": {},
   "outputs": [],
   "source": [
    "def dotstep(pixel_image, algorithm):\n",
    "    new_image = PixelImage(pad_image(pad_image(pixel_image.input_image)))\n",
    "    return new_image.enhance(algorithm)"
   ]
  },
  {
   "cell_type": "code",
   "execution_count": null,
   "metadata": {},
   "outputs": [],
   "source": [
    "def hashstep(pixel_image, algorithm):\n",
    "    new_image = PixelImage(pad_image(pad_image(pixel_image.input_image, pad_symbol='#'),pad_symbol='#'), pad_symbol='#')\n",
    "    return new_image.enhance(algorithm)"
   ]
  },
  {
   "cell_type": "code",
   "execution_count": null,
   "metadata": {},
   "outputs": [],
   "source": [
    "day20image = PixelImage(day20_image)"
   ]
  },
  {
   "cell_type": "code",
   "execution_count": null,
   "metadata": {},
   "outputs": [],
   "source": [
    "def iter(pixel_image, algorithm, num_steps):\n",
    "    assert num_steps % 2 == 0\n",
    "    for k in range(int(num_steps/2)):\n",
    "        pixel_image = dotstep(pixel_image, algorithm)\n",
    "        pixel_image = hashstep(pixel_image, algorithm)\n",
    "    return pixel_image"
   ]
  },
  {
   "cell_type": "code",
   "execution_count": null,
   "metadata": {},
   "outputs": [],
   "source": [
    "direct1 = iter(day20image, day20_algorithm, 2)"
   ]
  },
  {
   "cell_type": "code",
   "execution_count": null,
   "metadata": {},
   "outputs": [],
   "source": [
    "direct1.lit_pixels()"
   ]
  },
  {
   "cell_type": "code",
   "execution_count": null,
   "metadata": {},
   "outputs": [],
   "source": [
    "direct2 = iter(day20image, day20_algorithm, 50)"
   ]
  },
  {
   "cell_type": "code",
   "execution_count": null,
   "metadata": {},
   "outputs": [],
   "source": [
    "direct2.lit_pixels()"
   ]
  },
  {
   "cell_type": "code",
   "execution_count": null,
   "metadata": {},
   "outputs": [],
   "source": []
  }
 ],
 "metadata": {
  "kernelspec": {
   "display_name": "Python 3",
   "language": "python",
   "name": "python3"
  },
  "language_info": {
   "codemirror_mode": {
    "name": "ipython",
    "version": 3
   },
   "file_extension": ".py",
   "mimetype": "text/x-python",
   "name": "python",
   "nbconvert_exporter": "python",
   "pygments_lexer": "ipython3",
   "version": "3.7.3"
  }
 },
 "nbformat": 4,
 "nbformat_minor": 2
}
