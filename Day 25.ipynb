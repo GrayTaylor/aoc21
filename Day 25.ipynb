{
 "cells": [
  {
   "cell_type": "code",
   "execution_count": null,
   "metadata": {},
   "outputs": [],
   "source": [
    "import aoc"
   ]
  },
  {
   "cell_type": "code",
   "execution_count": null,
   "metadata": {},
   "outputs": [],
   "source": [
    "example = ['..........',\n",
    "           '.>v....v..',\n",
    "           '.......>..',\n",
    "           '..........']"
   ]
  },
  {
   "cell_type": "code",
   "execution_count": null,
   "metadata": {},
   "outputs": [],
   "source": [
    "test_grid = aoc.ValueGrid(example)"
   ]
  },
  {
   "cell_type": "code",
   "execution_count": null,
   "metadata": {},
   "outputs": [],
   "source": [
    "def target_location_right(point, grid):\n",
    "    x = point[0]\n",
    "    y = point[1]\n",
    "    if y == grid.num_cols - 1:\n",
    "        return (x, 0)\n",
    "    else:\n",
    "        return (x, y + 1)\n",
    "    \n",
    "def target_location_down(point, grid):\n",
    "    x = point[0]\n",
    "    y = point[1]\n",
    "    if x == grid.num_rows - 1:\n",
    "        return (0, y)\n",
    "    else:\n",
    "        return (x + 1, y)"
   ]
  },
  {
   "cell_type": "code",
   "execution_count": null,
   "metadata": {},
   "outputs": [],
   "source": [
    "for p in test_grid.points():\n",
    "    if test_grid.value_at_point(p) == '>':\n",
    "        print(p, target_location_right(p, test_grid), is_empty(target_location_right(p, test_grid), test_grid))"
   ]
  },
  {
   "cell_type": "code",
   "execution_count": null,
   "metadata": {},
   "outputs": [],
   "source": [
    "def step(grid):\n",
    "    sources_to_clear = []\n",
    "    targets_to_fill = []\n",
    "    num_moves = 0\n",
    "    \n",
    "    for p in grid.points():\n",
    "        if grid.value_at_point(p) == '>':\n",
    "            target = target_location_right(p, grid)\n",
    "            if grid.value_at_point(target) == '.':\n",
    "                sources_to_clear.append(p)\n",
    "                targets_to_fill.append(target)\n",
    "                num_moves += 1\n",
    "    \n",
    "    for p in sources_to_clear:\n",
    "        grid.set_value_at_point(p, '.')\n",
    "    for p in targets_to_fill:\n",
    "        grid.set_value_at_point(p, '>')\n",
    "        \n",
    "\n",
    "    sources_to_clear = []\n",
    "    targets_to_fill = []\n",
    "    for p in grid.points():\n",
    "        if grid.value_at_point(p) == 'v':\n",
    "            target = target_location_down(p, grid)\n",
    "            if grid.value_at_point(target) == '.':\n",
    "                sources_to_clear.append(p)\n",
    "                targets_to_fill.append(target)\n",
    "                num_moves += 1\n",
    "    \n",
    "    for p in sources_to_clear:\n",
    "        grid.set_value_at_point(p, '.')\n",
    "    for p in targets_to_fill:\n",
    "        grid.set_value_at_point(p, 'v')\n",
    "        \n",
    "    return grid, num_moves"
   ]
  },
  {
   "cell_type": "code",
   "execution_count": null,
   "metadata": {},
   "outputs": [],
   "source": [
    "def move_until_static(grid):\n",
    "    grid.reset()\n",
    "    keep_moving = True\n",
    "    num_steps = 0\n",
    "    while keep_moving:\n",
    "        num_steps += 1\n",
    "        grid, num_moves = step(grid)\n",
    "        if num_moves == 0:\n",
    "            keep_moving = False\n",
    "        print(num_steps)\n",
    "    return num_steps"
   ]
  },
  {
   "cell_type": "code",
   "execution_count": null,
   "metadata": {},
   "outputs": [],
   "source": [
    "new_grid = step(test_grid)"
   ]
  },
  {
   "cell_type": "code",
   "execution_count": null,
   "metadata": {},
   "outputs": [],
   "source": [
    "new_grid.view_grid()"
   ]
  },
  {
   "cell_type": "code",
   "execution_count": null,
   "metadata": {},
   "outputs": [],
   "source": [
    "large_example = ['v...>>.vv>',\n",
    "                '.vv>>.vv..',\n",
    "                '>>.>v>...v',\n",
    "                '>>v>>.>.v.',\n",
    "                'v>v.vv.v..',\n",
    "                '>.>>..v...',\n",
    "                '.vv..>.>v.',\n",
    "                'v.v..>>v.v',\n",
    "                '....v..v.>']"
   ]
  },
  {
   "cell_type": "code",
   "execution_count": null,
   "metadata": {},
   "outputs": [],
   "source": [
    "large_grid = aoc.ValueGrid(large_example)"
   ]
  },
  {
   "cell_type": "code",
   "execution_count": null,
   "metadata": {},
   "outputs": [],
   "source": [
    "move_until_static(large_grid)"
   ]
  },
  {
   "cell_type": "code",
   "execution_count": null,
   "metadata": {},
   "outputs": [],
   "source": [
    "day25 = aoc.read_file_as_list('inputs/day25.txt')"
   ]
  },
  {
   "cell_type": "code",
   "execution_count": null,
   "metadata": {},
   "outputs": [],
   "source": [
    "day25_grid = aoc.ValueGrid(day25)"
   ]
  },
  {
   "cell_type": "code",
   "execution_count": null,
   "metadata": {},
   "outputs": [],
   "source": [
    "move_until_static(day25_grid)"
   ]
  },
  {
   "cell_type": "code",
   "execution_count": null,
   "metadata": {},
   "outputs": [],
   "source": []
  }
 ],
 "metadata": {
  "kernelspec": {
   "display_name": "Python 3",
   "language": "python",
   "name": "python3"
  },
  "language_info": {
   "codemirror_mode": {
    "name": "ipython",
    "version": 3
   },
   "file_extension": ".py",
   "mimetype": "text/x-python",
   "name": "python",
   "nbconvert_exporter": "python",
   "pygments_lexer": "ipython3",
   "version": "3.7.3"
  }
 },
 "nbformat": 4,
 "nbformat_minor": 2
}
