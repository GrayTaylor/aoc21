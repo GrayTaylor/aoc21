{
 "cells": [
  {
   "cell_type": "code",
   "execution_count": null,
   "metadata": {},
   "outputs": [],
   "source": [
    "import re\n",
    "import aoc_helpers as aoc\n",
    "import navigation\n",
    "import diagnostics\n",
    "import bingo"
   ]
  },
  {
   "cell_type": "markdown",
   "metadata": {},
   "source": [
    "# Day 1"
   ]
  },
  {
   "cell_type": "code",
   "execution_count": null,
   "metadata": {},
   "outputs": [],
   "source": [
    "d1_example_list = [199, 200, 208, 210, 200, 207, 240, 269, 260, 263]"
   ]
  },
  {
   "cell_type": "code",
   "execution_count": null,
   "metadata": {},
   "outputs": [],
   "source": [
    "def num_increases(sonar_readings):\n",
    "    verdict = [i for i in range(len(sonar_readings) - 1) \n",
    "               if sonar_readings[i] < sonar_readings[i+1]]\n",
    "    return len(verdict)"
   ]
  },
  {
   "cell_type": "code",
   "execution_count": null,
   "metadata": {},
   "outputs": [],
   "source": [
    "assert num_increases(d1_example_list) == 7"
   ]
  },
  {
   "cell_type": "code",
   "execution_count": null,
   "metadata": {},
   "outputs": [],
   "source": [
    "input_file = 'inputs/day1_1.txt'\n",
    "star1_list = [int(x) \n",
    "              for x in aoc.read_file_as_list(input_file)]"
   ]
  },
  {
   "cell_type": "code",
   "execution_count": null,
   "metadata": {},
   "outputs": [],
   "source": [
    "# First star answer\n",
    "print(num_increases(star1_list))"
   ]
  },
  {
   "cell_type": "code",
   "execution_count": null,
   "metadata": {},
   "outputs": [],
   "source": [
    "def sliding_window(sonar_readings, window_size):\n",
    "    num_sliding_windows = len(sonar_readings) + 1 - window_size\n",
    "    return [sum(sonar_readings[i:i + window_size]) \n",
    "            for i in range(num_sliding_windows)]"
   ]
  },
  {
   "cell_type": "code",
   "execution_count": null,
   "metadata": {},
   "outputs": [],
   "source": [
    "# Verify the example\n",
    "expected_windows = [607, 618, 618, 617, 647, 716, 769, 792]\n",
    "computed_windows = sliding_window(d1_example_list, 3)\n",
    "assert  computed_windows == expected_windows\n",
    "assert num_increases(expected_windows) == 5"
   ]
  },
  {
   "cell_type": "code",
   "execution_count": null,
   "metadata": {},
   "outputs": [],
   "source": [
    "# Second star answer\n",
    "print(num_increases(sliding_window(star1_list, 3)))"
   ]
  },
  {
   "cell_type": "markdown",
   "metadata": {},
   "source": [
    "# Day 2"
   ]
  },
  {
   "cell_type": "code",
   "execution_count": null,
   "metadata": {},
   "outputs": [],
   "source": [
    "# Grab entire file as one string\n",
    "filename = 'inputs/day2_1.txt'\n",
    "raw_directions = aoc.read_file_as_string(filename)"
   ]
  },
  {
   "cell_type": "markdown",
   "metadata": {},
   "source": [
    "## Star 1"
   ]
  },
  {
   "cell_type": "code",
   "execution_count": null,
   "metadata": {},
   "outputs": [],
   "source": [
    "# Process\n",
    "directions = navigation.directions_from_string(raw_directions)"
   ]
  },
  {
   "cell_type": "code",
   "execution_count": null,
   "metadata": {},
   "outputs": [],
   "source": [
    "#horizontal is cumulative effect of forward steps\n",
    "horizontal = sum([d[1] for d in directions if d[0]=='forward'])\n",
    "horizontal"
   ]
  },
  {
   "cell_type": "code",
   "execution_count": null,
   "metadata": {},
   "outputs": [],
   "source": [
    "#depth is net cumulative of total descent and ascent \n",
    "# (provided depth never instructed to go negative; not handled)\n",
    "depth = sum([d[1] for d in directions if d[0]=='down']) - sum([d[1] for d in directions if d[0]=='up'])\n",
    "depth"
   ]
  },
  {
   "cell_type": "code",
   "execution_count": null,
   "metadata": {},
   "outputs": [],
   "source": [
    "# First star answer\n",
    "print(horizontal * depth)"
   ]
  },
  {
   "cell_type": "markdown",
   "metadata": {},
   "source": [
    "## Star 2"
   ]
  },
  {
   "cell_type": "code",
   "execution_count": null,
   "metadata": {},
   "outputs": [],
   "source": [
    "# Second star answer (and repeat of first, by tracing route rather than cumulative counts)\n",
    "for mode in ['d2s1', 'd2s2']:\n",
    "    journey = navigation.generate_journey(directions, mode)\n",
    "    destination = journey[-1]\n",
    "    solution = destination[0] * destination[1]\n",
    "    print(f'Solution for star {mode[-1]} is {solution}')"
   ]
  },
  {
   "cell_type": "markdown",
   "metadata": {},
   "source": [
    "# Day 3"
   ]
  },
  {
   "cell_type": "code",
   "execution_count": null,
   "metadata": {},
   "outputs": [],
   "source": [
    "d3_example_input = ['00100', '11110', '10110', '10111',\n",
    "                    '10101', '01111', '00111', '11100',\n",
    "                    '10000', '11001', '00010', '01010']"
   ]
  },
  {
   "cell_type": "code",
   "execution_count": null,
   "metadata": {},
   "outputs": [],
   "source": [
    "d3_full_input = aoc.read_file_as_list('inputs/day3_1.txt')\n",
    "\n",
    "# preview\n",
    "d3_full_input[:5]"
   ]
  },
  {
   "cell_type": "markdown",
   "metadata": {},
   "source": [
    "## Star 1"
   ]
  },
  {
   "cell_type": "code",
   "execution_count": null,
   "metadata": {},
   "outputs": [],
   "source": [
    "assert diagnostics.rate(d3_example_input, 'gamma') == 22\n",
    "assert diagnostics.rate(d3_example_input, 'epsilon') == 9"
   ]
  },
  {
   "cell_type": "code",
   "execution_count": null,
   "metadata": {},
   "outputs": [],
   "source": [
    "# Star 1 solution\n",
    "print(diagnostics.rate(d3_full_input, 'gamma') * diagnostics.rate(d3_full_input, 'epsilon'))"
   ]
  },
  {
   "cell_type": "markdown",
   "metadata": {},
   "source": [
    "## Star 2"
   ]
  },
  {
   "cell_type": "code",
   "execution_count": null,
   "metadata": {},
   "outputs": [],
   "source": [
    "assert diagnostics.rating(d3_example_input, 'oxygen_generator') == 23\n",
    "assert diagnostics.rating(d3_example_input, 'co2_scrubber') == 10"
   ]
  },
  {
   "cell_type": "code",
   "execution_count": null,
   "metadata": {},
   "outputs": [],
   "source": [
    "oxygen = diagnostics.rating(d3_full_input, 'oxygen_generator', verbose=True)"
   ]
  },
  {
   "cell_type": "code",
   "execution_count": null,
   "metadata": {},
   "outputs": [],
   "source": [
    "co2 = diagnostics.rating(d3_full_input, 'co2_scrubber', verbose=True)"
   ]
  },
  {
   "cell_type": "code",
   "execution_count": null,
   "metadata": {},
   "outputs": [],
   "source": [
    "# Star 2 solution\n",
    "print(oxygen * co2)"
   ]
  },
  {
   "cell_type": "markdown",
   "metadata": {},
   "source": [
    "# Day 4"
   ]
  },
  {
   "cell_type": "code",
   "execution_count": null,
   "metadata": {},
   "outputs": [],
   "source": [
    "example_calls = [7,4,9,5,11,17,23,2,0,14,21,24,10,16,13,6,15,25,12,22,18,20,8,19,3,26,1]"
   ]
  },
  {
   "cell_type": "code",
   "execution_count": null,
   "metadata": {},
   "outputs": [],
   "source": [
    "# Set up example boards\n",
    "\n",
    "example_board1 = [[22, 13, 17, 11,  0],\n",
    " [8,  2, 23,  4, 24],\n",
    "[21,  9, 14, 16,  7],\n",
    "[6, 10,  3, 18,  5],\n",
    " [1, 12, 20, 15, 19]]\n",
    "\n",
    "example_board2 = [[3, 15,  0,  2, 22],\n",
    " [9, 18, 13, 17,  5],\n",
    "[19,  8,  7, 25, 23],\n",
    "[20, 11, 10, 24,  4],\n",
    "[14, 21, 16, 12,  6]]\n",
    "\n",
    "example_board3 = [[14, 21, 17, 24,  4],\n",
    "[10, 16, 15,  9, 19],\n",
    "[18,  8, 23, 26, 20],\n",
    "[22, 11, 13,  6,  5],\n",
    "[2,  0, 12,  3,  7]]\n",
    "\n",
    "example_inputs = [example_board1, example_board2, example_board3]\n",
    "example_bingo_boards = [bingo.bingo_board(e) for e in example_inputs]"
   ]
  },
  {
   "cell_type": "code",
   "execution_count": null,
   "metadata": {},
   "outputs": [],
   "source": [
    "# Get full data set\n",
    "all_input = aoc.read_file_as_list_of_lists('inputs/day4_1.txt')"
   ]
  },
  {
   "cell_type": "code",
   "execution_count": null,
   "metadata": {},
   "outputs": [],
   "source": [
    "calls = [int(x) for x in all_input[0]]\n",
    "print(calls)"
   ]
  },
  {
   "cell_type": "code",
   "execution_count": null,
   "metadata": {},
   "outputs": [],
   "source": [
    "# Generate boards\n",
    "num_boards = int((len(all_input) - 1) / 6)\n",
    "num_boards\n",
    "all_boards = []\n",
    "for b in range(num_boards):\n",
    "    board_input_data = all_input[2 + b * 6 : 1 + (b + 1) * 6]\n",
    "    board_data = [[int(x) for x in re.findall(r'(\\d+)', row[0])] for row in board_input_data]\n",
    "    all_boards.append(bingo.bingo_board(board_data))"
   ]
  },
  {
   "cell_type": "markdown",
   "metadata": {},
   "source": [
    "## Star 1"
   ]
  },
  {
   "cell_type": "code",
   "execution_count": null,
   "metadata": {},
   "outputs": [],
   "source": [
    "# verify score of first winning board, and review game session\n",
    "assert bingo.score_winning_board(example_calls, example_bingo_boards) == 4512"
   ]
  },
  {
   "cell_type": "code",
   "execution_count": null,
   "metadata": {},
   "outputs": [],
   "source": [
    "# Star 1 solution\n",
    "print(bingo.score_winning_board(calls, all_boards))"
   ]
  },
  {
   "cell_type": "markdown",
   "metadata": {},
   "source": [
    "## Star 2"
   ]
  },
  {
   "cell_type": "code",
   "execution_count": null,
   "metadata": {},
   "outputs": [],
   "source": [
    "# verify score of last winning board, and review elimination process\n",
    "assert bingo.score_last_winning_board(example_calls, example_bingo_boards, verbose=True) == 1924"
   ]
  },
  {
   "cell_type": "code",
   "execution_count": null,
   "metadata": {},
   "outputs": [],
   "source": [
    "# Star 2 solution\n",
    "bingo.score_last_winning_board(calls, all_boards)"
   ]
  },
  {
   "cell_type": "code",
   "execution_count": null,
   "metadata": {},
   "outputs": [],
   "source": []
  }
 ],
 "metadata": {
  "kernelspec": {
   "display_name": "Python 3",
   "language": "python",
   "name": "python3"
  },
  "language_info": {
   "codemirror_mode": {
    "name": "ipython",
    "version": 3
   },
   "file_extension": ".py",
   "mimetype": "text/x-python",
   "name": "python",
   "nbconvert_exporter": "python",
   "pygments_lexer": "ipython3",
   "version": "3.7.3"
  }
 },
 "nbformat": 4,
 "nbformat_minor": 2
}
