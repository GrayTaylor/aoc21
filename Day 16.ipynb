{
 "cells": [
  {
   "cell_type": "code",
   "execution_count": null,
   "metadata": {},
   "outputs": [],
   "source": [
    "import aoc"
   ]
  },
  {
   "cell_type": "code",
   "execution_count": null,
   "metadata": {},
   "outputs": [],
   "source": [
    "example_hex = 'D2FE28'"
   ]
  },
  {
   "cell_type": "code",
   "execution_count": null,
   "metadata": {},
   "outputs": [],
   "source": [
    "hex_as_bin =  {'0': '0000', '1': '0001', '2': '0010', '3': '0011',\n",
    "               '4': '0100','5': '0101','6': '0110','7': '0111',\n",
    "               '8': '1000','9': '1001','A': '1010','B': '1011',\n",
    "               'C': '1100','D': '1101','E': '1110','F': '1111'}"
   ]
  },
  {
   "cell_type": "code",
   "execution_count": null,
   "metadata": {},
   "outputs": [],
   "source": [
    "def hex_to_bin(hex_string):\n",
    "    return ''.join(hex_as_bin[h] for h in hex_string)\n"
   ]
  },
  {
   "cell_type": "code",
   "execution_count": null,
   "metadata": {},
   "outputs": [],
   "source": [
    "example_bin = hex_to_bin(example_hex)"
   ]
  },
  {
   "cell_type": "code",
   "execution_count": null,
   "metadata": {},
   "outputs": [],
   "source": [
    "example_bin"
   ]
  },
  {
   "cell_type": "code",
   "execution_count": null,
   "metadata": {},
   "outputs": [],
   "source": [
    "def get_next_packet_and_tail(packet_string):\n",
    "    version = int(packet_string[:3], 2)\n",
    "    type_ID = int(packet_string[3:6], 2)\n",
    "    #print(f'Running on {packet_string}')\n",
    "    if type_ID == 4:\n",
    "        locator = 6\n",
    "        bits_of_literal = ''\n",
    "        while packet_string[locator] == '1':\n",
    "            bits_of_literal += packet_string[locator + 1 :locator + 5]\n",
    "            locator += 5\n",
    "        # one more set of bits for literal\n",
    "        bits_of_literal += packet_string[locator + 1 :locator + 5]\n",
    "        locator += 5\n",
    "        literal = int(bits_of_literal, 2)\n",
    "        print(f'This packet is a literal with bits {bits_of_literal}')\n",
    "        packet = {'version': version, 'type_ID': type_ID, 'type': 'literal',\n",
    "                  'literal': literal}\n",
    "        tail = packet_string[locator:]\n",
    "        return packet, tail\n",
    "    else:\n",
    "        length_type_ID = packet_string[6]\n",
    "        print(type_ID, length_type_ID)\n",
    "        if length_type_ID == '0':\n",
    "            sub_packet_length = int(packet_string[7:22], 2)\n",
    "            print(f'Next {sub_packet_length} bits are subpackets')\n",
    "            sub_packet_bits = packet_string[22: 22 + sub_packet_length]\n",
    "            print(f'those bits are {sub_packet_bits}')\n",
    "            sub_packets = get_packets(sub_packet_bits)\n",
    "            packet = {'version': version, 'type_ID': type_ID, 'type': 'operator',\n",
    "                      'sub_packets': sub_packets}\n",
    "            tail = packet_string[22 + sub_packet_length:]\n",
    "            return packet, tail\n",
    "        else:\n",
    "            num_sub_packets = int(packet_string[7:18], 2)\n",
    "            print(f'This operator has {num_sub_packets} sub_packets')\n",
    "            tail = packet_string[18:]\n",
    "            sub_packets = []\n",
    "            for k in range(num_sub_packets):\n",
    "                next_sub_packet, tail = get_next_packet_and_tail(tail)\n",
    "                sub_packets.append(next_sub_packet)\n",
    "                print(f'sub packet {k} is {next_sub_packet} leaving tail {tail}')\n",
    "            packet = {'version': version, 'type_ID': type_ID, 'type': 'operator',\n",
    "                      'sub_packets': sub_packets}\n",
    "            return packet, tail\n",
    "    "
   ]
  },
  {
   "cell_type": "code",
   "execution_count": null,
   "metadata": {},
   "outputs": [],
   "source": [
    "def get_packets(packet_string):\n",
    "    packets = []\n",
    "    while len(packet_string) >= 11:\n",
    "        new_packet, packet_string = get_next_packet_and_tail(packet_string)\n",
    "        packets.append(new_packet)\n",
    "    return packets\n",
    "        "
   ]
  },
  {
   "cell_type": "code",
   "execution_count": null,
   "metadata": {},
   "outputs": [],
   "source": [
    "get_packets(example_bin)"
   ]
  },
  {
   "cell_type": "code",
   "execution_count": null,
   "metadata": {},
   "outputs": [],
   "source": [
    "get_packets('00111000000000000110111101000101001010010001001000000000')"
   ]
  },
  {
   "cell_type": "code",
   "execution_count": null,
   "metadata": {},
   "outputs": [],
   "source": [
    "A='11010001010'\n",
    "B= '010100100010010' "
   ]
  },
  {
   "cell_type": "code",
   "execution_count": null,
   "metadata": {},
   "outputs": [],
   "source": [
    "get_packets('11010001010010100100010010')"
   ]
  },
  {
   "cell_type": "code",
   "execution_count": null,
   "metadata": {},
   "outputs": [],
   "source": [
    "get_next_packet_and_tail('11101110000000001101010000001100100000100011000001100000')"
   ]
  },
  {
   "cell_type": "code",
   "execution_count": null,
   "metadata": {},
   "outputs": [],
   "source": [
    "example_1 = hex_to_bin('8A004A801A8002F478')"
   ]
  },
  {
   "cell_type": "code",
   "execution_count": null,
   "metadata": {},
   "outputs": [],
   "source": [
    "packets1 = get_packets(example_1)"
   ]
  },
  {
   "cell_type": "code",
   "execution_count": null,
   "metadata": {},
   "outputs": [],
   "source": [
    "def version_sum(packet):\n",
    "    if packet['type'] == 'literal':\n",
    "        return packet['version']\n",
    "    elif packet['type'] == 'operator':\n",
    "        return packet['version'] + sum([version_sum(p) for p in packet['sub_packets']])"
   ]
  },
  {
   "cell_type": "code",
   "execution_count": null,
   "metadata": {},
   "outputs": [],
   "source": [
    "def packets_version_sum(packets):\n",
    "    return sum([version_sum(p) for p in packets])"
   ]
  },
  {
   "cell_type": "code",
   "execution_count": null,
   "metadata": {},
   "outputs": [],
   "source": [
    "packets_version_sum(packets1)"
   ]
  },
  {
   "cell_type": "code",
   "execution_count": null,
   "metadata": {},
   "outputs": [],
   "source": [
    "example2 = hex_to_bin('620080001611562C8802118E34')\n",
    "packets2 = get_packets(example2)\n",
    "packets2"
   ]
  },
  {
   "cell_type": "code",
   "execution_count": null,
   "metadata": {},
   "outputs": [],
   "source": [
    "packets_version_sum(packets2)"
   ]
  },
  {
   "cell_type": "code",
   "execution_count": null,
   "metadata": {},
   "outputs": [],
   "source": [
    "example3 = hex_to_bin('C0015000016115A2E0802F182340')\n",
    "packets3 = get_packets(example3)\n",
    "packets3"
   ]
  },
  {
   "cell_type": "code",
   "execution_count": null,
   "metadata": {},
   "outputs": [],
   "source": [
    "packets_version_sum(packets3)"
   ]
  },
  {
   "cell_type": "code",
   "execution_count": null,
   "metadata": {},
   "outputs": [],
   "source": [
    "example4 = hex_to_bin('A0016C880162017C3686B18A3D4780')\n",
    "packets4 = get_packets(example4)\n",
    "packets4"
   ]
  },
  {
   "cell_type": "code",
   "execution_count": null,
   "metadata": {},
   "outputs": [],
   "source": [
    "packets_version_sum(packets4)"
   ]
  },
  {
   "cell_type": "code",
   "execution_count": null,
   "metadata": {},
   "outputs": [],
   "source": [
    "day16 = aoc.read_file_as_string('inputs/day16.txt')"
   ]
  },
  {
   "cell_type": "code",
   "execution_count": null,
   "metadata": {},
   "outputs": [],
   "source": [
    "day16"
   ]
  },
  {
   "cell_type": "code",
   "execution_count": null,
   "metadata": {},
   "outputs": [],
   "source": [
    "star1 = hex_to_bin(day16)\n",
    "packets_s1 = get_packets(star1)\n",
    "packets_s1"
   ]
  },
  {
   "cell_type": "code",
   "execution_count": null,
   "metadata": {},
   "outputs": [],
   "source": [
    "packets_version_sum(packets_s1)"
   ]
  },
  {
   "cell_type": "code",
   "execution_count": null,
   "metadata": {},
   "outputs": [],
   "source": [
    "def value_packet(packet):\n",
    "    if packet['type'] == 'literal':\n",
    "        return packet['literal']\n",
    "    elif packet['type'] == 'operator':\n",
    "        sub_packet_values = [value_packet(p) for p in packet['sub_packets']]\n",
    "        if packet['type_ID'] == 0:\n",
    "            return sum(sub_packet_values)\n",
    "        elif packet['type_ID'] == 1:\n",
    "            product = 1\n",
    "            for v in sub_packet_values:\n",
    "                product *= v\n",
    "            return product\n",
    "        elif packet['type_ID'] == 2:\n",
    "            return min(sub_packet_values)\n",
    "        elif packet['type_ID'] == 3:\n",
    "            return max(sub_packet_values)\n",
    "        elif packet['type_ID'] == 5:\n",
    "            if sub_packet_values[0] > sub_packet_values[1]:\n",
    "                return 1\n",
    "            else: \n",
    "                return 0\n",
    "        elif packet['type_ID'] == 6:\n",
    "            if sub_packet_values[0] < sub_packet_values[1]:\n",
    "                return 1\n",
    "            else: \n",
    "                return 0\n",
    "        elif packet['type_ID'] == 7:\n",
    "            if sub_packet_values[0] == sub_packet_values[1]:\n",
    "                return 1\n",
    "            else: \n",
    "                return 0\n",
    "        else:\n",
    "            raise ValueError(f\"Unexpected type_ID={packet['type_ID']}\")"
   ]
  },
  {
   "cell_type": "code",
   "execution_count": null,
   "metadata": {},
   "outputs": [],
   "source": [
    "value_packet(packets_s1[0])"
   ]
  },
  {
   "cell_type": "code",
   "execution_count": null,
   "metadata": {},
   "outputs": [],
   "source": []
  }
 ],
 "metadata": {
  "kernelspec": {
   "display_name": "Python 3",
   "language": "python",
   "name": "python3"
  },
  "language_info": {
   "codemirror_mode": {
    "name": "ipython",
    "version": 3
   },
   "file_extension": ".py",
   "mimetype": "text/x-python",
   "name": "python",
   "nbconvert_exporter": "python",
   "pygments_lexer": "ipython3",
   "version": "3.7.3"
  }
 },
 "nbformat": 4,
 "nbformat_minor": 2
}
