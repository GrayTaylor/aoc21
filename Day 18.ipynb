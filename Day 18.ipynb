{
 "cells": [
  {
   "cell_type": "code",
   "execution_count": null,
   "metadata": {},
   "outputs": [],
   "source": [
    "import aoc"
   ]
  },
  {
   "cell_type": "code",
   "execution_count": null,
   "metadata": {},
   "outputs": [],
   "source": [
    "example_string = '[[[[[9,8],1],2],3],4]'"
   ]
  },
  {
   "cell_type": "code",
   "execution_count": null,
   "metadata": {},
   "outputs": [],
   "source": [
    "def has_nest4(string):\n",
    "    count = 0\n",
    "    for char in string:\n",
    "        if char == '[':\n",
    "            count+=1\n",
    "        if char == ']':\n",
    "            count-=1\n",
    "        if count >= 5:\n",
    "            return True\n",
    "    return False"
   ]
  },
  {
   "cell_type": "code",
   "execution_count": null,
   "metadata": {},
   "outputs": [],
   "source": [
    "has_nest4(example_string)"
   ]
  },
  {
   "cell_type": "code",
   "execution_count": null,
   "metadata": {},
   "outputs": [],
   "source": [
    "def leftmost_nest4_idx(string):\n",
    "    count = 0\n",
    "    for idx in range(len(string)):\n",
    "        char = string[idx]\n",
    "        if char == '[':\n",
    "            count += 1\n",
    "        if char == ']':\n",
    "            count -= 1\n",
    "        if count >= 5:\n",
    "            return idx\n",
    "    return None"
   ]
  },
  {
   "cell_type": "code",
   "execution_count": null,
   "metadata": {},
   "outputs": [],
   "source": [
    "leftmost_nest4_idx(example_string)"
   ]
  },
  {
   "cell_type": "code",
   "execution_count": null,
   "metadata": {},
   "outputs": [],
   "source": [
    "leftmost_nest4_idx('[7,[6,[5,[4,[3,2]]]]]')"
   ]
  },
  {
   "cell_type": "code",
   "execution_count": null,
   "metadata": {},
   "outputs": [],
   "source": [
    "def decompose(string):\n",
    "    digits = '0123456789'\n",
    "    structure = '[],'\n",
    "    idx = leftmost_nest4_idx(string)\n",
    "    \n",
    "    # Determine the left value\n",
    "    offset = 1\n",
    "    while string[idx + offset] in digits:\n",
    "        offset += 1\n",
    "    left_val_start = idx + 1\n",
    "    left_val_end = idx + offset\n",
    "    left_value = int(string[left_val_start: left_val_end])\n",
    "    print(f'left value is {left_value}')\n",
    "\n",
    "    # Determine the right value\n",
    "    offset = 1\n",
    "    while string[left_val_end + offset] in digits:\n",
    "        offset += 1\n",
    "    right_val_start = left_val_end + 1\n",
    "    right_val_end = left_val_end + offset\n",
    "    right_value = int(string[right_val_start: right_val_end])\n",
    "    print(f'right value is {right_value}')\n",
    "    \n",
    "    pair_to_replace = string[idx:right_val_end + 1]\n",
    "    print('chunk to replace is ', pair_to_replace)\n",
    "    \n",
    "    # Find the start of the string, and the value to increase\n",
    "    left_idx = idx\n",
    "    while left_idx > 0 and string[left_idx] in structure:\n",
    "        left_idx -= 1\n",
    "    if left_idx > 0:\n",
    "        offset = 1\n",
    "        while string[left_idx - offset] in digits:\n",
    "            offset += 1\n",
    "        left_reg = int(string[left_idx + 1 - offset: left_idx + 1])\n",
    "        print('the left regular number is ', left_reg)\n",
    "        preamble = string[:left_idx +1 - offset]\n",
    "        left_punct = string[left_idx + 1:left_val_start - 1]\n",
    "        print('pieces are')\n",
    "        print(preamble)\n",
    "        print(left_reg)\n",
    "        print(left_punct)\n",
    "        left_piece = preamble + str(left_reg) + left_punct\n",
    "        \n",
    "    else:\n",
    "        print('no regular number to left')\n",
    "        preamble = string[:left_val_start - 1]\n",
    "        print('single left piece')\n",
    "        print(preamble)\n",
    "        left_piece = preamble\n",
    "\n",
    "    print('determined left piece as', left_piece)\n",
    "    print('string so far', left_piece + pair_to_replace )\n",
    "    \n",
    "    \n",
    "    # Find the right regular number, if any, and postscript\n",
    "    right_idx = right_val_end + 1\n",
    "    while right_idx < len(string) and string[right_idx] in structure:\n",
    "        right_idx += 1\n",
    "    if right_idx < len(string):\n",
    "        offset = 1\n",
    "        while string[right_idx + offset] in digits:\n",
    "            offset += 1\n",
    "        right_reg = int(string[right_idx: right_idx + offset])\n",
    "        print('the right regular number is ', right_reg)\n",
    "        right_intermediary = string[right_val_end + 1 :right_idx]\n",
    "        postscript = string[right_idx + offset:]\n",
    "        print('right pieces are')\n",
    "        print(right_intermediary)\n",
    "        print(right_reg)\n",
    "        print(postscript)\n",
    "        right_piece = right_intermediary + str(right_reg) + postscript\n",
    "    \n",
    "    \n",
    "    else:\n",
    "        print('no regular number to right')\n",
    "        postscript = string[right_val_end + 1:]\n",
    "        print('single right piece')\n",
    "        print(postscript)\n",
    "        right_piece = postscript\n",
    "        \n",
    "    print('full string should be')\n",
    "    print(left_piece + pair_to_replace + right_piece)\n",
    "    assert string == (left_piece + pair_to_replace + right_piece)\n"
   ]
  },
  {
   "cell_type": "code",
   "execution_count": null,
   "metadata": {},
   "outputs": [],
   "source": [
    "decompose('[[[[[9,8],1],2],3],4]')"
   ]
  },
  {
   "cell_type": "code",
   "execution_count": null,
   "metadata": {},
   "outputs": [],
   "source": [
    "decompose('[7,[6,[5,[4,[3,2]]]]]')"
   ]
  },
  {
   "cell_type": "code",
   "execution_count": null,
   "metadata": {},
   "outputs": [],
   "source": [
    "decompose('[[3,[2,[8,0]]],[9,[5,[4,[3,2]]]]]')"
   ]
  },
  {
   "cell_type": "code",
   "execution_count": null,
   "metadata": {},
   "outputs": [],
   "source": [
    "def explode(string):\n",
    "    digits = '0123456789'\n",
    "    structure = '[],'\n",
    "    idx = leftmost_nest4_idx(string)\n",
    "    \n",
    "    # Determine the left value\n",
    "    offset = 1\n",
    "    while string[idx + offset] in digits:\n",
    "        offset += 1\n",
    "    left_val_start = idx + 1\n",
    "    left_val_end = idx + offset\n",
    "    left_value = int(string[left_val_start: left_val_end])\n",
    "    #print(f'left value is {left_value}')\n",
    "\n",
    "    # Determine the right value\n",
    "    offset = 1\n",
    "    while string[left_val_end + offset] in digits:\n",
    "        offset += 1\n",
    "    right_val_start = left_val_end + 1\n",
    "    right_val_end = left_val_end + offset\n",
    "    right_value = int(string[right_val_start: right_val_end])\n",
    "    #print(f'right value is {right_value}')\n",
    "    \n",
    "    pair_to_replace = string[idx:right_val_end + 1]\n",
    "    #print('chunk to replace is ', pair_to_replace)\n",
    "    \n",
    "    # Find the start of the string, and the value to increase\n",
    "    left_idx = idx\n",
    "    while left_idx > 0 and string[left_idx] in structure:\n",
    "        left_idx -= 1\n",
    "    if left_idx > 0:\n",
    "        offset = 1\n",
    "        while string[left_idx - offset] in digits:\n",
    "            offset += 1\n",
    "        left_reg = int(string[left_idx + 1 - offset: left_idx + 1])\n",
    "        #print('the left regular number is ', left_reg)\n",
    "        preamble = string[:left_idx +1 - offset]\n",
    "        left_punct = string[left_idx + 1:left_val_start - 1]\n",
    "        #print('pieces are')\n",
    "        #print(preamble)\n",
    "        #print(left_reg)\n",
    "        #print(left_punct)\n",
    "        left_piece = preamble + str(left_reg + left_value) + left_punct\n",
    "        \n",
    "    else:\n",
    "        #print('no regular number to left')\n",
    "        preamble = string[:left_val_start - 1]\n",
    "        #print('single left piece')\n",
    "        #print(preamble)\n",
    "        left_piece = preamble\n",
    "\n",
    "    #print('determined left piece as', left_piece)\n",
    "    #print('string so far', left_piece + '0' )\n",
    "    \n",
    "    \n",
    "    # Find the right regular number, if any, and postscript\n",
    "    right_idx = right_val_end + 1\n",
    "    while right_idx < len(string) and string[right_idx] in structure:\n",
    "        right_idx += 1\n",
    "    if right_idx < len(string):\n",
    "        offset = 1\n",
    "        while string[right_idx + offset] in digits:\n",
    "            offset += 1\n",
    "        right_reg = int(string[right_idx: right_idx + offset])\n",
    "        #print('the right regular number is ', right_reg)\n",
    "        right_intermediary = string[right_val_end + 1 :right_idx]\n",
    "        postscript = string[right_idx + offset:]\n",
    "        #print('right pieces are')\n",
    "        #print(right_intermediary)\n",
    "        #print(right_reg)\n",
    "        #print(postscript)\n",
    "        right_piece = right_intermediary + str(right_reg + right_value) + postscript\n",
    "    \n",
    "    \n",
    "    else:\n",
    "        #print('no regular number to right')\n",
    "        postscript = string[right_val_end + 1:]\n",
    "        #print('single right piece')\n",
    "        #print(postscript)\n",
    "        right_piece = postscript\n",
    "        \n",
    "    return left_piece + '0' + right_piece\n",
    "    "
   ]
  },
  {
   "cell_type": "code",
   "execution_count": null,
   "metadata": {},
   "outputs": [],
   "source": [
    "x = explode('[[[[[9,8],1],2],3],4]')\n",
    "print(x)\n",
    "assert x == '[[[[0,9],2],3],4]'"
   ]
  },
  {
   "cell_type": "code",
   "execution_count": null,
   "metadata": {},
   "outputs": [],
   "source": [
    "x = explode('[7,[6,[5,[4,[3,2]]]]]')\n",
    "print(x)\n",
    "assert x == '[7,[6,[5,[7,0]]]]'"
   ]
  },
  {
   "cell_type": "code",
   "execution_count": null,
   "metadata": {},
   "outputs": [],
   "source": [
    "x = explode('[[6,[5,[4,[3,2]]]],1]')\n",
    "print(x)\n",
    "assert x == '[[6,[5,[7,0]]],3]'"
   ]
  },
  {
   "cell_type": "code",
   "execution_count": null,
   "metadata": {},
   "outputs": [],
   "source": [
    "x = explode('[[3,[2,[1,[7,3]]]],[6,[5,[4,[3,2]]]]]')\n",
    "print(x)\n",
    "assert x == '[[3,[2,[8,0]]],[9,[5,[4,[3,2]]]]]'"
   ]
  },
  {
   "cell_type": "code",
   "execution_count": null,
   "metadata": {},
   "outputs": [],
   "source": [
    "x = explode('[[3,[2,[8,0]]],[9,[5,[4,[3,2]]]]]')\n",
    "print(x)\n",
    "assert x == '[[3,[2,[8,0]]],[9,[5,[7,0]]]]'"
   ]
  },
  {
   "cell_type": "code",
   "execution_count": null,
   "metadata": {},
   "outputs": [],
   "source": [
    "def has_large_regular_number(string):\n",
    "    digits = '0123456789'\n",
    "    for k in range(len(string) - 1):\n",
    "        if string[k] in digits and string[k + 1] in digits:\n",
    "            return True\n",
    "    return False"
   ]
  },
  {
   "cell_type": "code",
   "execution_count": null,
   "metadata": {},
   "outputs": [],
   "source": [
    "has_large_regular_number('[[[[0,7],4],[15,[0,13]]],[1,1]]')"
   ]
  },
  {
   "cell_type": "code",
   "execution_count": null,
   "metadata": {},
   "outputs": [],
   "source": [
    "def locate_first_large_regular_number(string):\n",
    "    digits = '0123456789'\n",
    "    start = 0\n",
    "    assert has_large_regular_number(string)\n",
    "    while string[start] not in digits or string[start + 1] not in digits:\n",
    "        start += 1\n",
    "    offset = 0\n",
    "    while string[start + offset] in digits:\n",
    "        offset += 1\n",
    "    return (start, start + offset)"
   ]
  },
  {
   "cell_type": "code",
   "execution_count": null,
   "metadata": {},
   "outputs": [],
   "source": [
    "from math import floor, ceil"
   ]
  },
  {
   "cell_type": "code",
   "execution_count": null,
   "metadata": {},
   "outputs": [],
   "source": [
    "def split(string):\n",
    "    split_points = locate_first_large_regular_number(string)\n",
    "    preamble = string[:split_points[0]]\n",
    "    postscript = string[split_points[1]:]\n",
    "    value = int(string[split_points[0]: split_points[1]])\n",
    "    new_left = int(floor(value/2))\n",
    "    new_right = int(ceil(value/2))\n",
    "    return preamble + f'[{new_left},{new_right}]' + postscript"
   ]
  },
  {
   "cell_type": "code",
   "execution_count": null,
   "metadata": {},
   "outputs": [],
   "source": [
    "def is_reduced(string):\n",
    "    return not has_nest4(string) and not has_large_regular_number(string)"
   ]
  },
  {
   "cell_type": "code",
   "execution_count": null,
   "metadata": {},
   "outputs": [],
   "source": [
    "is_reduced('[[[[0,7],4],[15,[0,13]]],[1,1]]')"
   ]
  },
  {
   "cell_type": "code",
   "execution_count": null,
   "metadata": {},
   "outputs": [],
   "source": [
    "def reduce(string):\n",
    "    while not(is_reduced(string)):\n",
    "        #print('currently have ', string)\n",
    "        if has_nest4(string):\n",
    "            #print('exploding')\n",
    "            string = explode(string)\n",
    "        elif has_large_regular_number(string):\n",
    "            #print('splitting')\n",
    "            string = split(string)\n",
    "        else:\n",
    "            raise ValueError('Unexpected string structure')\n",
    "    return string"
   ]
  },
  {
   "cell_type": "code",
   "execution_count": null,
   "metadata": {},
   "outputs": [],
   "source": [
    "def add_strings(string1, string2):\n",
    "    return f'[{string1},{string2}]'"
   ]
  },
  {
   "cell_type": "code",
   "execution_count": null,
   "metadata": {},
   "outputs": [],
   "source": [
    "x = reduce(add_strings('[[[[4,3],4],4],[7,[[8,4],9]]]', '[1,1]'))\n",
    "print(x)\n",
    "assert x == '[[[[0,7],4],[[7,8],[6,0]]],[8,1]]'"
   ]
  },
  {
   "cell_type": "code",
   "execution_count": null,
   "metadata": {},
   "outputs": [],
   "source": [
    "import json"
   ]
  },
  {
   "cell_type": "code",
   "execution_count": null,
   "metadata": {},
   "outputs": [],
   "source": [
    "len(json.loads('[[[[0,7],4],[[7,8],[6,0]]],[8,1]]'))"
   ]
  },
  {
   "cell_type": "code",
   "execution_count": null,
   "metadata": {},
   "outputs": [],
   "source": [
    "def magnitude_of_pair(pair):\n",
    "    left = pair[0]\n",
    "    right = pair[1]\n",
    "    if type(left) is int and type(right) is int:\n",
    "        return 3 * left + 2 * right\n",
    "    elif type(left) is int and type(right) is list:\n",
    "        return 3 * left + 2 * magnitude_of_pair(right)\n",
    "    elif type(left) is list and type(right) is int:\n",
    "        return 3 * magnitude_of_pair(left) + 2 * right\n",
    "    elif type(left) is list and type(right) is list:\n",
    "        return 3 * magnitude_of_pair(left) + 2 * magnitude_of_pair(right)\n",
    "    else:\n",
    "        raise ValueError('Unexpected pair ', pair)\n",
    "    "
   ]
  },
  {
   "cell_type": "code",
   "execution_count": null,
   "metadata": {},
   "outputs": [],
   "source": [
    "def magnitude(string):\n",
    "    return magnitude_of_pair(json.loads(string))"
   ]
  },
  {
   "cell_type": "code",
   "execution_count": null,
   "metadata": {},
   "outputs": [],
   "source": [
    "assert magnitude('[9,1]') == 29\n",
    "assert magnitude('[[9,1],[1,9]]') == 129\n",
    "assert magnitude('[[[[8,7],[7,7]],[[8,6],[7,7]]],[[[0,7],[6,6]],[8,7]]]') == 3488"
   ]
  },
  {
   "cell_type": "code",
   "execution_count": null,
   "metadata": {},
   "outputs": [],
   "source": [
    "def process_assignment(raw_assignment):\n",
    "    assignment_strings = raw_assignment.split('\\n')\n",
    "    string = assignment_strings[0]\n",
    "    for next_string in assignment_strings[1:]:\n",
    "        #print('processing ', next_string)\n",
    "        string = add_strings(string, next_string)\n",
    "        #print('\\treducing ', string)\n",
    "        string = reduce(string)\n",
    "        #print('\\t got ',string,'\\n')\n",
    "    return string"
   ]
  },
  {
   "cell_type": "code",
   "execution_count": null,
   "metadata": {},
   "outputs": [],
   "source": [
    "assignment = r'''[1,1]\n",
    "[2,2]\n",
    "[3,3]\n",
    "[4,4]'''\n",
    "\n",
    "process_assignment(assignment)"
   ]
  },
  {
   "cell_type": "code",
   "execution_count": null,
   "metadata": {},
   "outputs": [],
   "source": [
    "assignment = r'''[1,1]\n",
    "[2,2]\n",
    "[3,3]\n",
    "[4,4]\n",
    "[5,5]'''\n",
    "\n",
    "process_assignment(assignment)"
   ]
  },
  {
   "cell_type": "code",
   "execution_count": null,
   "metadata": {},
   "outputs": [],
   "source": [
    "assignment = r'''[1,1]\n",
    "[2,2]\n",
    "[3,3]\n",
    "[4,4]\n",
    "[5,5]\n",
    "[6,6]'''\n",
    "\n",
    "process_assignment(assignment)"
   ]
  },
  {
   "cell_type": "code",
   "execution_count": null,
   "metadata": {},
   "outputs": [],
   "source": [
    "assignment = r'''[[[0,[4,5]],[0,0]],[[[4,5],[2,6]],[9,5]]]\n",
    "[7,[[[3,7],[4,3]],[[6,3],[8,8]]]]\n",
    "[[2,[[0,8],[3,4]]],[[[6,7],1],[7,[1,6]]]]\n",
    "[[[[2,4],7],[6,[0,5]]],[[[6,8],[2,8]],[[2,1],[4,5]]]]\n",
    "[7,[5,[[3,8],[1,4]]]]\n",
    "[[2,[2,2]],[8,[8,1]]]\n",
    "[2,9]\n",
    "[1,[[[9,3],9],[[9,0],[0,7]]]]\n",
    "[[[5,[7,4]],7],1]\n",
    "[[[[4,2],2],6],[8,7]]'''\n",
    "\n",
    "x = process_assignment(assignment)\n",
    "assert x == '[[[[8,7],[7,7]],[[8,6],[7,7]]],[[[0,7],[6,6]],[8,7]]]'"
   ]
  },
  {
   "cell_type": "code",
   "execution_count": null,
   "metadata": {},
   "outputs": [],
   "source": [
    "def reduce_verbose(string):\n",
    "    while not(is_reduced(string)):\n",
    "        print('currently have ', string)\n",
    "        if has_nest4(string):\n",
    "            print('exploding')\n",
    "            string = explode(string)\n",
    "        elif has_large_regular_number(string):\n",
    "            print('splitting')\n",
    "            string = split(string)\n",
    "        else:\n",
    "            raise ValueError('Unexpected string structure')\n",
    "    return string"
   ]
  },
  {
   "cell_type": "code",
   "execution_count": null,
   "metadata": {},
   "outputs": [],
   "source": [
    "#reduce_verbose('[[[[[6,6],[6,6]],[[6,0],[6,7]]],[[[7,7],[8,9]],[8,[8,1]]]],[2,9]]')"
   ]
  },
  {
   "cell_type": "code",
   "execution_count": null,
   "metadata": {},
   "outputs": [],
   "source": [
    "assignment = r'''[[[0,[5,8]],[[1,7],[9,6]]],[[4,[1,2]],[[1,4],2]]]\n",
    "[[[5,[2,8]],4],[5,[[9,9],0]]]\n",
    "[6,[[[6,2],[5,6]],[[7,6],[4,7]]]]\n",
    "[[[6,[0,7]],[0,9]],[4,[9,[9,0]]]]\n",
    "[[[7,[6,4]],[3,[1,3]]],[[[5,5],1],9]]\n",
    "[[6,[[7,3],[3,2]]],[[[3,8],[5,7]],4]]\n",
    "[[[[5,4],[7,7]],8],[[8,3],8]]\n",
    "[[9,3],[[9,9],[6,[4,9]]]]\n",
    "[[2,[[7,7],7]],[[5,8],[[9,3],[0,2]]]]\n",
    "[[[[5,2],5],[8,[3,7]]],[[5,[7,5]],[4,4]]]'''\n",
    "\n",
    "x = process_assignment(assignment)\n",
    "assert x == '[[[[6,6],[7,6]],[[7,7],[7,0]]],[[[7,7],[7,7]],[[7,8],[9,9]]]]'"
   ]
  },
  {
   "cell_type": "code",
   "execution_count": null,
   "metadata": {},
   "outputs": [],
   "source": [
    "magnitude(x)"
   ]
  },
  {
   "cell_type": "code",
   "execution_count": null,
   "metadata": {},
   "outputs": [],
   "source": [
    "day18 = aoc.read_file_as_string('inputs/day18.txt')"
   ]
  },
  {
   "cell_type": "code",
   "execution_count": null,
   "metadata": {},
   "outputs": [],
   "source": [
    "y = process_assignment(day18)"
   ]
  },
  {
   "cell_type": "code",
   "execution_count": null,
   "metadata": {},
   "outputs": [],
   "source": [
    "y"
   ]
  },
  {
   "cell_type": "code",
   "execution_count": null,
   "metadata": {},
   "outputs": [],
   "source": [
    "magnitude(y)"
   ]
  },
  {
   "cell_type": "code",
   "execution_count": null,
   "metadata": {},
   "outputs": [],
   "source": [
    "def find_best_score(raw_assignment):\n",
    "    assignment_strings = raw_assignment.split('\\n')\n",
    "    \n",
    "    best_score = 0\n",
    "    for idx, sx in enumerate(assignment_strings):\n",
    "        for idy, sy in enumerate(assignment_strings):\n",
    "            if idx != idy:\n",
    "                string = add_strings(sx, sy)\n",
    "                string = reduce(string)\n",
    "                score = magnitude(string)\n",
    "                if score > best_score:\n",
    "                    best_score = score\n",
    "                print(idx, idy, best_score)\n",
    "    return best_score\n",
    "    \n"
   ]
  },
  {
   "cell_type": "code",
   "execution_count": null,
   "metadata": {},
   "outputs": [],
   "source": [
    "find_best_score(day18)"
   ]
  },
  {
   "cell_type": "code",
   "execution_count": null,
   "metadata": {},
   "outputs": [],
   "source": []
  }
 ],
 "metadata": {
  "kernelspec": {
   "display_name": "Python 3",
   "language": "python",
   "name": "python3"
  },
  "language_info": {
   "codemirror_mode": {
    "name": "ipython",
    "version": 3
   },
   "file_extension": ".py",
   "mimetype": "text/x-python",
   "name": "python",
   "nbconvert_exporter": "python",
   "pygments_lexer": "ipython3",
   "version": "3.7.3"
  }
 },
 "nbformat": 4,
 "nbformat_minor": 2
}
