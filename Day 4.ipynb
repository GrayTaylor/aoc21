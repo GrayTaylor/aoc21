{
 "cells": [
  {
   "cell_type": "code",
   "execution_count": 1,
   "metadata": {},
   "outputs": [],
   "source": [
    "import re\n",
    "import aoc_helpers as aoc"
   ]
  },
  {
   "cell_type": "code",
   "execution_count": 2,
   "metadata": {},
   "outputs": [],
   "source": [
    "example_calls = [7,4,9,5,11,17,23,2,0,14,21,24,10,16,13,6,15,25,12,22,18,20,8,19,3,26,1]"
   ]
  },
  {
   "cell_type": "code",
   "execution_count": 3,
   "metadata": {},
   "outputs": [],
   "source": [
    "example_board1 = [[22, 13, 17, 11,  0],\n",
    " [8,  2, 23,  4, 24],\n",
    "[21,  9, 14, 16,  7],\n",
    "[6, 10,  3, 18,  5],\n",
    " [1, 12, 20, 15, 19]]\n",
    "\n",
    "example_board2 = [[3, 15,  0,  2, 22],\n",
    " [9, 18, 13, 17,  5],\n",
    "[19,  8,  7, 25, 23],\n",
    "[20, 11, 10, 24,  4],\n",
    "[14, 21, 16, 12,  6]]\n",
    "\n",
    "example_board3 = [[14, 21, 17, 24,  4],\n",
    "[10, 16, 15,  9, 19],\n",
    "[18,  8, 23, 26, 20],\n",
    "[22, 11, 13,  6,  5],\n",
    "[2,  0, 12,  3,  7]]"
   ]
  },
  {
   "cell_type": "code",
   "execution_count": 4,
   "metadata": {},
   "outputs": [],
   "source": [
    "example_inputs = [example_board1, example_board2, example_board3]"
   ]
  },
  {
   "cell_type": "code",
   "execution_count": 12,
   "metadata": {},
   "outputs": [],
   "source": [
    "class bingo_board:\n",
    "    def __init__(self, board_entries):\n",
    "        self.board_entries = board_entries\n",
    "        self.reset()\n",
    "                \n",
    "    def __repr__(self):\n",
    "        out_lines = ''\n",
    "        for row in range(self.grid_size):\n",
    "            out_row = [' ' + str(e) for e in self.board_entries[row]]\n",
    "            for column in range(self.grid_size):\n",
    "                if (row, column) in self.used_locations:\n",
    "                    out_row[column] = ' X'\n",
    "            out_line = ' '.join([e[-2:] for e in out_row])\n",
    "            out_lines += out_line + '\\n'\n",
    "        return out_lines\n",
    "    \n",
    "    def reset(self):\n",
    "        self.used_total = 0\n",
    "        self.unused_total = 0\n",
    "        self.value_locations = {}\n",
    "        self.used_locations = {}\n",
    "        \n",
    "        self.grid_size = len(self.board_entries)  # assume square!\n",
    "        for row in range(self.grid_size):\n",
    "            for column in range(self.grid_size):\n",
    "                entry = self.board_entries[row][column]\n",
    "                self.unused_total += entry\n",
    "                self.value_locations[entry] = (row,column)\n",
    "    \n",
    "    def process_call(self, call):\n",
    "        if call in self.value_locations:\n",
    "            self.used_total += call\n",
    "            self.unused_total -= call\n",
    "            location = self.value_locations[call]\n",
    "            self.used_locations[location] = call\n",
    "            \n",
    "    def row_complete(self, row):\n",
    "        for column in range(self.grid_size):\n",
    "            if (row, column) not in self.used_locations:\n",
    "                return False\n",
    "        return True\n",
    "    \n",
    "    def column_complete(self, column):\n",
    "        for row in range(self.grid_size):\n",
    "            if (row, column) not in self.used_locations:\n",
    "                return False\n",
    "        return True\n",
    "    \n",
    "    def board_wins(self):\n",
    "        for row in range(self.grid_size):\n",
    "            if self.row_complete(row):\n",
    "                return True\n",
    "        \n",
    "        for column in range(self.grid_size):\n",
    "            if self.column_complete(column):\n",
    "                return True\n",
    "        \n",
    "        return False"
   ]
  },
  {
   "cell_type": "code",
   "execution_count": 19,
   "metadata": {},
   "outputs": [],
   "source": [
    "example_bingo_boards = [bingo_board(e) for e in example_inputs]"
   ]
  },
  {
   "cell_type": "code",
   "execution_count": 20,
   "metadata": {},
   "outputs": [],
   "source": [
    "def run_game(calls, bingo_boards):\n",
    "    for b in bingo_boards:\n",
    "        b.reset()  # ensures calls from any previous games are removed\n",
    "    for idx, call in enumerate(calls):\n",
    "        print(f'Round {idx} call {call}')\n",
    "        \n",
    "        for b in bingo_boards:\n",
    "            b.process_call(call)\n",
    "        \n",
    "        winning_boards = [b for b in bingo_boards if b.board_wins()]\n",
    "        if len(winning_boards) > 0:\n",
    "            print('\\nwinning board:')\n",
    "            for b in winning_boards:\n",
    "                print(b)\n",
    "                print(f'Unmarked total {b.unused_total}')\n",
    "            \n",
    "            # Assume a single winner!\n",
    "            return winning_boards[0].unused_total * call"
   ]
  },
  {
   "cell_type": "code",
   "execution_count": 21,
   "metadata": {},
   "outputs": [
    {
     "name": "stdout",
     "output_type": "stream",
     "text": [
      "Round 0 call 7\n",
      "Round 1 call 4\n",
      "Round 2 call 9\n",
      "Round 3 call 5\n",
      "Round 4 call 11\n",
      "Round 5 call 17\n",
      "Round 6 call 23\n",
      "Round 7 call 2\n",
      "Round 8 call 0\n",
      "Round 9 call 14\n",
      "Round 10 call 21\n",
      "Round 11 call 24\n",
      "\n",
      "winning board:\n",
      " X  X  X  X  X\n",
      "10 16 15  X 19\n",
      "18  8  X 26 20\n",
      "22  X 13  6  X\n",
      " X  X 12  3  X\n",
      "\n",
      "Unmarked total 188\n"
     ]
    }
   ],
   "source": [
    "assert run_game(example_calls, example_bingo_boards) == 4512"
   ]
  },
  {
   "cell_type": "markdown",
   "metadata": {},
   "source": [
    "## Star 1"
   ]
  },
  {
   "cell_type": "code",
   "execution_count": 22,
   "metadata": {},
   "outputs": [],
   "source": [
    "all_input = aoc.read_file_as_list_of_lists('inputs/day4_1.txt')"
   ]
  },
  {
   "cell_type": "code",
   "execution_count": 23,
   "metadata": {},
   "outputs": [
    {
     "name": "stdout",
     "output_type": "stream",
     "text": [
      "[90, 4, 2, 96, 46, 1, 62, 97, 3, 52, 7, 35, 50, 28, 31, 37, 74, 26, 59, 53, 82, 47, 83, 80, 19, 40, 68, 95, 34, 55, 54, 73, 12, 78, 30, 63, 57, 93, 72, 77, 56, 91, 23, 67, 64, 79, 85, 84, 76, 10, 58, 0, 29, 13, 94, 20, 32, 25, 11, 38, 89, 21, 98, 92, 42, 27, 14, 99, 24, 75, 86, 51, 22, 48, 9, 33, 49, 18, 70, 8, 87, 61, 39, 16, 66, 71, 5, 69, 15, 43, 88, 45, 6, 81, 60, 36, 44, 17, 41, 65]\n"
     ]
    }
   ],
   "source": [
    "calls = [int(x) for x in all_input[0]]\n",
    "print(calls)"
   ]
  },
  {
   "cell_type": "code",
   "execution_count": 27,
   "metadata": {},
   "outputs": [],
   "source": [
    "# Generate boards\n",
    "num_boards = int((len(all_input) - 1) / 6)\n",
    "num_boards\n",
    "all_boards = []\n",
    "for b in range(num_boards):\n",
    "    board_input_data = all_input[2 + b * 6 : 1 + (b + 1) * 6]\n",
    "    board_data = [[int(x) for x in re.findall(r'(\\d+)', row[0])] for row in board_input_data]\n",
    "    all_boards.append(bingo_board(board_data))"
   ]
  },
  {
   "cell_type": "code",
   "execution_count": 29,
   "metadata": {},
   "outputs": [
    {
     "name": "stdout",
     "output_type": "stream",
     "text": [
      "Round 0 call 90\n",
      "Round 1 call 4\n",
      "Round 2 call 2\n",
      "Round 3 call 96\n",
      "Round 4 call 46\n",
      "Round 5 call 1\n",
      "Round 6 call 62\n",
      "Round 7 call 97\n",
      "Round 8 call 3\n",
      "Round 9 call 52\n",
      "Round 10 call 7\n",
      "Round 11 call 35\n",
      "Round 12 call 50\n",
      "Round 13 call 28\n",
      "Round 14 call 31\n",
      "Round 15 call 37\n",
      "Round 16 call 74\n",
      "Round 17 call 26\n",
      "Round 18 call 59\n",
      "Round 19 call 53\n",
      "Round 20 call 82\n",
      "Round 21 call 47\n",
      "Round 22 call 83\n",
      "Round 23 call 80\n",
      "Round 24 call 19\n",
      "Round 25 call 40\n",
      "Round 26 call 68\n",
      "Round 27 call 95\n",
      "Round 28 call 34\n",
      "Round 29 call 55\n",
      "Round 30 call 54\n",
      "Round 31 call 73\n",
      "Round 32 call 12\n",
      "\n",
      "winning board:\n",
      " X 18  X 88  X\n",
      "10 51  X  X 79\n",
      "24  X  X 89 21\n",
      "57  X  X 17  X\n",
      "58 92  X 14 60\n",
      "\n",
      "Unmarked total 678\n"
     ]
    }
   ],
   "source": [
    "score = run_game(calls, all_boards)"
   ]
  },
  {
   "cell_type": "code",
   "execution_count": 30,
   "metadata": {},
   "outputs": [
    {
     "name": "stdout",
     "output_type": "stream",
     "text": [
      "8136\n"
     ]
    }
   ],
   "source": [
    "# star 1 solution\n",
    "print(score)"
   ]
  },
  {
   "cell_type": "markdown",
   "metadata": {},
   "source": [
    "## Star 2"
   ]
  },
  {
   "cell_type": "code",
   "execution_count": 31,
   "metadata": {},
   "outputs": [],
   "source": [
    "def find_last_board(calls, bingo_boards, verbose=False):\n",
    "    for b in bingo_boards:\n",
    "        b.reset()\n",
    "\n",
    "    num_boards = len(bingo_boards)\n",
    "    remaining_boards = bingo_boards\n",
    "    winning_boards = []\n",
    "    \n",
    "    for idx, call in enumerate(calls):\n",
    "        if verbose:\n",
    "            print(f'Round {idx} call {call}')\n",
    "        \n",
    "        for b in remaining_boards:\n",
    "            b.process_call(call)\n",
    "        \n",
    "        for b in remaining_boards:\n",
    "            if b.board_wins:\n",
    "                winning_boards.append(b)\n",
    "        remaining_boards = [b for b in remaining_boards if not b.board_wins()]\n",
    "        \n",
    "        if len(remaining_boards) == 0:\n",
    "            last_board = winning_boards[-1]\n",
    "            if verbose:\n",
    "                print('No boards left')\n",
    "                print('Final entry was')\n",
    "                print(last_board)\n",
    "                print(f'Unmarked total {last_board.unused_total}')\n",
    "            return last_board.unused_total * call\n",
    "        \n",
    "        else:\n",
    "            if verbose:\n",
    "                print(f'{len(remaining_boards)} boards remain')"
   ]
  },
  {
   "cell_type": "code",
   "execution_count": 33,
   "metadata": {},
   "outputs": [
    {
     "name": "stdout",
     "output_type": "stream",
     "text": [
      "Round 0 call 7\n",
      "3 boards remain\n",
      "Round 1 call 4\n",
      "3 boards remain\n",
      "Round 2 call 9\n",
      "3 boards remain\n",
      "Round 3 call 5\n",
      "3 boards remain\n",
      "Round 4 call 11\n",
      "3 boards remain\n",
      "Round 5 call 17\n",
      "3 boards remain\n",
      "Round 6 call 23\n",
      "3 boards remain\n",
      "Round 7 call 2\n",
      "3 boards remain\n",
      "Round 8 call 0\n",
      "3 boards remain\n",
      "Round 9 call 14\n",
      "3 boards remain\n",
      "Round 10 call 21\n",
      "3 boards remain\n",
      "Round 11 call 24\n",
      "2 boards remain\n",
      "Round 12 call 10\n",
      "2 boards remain\n",
      "Round 13 call 16\n",
      "1 boards remain\n",
      "Round 14 call 13\n",
      "No boards left\n",
      "Final entry was\n",
      " 3 15  X  X 22\n",
      " X 18  X  X  X\n",
      "19  8  X 25  X\n",
      "20  X  X  X  X\n",
      " X  X  X 12  6\n",
      "\n",
      "Unmarked total 148\n"
     ]
    }
   ],
   "source": [
    "assert find_last_board(example_calls, example_bingo_boards, verbose=True) == 1924"
   ]
  },
  {
   "cell_type": "code",
   "execution_count": 34,
   "metadata": {},
   "outputs": [
    {
     "data": {
      "text/plain": [
       "12738"
      ]
     },
     "execution_count": 34,
     "metadata": {},
     "output_type": "execute_result"
    }
   ],
   "source": [
    "# Star 2 solution\n",
    "find_last_board(calls, all_boards)"
   ]
  },
  {
   "cell_type": "code",
   "execution_count": null,
   "metadata": {},
   "outputs": [],
   "source": []
  }
 ],
 "metadata": {
  "kernelspec": {
   "display_name": "Python 3",
   "language": "python",
   "name": "python3"
  },
  "language_info": {
   "codemirror_mode": {
    "name": "ipython",
    "version": 3
   },
   "file_extension": ".py",
   "mimetype": "text/x-python",
   "name": "python",
   "nbconvert_exporter": "python",
   "pygments_lexer": "ipython3",
   "version": "3.7.3"
  }
 },
 "nbformat": 4,
 "nbformat_minor": 2
}
