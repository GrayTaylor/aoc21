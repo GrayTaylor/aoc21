{
 "cells": [
  {
   "cell_type": "code",
   "execution_count": null,
   "metadata": {},
   "outputs": [],
   "source": [
    "import re\n",
    "import aoc_helpers as aoc"
   ]
  },
  {
   "cell_type": "code",
   "execution_count": null,
   "metadata": {},
   "outputs": [],
   "source": [
    "example_calls = [7,4,9,5,11,17,23,2,0,14,21,24,10,16,13,6,15,25,12,22,18,20,8,19,3,26,1]"
   ]
  },
  {
   "cell_type": "code",
   "execution_count": null,
   "metadata": {},
   "outputs": [],
   "source": [
    "example_board1 = [[22, 13, 17, 11,  0],\n",
    " [8,  2, 23,  4, 24],\n",
    "[21,  9, 14, 16,  7],\n",
    "[6, 10,  3, 18,  5],\n",
    " [1, 12, 20, 15, 19]]\n",
    "\n",
    "example_board2 = [[3, 15,  0,  2, 22],\n",
    " [9, 18, 13, 17,  5],\n",
    "[19,  8,  7, 25, 23],\n",
    "[20, 11, 10, 24,  4],\n",
    "[14, 21, 16, 12,  6]]\n",
    "\n",
    "example_board3 = [[14, 21, 17, 24,  4],\n",
    "[10, 16, 15,  9, 19],\n",
    "[18,  8, 23, 26, 20],\n",
    "[22, 11, 13,  6,  5],\n",
    "[2,  0, 12,  3,  7]]"
   ]
  },
  {
   "cell_type": "code",
   "execution_count": null,
   "metadata": {},
   "outputs": [],
   "source": [
    "example_inputs = [example_board1, example_board2, example_board3]"
   ]
  },
  {
   "cell_type": "code",
   "execution_count": null,
   "metadata": {},
   "outputs": [],
   "source": [
    "class bingo_board:\n",
    "    def __init__(self, board_entries):\n",
    "        self.used_total = 0\n",
    "        self.unused_total = 0\n",
    "        self.value_locations = {}\n",
    "        self.used_locations = {}\n",
    "        self.board_entries = board_entries\n",
    "        \n",
    "        self.grid_size = len(board_entries)  # assume square!\n",
    "        for row in range(self.grid_size):\n",
    "            for column in range(self.grid_size):\n",
    "                entry = board_entries[row][column]\n",
    "                self.unused_total += entry\n",
    "                self.value_locations[entry] = (row,column)\n",
    "                \n",
    "    def __repr__(self):\n",
    "        out_lines = ''\n",
    "        for row in range(self.grid_size):\n",
    "            out_row = [' ' + str(e) for e in self.board_entries[row]]\n",
    "            for column in range(self.grid_size):\n",
    "                if (row, column) in self.used_locations:\n",
    "                    out_row[column] = ' X'\n",
    "            out_line = ' '.join([e[-2:] for e in out_row])\n",
    "            out_lines += out_line + '\\n'\n",
    "        return out_lines\n",
    "    \n",
    "    def process_call(self, call):\n",
    "        if call in self.value_locations:\n",
    "            self.used_total += call\n",
    "            self.unused_total -= call\n",
    "            location = self.value_locations[call]\n",
    "            self.used_locations[location] = call\n",
    "            \n",
    "    def row_complete(self, row):\n",
    "        for column in range(self.grid_size):\n",
    "            if (row, column) not in self.used_locations:\n",
    "                return False\n",
    "        return True\n",
    "    \n",
    "    def column_complete(self, column):\n",
    "        for row in range(self.grid_size):\n",
    "            if (row, column) not in self.used_locations:\n",
    "                return False\n",
    "        return True\n",
    "    \n",
    "    def board_wins(self):\n",
    "        for row in range(self.grid_size):\n",
    "            if self.row_complete(row):\n",
    "                return True\n",
    "        \n",
    "        for column in range(self.grid_size):\n",
    "            if self.column_complete(column):\n",
    "                return True\n",
    "        \n",
    "        return False"
   ]
  },
  {
   "cell_type": "code",
   "execution_count": null,
   "metadata": {},
   "outputs": [],
   "source": [
    "bingo_boards = [bingo_board(e) for e in example_inputs]"
   ]
  },
  {
   "cell_type": "code",
   "execution_count": null,
   "metadata": {},
   "outputs": [],
   "source": [
    "def run_game(calls, board_entries):\n",
    "    bingo_boards = [bingo_board(e) for e in board_entries]\n",
    "    for idx, call in enumerate(calls):\n",
    "        print(f'Round {idx} call {call}')\n",
    "        \n",
    "        for b in bingo_boards:\n",
    "            b.process_call(call)\n",
    "        \n",
    "        winning_boards = [b for b in bingo_boards if b.board_wins()]\n",
    "        if len(winning_boards) > 0:\n",
    "            print('\\nwinning board:')\n",
    "            for b in winning_boards:\n",
    "                print(b)\n",
    "                print(f'Unmarked total {b.unused_total}')\n",
    "            \n",
    "            # Assume a single winner!\n",
    "            return winning_boards[0].unused_total * call"
   ]
  },
  {
   "cell_type": "code",
   "execution_count": null,
   "metadata": {},
   "outputs": [],
   "source": [
    "assert run_game(example_calls, example_inputs) == 4512"
   ]
  },
  {
   "cell_type": "markdown",
   "metadata": {},
   "source": [
    "## Star 1"
   ]
  },
  {
   "cell_type": "code",
   "execution_count": null,
   "metadata": {},
   "outputs": [],
   "source": [
    "all_input = aoc.read_file_as_list_of_lists('inputs/day4_1.txt')"
   ]
  },
  {
   "cell_type": "code",
   "execution_count": null,
   "metadata": {},
   "outputs": [],
   "source": [
    "calls = [int(x) for x in all_input[0]]\n",
    "print(calls)"
   ]
  },
  {
   "cell_type": "code",
   "execution_count": null,
   "metadata": {},
   "outputs": [],
   "source": [
    "num_boards = int((len(all_input) - 1) / 6)\n",
    "num_boards"
   ]
  },
  {
   "cell_type": "code",
   "execution_count": null,
   "metadata": {},
   "outputs": [],
   "source": [
    "all_input[2:7]"
   ]
  },
  {
   "cell_type": "code",
   "execution_count": null,
   "metadata": {},
   "outputs": [],
   "source": [
    "all_input[8:13]"
   ]
  },
  {
   "cell_type": "code",
   "execution_count": null,
   "metadata": {},
   "outputs": [],
   "source": [
    "all_input[14:19]"
   ]
  },
  {
   "cell_type": "code",
   "execution_count": null,
   "metadata": {},
   "outputs": [],
   "source": [
    "all_board_entries = []\n",
    "for b in range(num_boards):\n",
    "    board_input_data = all_input[2 + b * 6 : 1 + (b + 1) * 6]\n",
    "    board_data = [[int(x) for x in re.findall(r'(\\d+)', row[0])] for row in board_input_data]\n",
    "    all_board_entries.append(board_data)"
   ]
  },
  {
   "cell_type": "code",
   "execution_count": null,
   "metadata": {},
   "outputs": [],
   "source": [
    "run_game(calls, all_board_entries)"
   ]
  },
  {
   "cell_type": "markdown",
   "metadata": {},
   "source": [
    "## Star 2"
   ]
  },
  {
   "cell_type": "code",
   "execution_count": null,
   "metadata": {},
   "outputs": [],
   "source": [
    "def find_last_board(calls, board_entries, verbose=False):\n",
    "    bingo_boards = [bingo_board(e) for e in board_entries]\n",
    "    num_boards = len(bingo_boards)\n",
    "    remaining_boards = bingo_boards\n",
    "    winning_boards = []\n",
    "    \n",
    "    for idx, call in enumerate(calls):\n",
    "        if verbose:\n",
    "            print(f'Round {idx} call {call}')\n",
    "        \n",
    "        for b in remaining_boards:\n",
    "            b.process_call(call)\n",
    "        \n",
    "        for b in remaining_boards:\n",
    "            if b.board_wins:\n",
    "                winning_boards.append(b)\n",
    "        remaining_boards = [b for b in remaining_boards if not b.board_wins()]\n",
    "        \n",
    "        if len(remaining_boards) == 0:\n",
    "            last_board = winning_boards[-1]\n",
    "            if verbose:\n",
    "                print('No boards left')\n",
    "                print('Final entry was')\n",
    "                print(last_board)\n",
    "                print(f'Unmarked total {last_board.unused_total}')\n",
    "            return last_board.unused_total * call\n",
    "        \n",
    "        else:\n",
    "            if verbose:\n",
    "                print(f'{len(remaining_boards)} boards remain')"
   ]
  },
  {
   "cell_type": "code",
   "execution_count": null,
   "metadata": {},
   "outputs": [],
   "source": [
    "assert find_last_board(example_calls, example_inputs, verbose=True) == 1924"
   ]
  },
  {
   "cell_type": "code",
   "execution_count": null,
   "metadata": {},
   "outputs": [],
   "source": [
    "# Star 2 solution\n",
    "find_last_board(calls, all_board_entries)"
   ]
  },
  {
   "cell_type": "code",
   "execution_count": null,
   "metadata": {},
   "outputs": [],
   "source": []
  }
 ],
 "metadata": {
  "kernelspec": {
   "display_name": "Python 3",
   "language": "python",
   "name": "python3"
  },
  "language_info": {
   "codemirror_mode": {
    "name": "ipython",
    "version": 3
   },
   "file_extension": ".py",
   "mimetype": "text/x-python",
   "name": "python",
   "nbconvert_exporter": "python",
   "pygments_lexer": "ipython3",
   "version": "3.7.3"
  }
 },
 "nbformat": 4,
 "nbformat_minor": 2
}
