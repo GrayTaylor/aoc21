{
 "cells": [
  {
   "cell_type": "code",
   "execution_count": null,
   "metadata": {},
   "outputs": [],
   "source": [
    "import aoc"
   ]
  },
  {
   "cell_type": "code",
   "execution_count": null,
   "metadata": {},
   "outputs": [],
   "source": [
    "example_insertion_rules = r'''CH -> B\n",
    "HH -> N\n",
    "CB -> H\n",
    "NH -> C\n",
    "HB -> C\n",
    "HC -> B\n",
    "HN -> C\n",
    "NN -> C\n",
    "BH -> H\n",
    "NC -> B\n",
    "NB -> B\n",
    "BN -> B\n",
    "BB -> N\n",
    "BC -> B\n",
    "CC -> N\n",
    "CN -> C'''"
   ]
  },
  {
   "cell_type": "code",
   "execution_count": null,
   "metadata": {},
   "outputs": [],
   "source": [
    "example_polymerizer = aoc.Polymerizer(example_insertion_rules)"
   ]
  },
  {
   "cell_type": "code",
   "execution_count": null,
   "metadata": {},
   "outputs": [],
   "source": [
    "# Review some steps\n",
    "for k in range(5):\n",
    "    print(f\"After step {k}: {example_polymerizer.polymerize('NNCB', k)}\")"
   ]
  },
  {
   "cell_type": "code",
   "execution_count": null,
   "metadata": {},
   "outputs": [],
   "source": [
    "# Review size after 10 steps\n",
    "assert len(example_polymerizer.polymerize('NNCB', 10)) == 3073"
   ]
  },
  {
   "cell_type": "code",
   "execution_count": null,
   "metadata": {},
   "outputs": [],
   "source": [
    "# Review counts\n",
    "example_counts = example_polymerizer.counts_after_polymerization('NNCB', 10)\n",
    "example_counts\n",
    "assert example_counts['B'] == 1749\n",
    "assert example_counts['C'] == 298\n",
    "assert example_counts['H'] == 161\n",
    "assert example_counts['N'] == 865\n",
    "assert example_polymerizer.score_after_polymerization('NNCB', 10) == 1588"
   ]
  },
  {
   "cell_type": "code",
   "execution_count": null,
   "metadata": {},
   "outputs": [],
   "source": [
    "day14_string = aoc.read_file_as_string('inputs/day14.txt')\n",
    "day14_polymer_template = aoc.read_file_as_list('inputs/day14.txt')[0]\n",
    "print(day14_polymer_template)"
   ]
  },
  {
   "cell_type": "code",
   "execution_count": null,
   "metadata": {},
   "outputs": [],
   "source": [
    "# Star 1 solution\n",
    "day14_polymerizer = aoc.Polymerizer(day14_string)\n",
    "day14_polymerizer.score_after_polymerization(day14_polymer_template, 10)"
   ]
  },
  {
   "cell_type": "code",
   "execution_count": null,
   "metadata": {},
   "outputs": [],
   "source": [
    "# Review larger star 2 counts\n",
    "example_counts = example_polymerizer.counts_after_polymerization('NNCB', 40)\n",
    "example_counts\n",
    "assert example_counts['B'] == 2192039569602\n",
    "assert example_counts['H'] == 3849876073\n",
    "assert example_polymerizer.score_after_polymerization('NNCB', 40) == 2188189693529"
   ]
  },
  {
   "cell_type": "code",
   "execution_count": null,
   "metadata": {},
   "outputs": [],
   "source": [
    "# Star 2 solution\n",
    "day14_polymerizer.score_after_polymerization(day14_polymer_template, 40)"
   ]
  },
  {
   "cell_type": "code",
   "execution_count": null,
   "metadata": {},
   "outputs": [],
   "source": []
  }
 ],
 "metadata": {
  "kernelspec": {
   "display_name": "Python 3",
   "language": "python",
   "name": "python3"
  },
  "language_info": {
   "codemirror_mode": {
    "name": "ipython",
    "version": 3
   },
   "file_extension": ".py",
   "mimetype": "text/x-python",
   "name": "python",
   "nbconvert_exporter": "python",
   "pygments_lexer": "ipython3",
   "version": "3.7.3"
  }
 },
 "nbformat": 4,
 "nbformat_minor": 2
}
