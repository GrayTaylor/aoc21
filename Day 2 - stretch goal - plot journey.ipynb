{
 "cells": [
  {
   "cell_type": "code",
   "execution_count": null,
   "metadata": {},
   "outputs": [],
   "source": [
    "import matplotlib\n",
    "import matplotlib.pyplot as plt\n",
    "import gif # see https://github.com/maxhumber/gif for details\n",
    "import submarine"
   ]
  },
  {
   "cell_type": "code",
   "execution_count": null,
   "metadata": {},
   "outputs": [],
   "source": [
    "# Grab entire file as one string\n",
    "with open('inputs/day2_1.txt') as f:\n",
    "    raw_directions = f.read()"
   ]
  },
  {
   "cell_type": "code",
   "execution_count": null,
   "metadata": {},
   "outputs": [],
   "source": [
    "# Process\n",
    "directions = submarine.directions_from_string(raw_directions)"
   ]
  },
  {
   "cell_type": "code",
   "execution_count": null,
   "metadata": {},
   "outputs": [],
   "source": [
    "@gif.frame\n",
    "def plot(journey, step):\n",
    "    fig, ax = plt.subplots(figsize=(12,8))\n",
    "    ax.plot([s[0] for s in journey[:step]], \n",
    "            [s[1] for s in journey[:step]])\n",
    "    ax.set_ylim(0, max([s[1] for s in journey]))\n",
    "    ax.set_xlim(0, max([s[0] for s in journey]))\n",
    "    plt.gca().invert_yaxis()"
   ]
  },
  {
   "cell_type": "code",
   "execution_count": null,
   "metadata": {},
   "outputs": [],
   "source": [
    "for mode in ['d2s1', 'd2s2']:\n",
    "    journey = submarine.generate_journey(directions, mode)\n",
    "\n",
    "    frames = []\n",
    "    for i in range(0,len(journey),10):\n",
    "        frame = plot(journey, i)\n",
    "        frames.append(frame)\n",
    "\n",
    "    filename = f'./viz/{mode}_journey.gif'\n",
    "    gif.save(frames, filename, duration=5, unit=\"s\", between=\"startend\")"
   ]
  },
  {
   "cell_type": "code",
   "execution_count": null,
   "metadata": {},
   "outputs": [],
   "source": []
  }
 ],
 "metadata": {
  "kernelspec": {
   "display_name": "Python 3",
   "language": "python",
   "name": "python3"
  },
  "language_info": {
   "codemirror_mode": {
    "name": "ipython",
    "version": 3
   },
   "file_extension": ".py",
   "mimetype": "text/x-python",
   "name": "python",
   "nbconvert_exporter": "python",
   "pygments_lexer": "ipython3",
   "version": "3.7.3"
  }
 },
 "nbformat": 4,
 "nbformat_minor": 2
}
