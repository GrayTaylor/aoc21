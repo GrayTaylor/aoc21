{
 "cells": [
  {
   "cell_type": "code",
   "execution_count": 1,
   "metadata": {},
   "outputs": [],
   "source": [
    "import matplotlib\n",
    "import matplotlib.pyplot as plt\n",
    "import gif # see https://github.com/maxhumber/gif for details"
   ]
  },
  {
   "cell_type": "code",
   "execution_count": 2,
   "metadata": {},
   "outputs": [],
   "source": [
    "# Grab entire file \n",
    "with open('inputs/day2_1.txt') as f:\n",
    "    raw_directions = f.read()"
   ]
  },
  {
   "cell_type": "code",
   "execution_count": 3,
   "metadata": {},
   "outputs": [],
   "source": [
    "# convert to list of lists\n",
    "directions = [d.split(' ') for d in raw_directions.split(\"\\n\")]"
   ]
  },
  {
   "cell_type": "code",
   "execution_count": 4,
   "metadata": {},
   "outputs": [
    {
     "name": "stdout",
     "output_type": "stream",
     "text": [
      "skipping blank instruction  ['']\n"
     ]
    }
   ],
   "source": [
    "# Produce a 'journey' of (distance, depth) coordinates\n",
    "depth = 0\n",
    "horizontal = 0\n",
    "aim = 0\n",
    "journey = []\n",
    "\n",
    "for step in directions:\n",
    "    if len(step) == 0:\n",
    "        print('skipping blank instruction ', step)\n",
    "    if len(step[0]) == 0:\n",
    "        print('skipping blank instruction ', step)\n",
    "    elif step[0][0] == 'd':\n",
    "        aim += int(step[1])\n",
    "    elif step[0][0] == 'u':\n",
    "        aim -= int(step[1])\n",
    "    elif step[0][0] == 'f':\n",
    "        horizontal += int(step[1])\n",
    "        depth += aim * int(step[1])\n",
    "    else:\n",
    "        print('got unexpected instruction ', step)\n",
    "    # print(step, depth, distance)\n",
    "    journey.append([horizontal, depth])\n"
   ]
  },
  {
   "cell_type": "code",
   "execution_count": 5,
   "metadata": {},
   "outputs": [],
   "source": [
    "@gif.frame\n",
    "def plot(journey, step):\n",
    "    fig, ax = plt.subplots(figsize=(12,8))\n",
    "    ax.plot([s[0] for s in journey[:step]], \n",
    "            [s[1] for s in journey[:step]])\n",
    "    ax.set_ylim(0, max([s[1] for s in journey]))\n",
    "    ax.set_xlim(0, max([s[0] for s in journey]))\n",
    "    plt.gca().invert_yaxis()"
   ]
  },
  {
   "cell_type": "code",
   "execution_count": 6,
   "metadata": {},
   "outputs": [],
   "source": [
    "frames = []\n",
    "for i in range(0,len(journey),10):\n",
    "    frame = plot(journey, i)\n",
    "    frames.append(frame)"
   ]
  },
  {
   "cell_type": "code",
   "execution_count": 7,
   "metadata": {},
   "outputs": [],
   "source": [
    "gif.save(frames, './viz/journey.gif', duration=5, unit=\"s\", between=\"startend\")"
   ]
  },
  {
   "cell_type": "code",
   "execution_count": null,
   "metadata": {},
   "outputs": [],
   "source": []
  }
 ],
 "metadata": {
  "kernelspec": {
   "display_name": "Python 3",
   "language": "python",
   "name": "python3"
  },
  "language_info": {
   "codemirror_mode": {
    "name": "ipython",
    "version": 3
   },
   "file_extension": ".py",
   "mimetype": "text/x-python",
   "name": "python",
   "nbconvert_exporter": "python",
   "pygments_lexer": "ipython3",
   "version": "3.7.3"
  }
 },
 "nbformat": 4,
 "nbformat_minor": 2
}
