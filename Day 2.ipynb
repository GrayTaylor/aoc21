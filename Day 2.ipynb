{
 "cells": [
  {
   "cell_type": "code",
   "execution_count": null,
   "metadata": {},
   "outputs": [],
   "source": [
    "import re"
   ]
  },
  {
   "cell_type": "code",
   "execution_count": null,
   "metadata": {},
   "outputs": [],
   "source": [
    "# Grab entire as one string to repeatedly match within\n",
    "with open('inputs/day2_1.txt') as f:\n",
    "    raw_directions = f.read()"
   ]
  },
  {
   "cell_type": "code",
   "execution_count": null,
   "metadata": {},
   "outputs": [],
   "source": [
    "# Find anything that looks like a direction, a space, and a number\n",
    "directions = re.findall(r'(forward |up |down )(\\d+)', raw_directions)"
   ]
  },
  {
   "cell_type": "code",
   "execution_count": null,
   "metadata": {},
   "outputs": [],
   "source": [
    "# Clean up\n",
    "directions = [[d[0].strip(), int(d[1])] for d in directions]"
   ]
  },
  {
   "cell_type": "code",
   "execution_count": null,
   "metadata": {},
   "outputs": [],
   "source": [
    "#horizontal is cumulative effect of forward steps\n",
    "horizontal = sum([d[1] for d in directions if d[0]=='forward'])\n",
    "horizontal"
   ]
  },
  {
   "cell_type": "code",
   "execution_count": null,
   "metadata": {},
   "outputs": [],
   "source": [
    "#depth is net cumulative of total descent and ascent \n",
    "# (provided depth never instructed to go negative; not handled)\n",
    "depth = sum([d[1] for d in directions if d[0]=='down']) - sum([d[1] for d in directions if d[0]=='up'])\n",
    "depth"
   ]
  },
  {
   "cell_type": "code",
   "execution_count": null,
   "metadata": {},
   "outputs": [],
   "source": [
    "# First star answer\n",
    "print(horizontal * depth)"
   ]
  },
  {
   "cell_type": "code",
   "execution_count": null,
   "metadata": {},
   "outputs": [],
   "source": [
    "def generate_journey(directions, mode='d2s2'):\n",
    "    '''\n",
    "    Given a list of directions of the form [forward/up/down, N], \n",
    "    return a list of the locations visited of the form [position, depth].\n",
    "    \n",
    "    mode is of the form dNsM, where N is the day and M is the star\n",
    "    (so, currently, options are d1s1 and d1s2)\n",
    "    '''\n",
    "    depth = 0\n",
    "    horizontal = 0\n",
    "    aim = 0\n",
    "    journey = []\n",
    "\n",
    "    for step in directions:\n",
    "        if len(step) == 0:\n",
    "            print('skipping blank instruction ', step)\n",
    "        if len(step[0]) == 0:\n",
    "            print('skipping blank instruction ', step)\n",
    "        elif step[0][0] == 'd':\n",
    "            if mode == 'd2s1':\n",
    "                depth += step[1]\n",
    "            else:\n",
    "                aim += step[1]\n",
    "        elif step[0][0] == 'u':\n",
    "            if mode == 'd2s1':\n",
    "                depth -= step[1]\n",
    "            else:\n",
    "                aim -= step[1]\n",
    "        elif step[0][0] == 'f':\n",
    "            horizontal += step[1]\n",
    "            if mode == 'd2s2':\n",
    "                depth += aim * step[1]\n",
    "        else:\n",
    "            print('got unexpected instruction ', step)\n",
    "        \n",
    "        journey.append([horizontal, depth])\n",
    "        \n",
    "    return journey\n",
    "    "
   ]
  },
  {
   "cell_type": "code",
   "execution_count": null,
   "metadata": {},
   "outputs": [],
   "source": [
    "# Second star answer (and first, by tracing route rather than cumulative counts)\n",
    "for mode in ['d2s1', 'd2s2']:\n",
    "    journey = generate_journey(directions, mode)\n",
    "    destination = journey[-1]\n",
    "    solution = destination[0] * destination[1]\n",
    "    print(f'Solution for star {mode[-1]} is {solution}')"
   ]
  },
  {
   "cell_type": "code",
   "execution_count": null,
   "metadata": {},
   "outputs": [],
   "source": []
  }
 ],
 "metadata": {
  "kernelspec": {
   "display_name": "Python 3",
   "language": "python",
   "name": "python3"
  },
  "language_info": {
   "codemirror_mode": {
    "name": "ipython",
    "version": 3
   },
   "file_extension": ".py",
   "mimetype": "text/x-python",
   "name": "python",
   "nbconvert_exporter": "python",
   "pygments_lexer": "ipython3",
   "version": "3.7.3"
  }
 },
 "nbformat": 4,
 "nbformat_minor": 2
}
