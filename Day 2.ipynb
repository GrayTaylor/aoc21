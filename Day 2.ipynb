{
 "cells": [
  {
   "cell_type": "code",
   "execution_count": 1,
   "metadata": {},
   "outputs": [],
   "source": [
    "# Grab entire as one string to repeatedly match within\n",
    "with open('inputs/day2_1.txt') as f:\n",
    "    raw_directions = f.read()"
   ]
  },
  {
   "cell_type": "code",
   "execution_count": 2,
   "metadata": {},
   "outputs": [],
   "source": [
    "import re"
   ]
  },
  {
   "cell_type": "code",
   "execution_count": 3,
   "metadata": {},
   "outputs": [],
   "source": [
    "#horizontal is cumulative effect of forward steps\n",
    "forward_steps = re.findall(r'(forward )(\\d+)', raw_directions)\n",
    "horizontal = sum([int(s[1]) for s in forward_steps])"
   ]
  },
  {
   "cell_type": "code",
   "execution_count": 4,
   "metadata": {},
   "outputs": [],
   "source": [
    "#depth is net cumulative of total descent and ascent \n",
    "# (provided depth never instructed to go negative; not handled)\n",
    "up_steps = re.findall(r'(up )(\\d+)', raw_directions)\n",
    "down_steps = re.findall(r'(down )(\\d+)', raw_directions)\n",
    "depth = sum([int(s[1]) for s in down_steps]) - sum([int(s[1]) for s in up_steps])"
   ]
  },
  {
   "cell_type": "code",
   "execution_count": 5,
   "metadata": {},
   "outputs": [
    {
     "name": "stdout",
     "output_type": "stream",
     "text": [
      "2070300\n"
     ]
    }
   ],
   "source": [
    "# First star answer\n",
    "print(horizontal * depth)"
   ]
  },
  {
   "cell_type": "code",
   "execution_count": 6,
   "metadata": {},
   "outputs": [],
   "source": [
    "# Don't see how to track aim with those lists; \n",
    "# rather than try to assign indexing just loop through each line after all!\n",
    "directions = [d.split(' ') for d in raw_directions.split(\"\\n\")]"
   ]
  },
  {
   "cell_type": "code",
   "execution_count": 7,
   "metadata": {},
   "outputs": [
    {
     "name": "stdout",
     "output_type": "stream",
     "text": [
      "skipping blank instruction  ['']\n"
     ]
    }
   ],
   "source": [
    "depth = 0\n",
    "horizontal = 0\n",
    "aim = 0\n",
    "\n",
    "for step in directions:\n",
    "    if len(step) == 0:\n",
    "        print('skipping blank instruction ', step)\n",
    "    if len(step[0]) == 0:\n",
    "        print('skipping blank instruction ', step)\n",
    "    elif step[0][0] == 'd':\n",
    "        aim += int(step[1])\n",
    "    elif step[0][0] == 'u':\n",
    "        aim -= int(step[1])\n",
    "    elif step[0][0] == 'f':\n",
    "        horizontal += int(step[1])\n",
    "        depth += aim * int(step[1])\n",
    "    else:\n",
    "        print('got unexpected instruction ', step)\n",
    "    # print(step, depth, distance)\n"
   ]
  },
  {
   "cell_type": "code",
   "execution_count": 8,
   "metadata": {},
   "outputs": [
    {
     "name": "stdout",
     "output_type": "stream",
     "text": [
      "2078985210\n"
     ]
    }
   ],
   "source": [
    "# Second star answer\n",
    "print(depth * horizontal)"
   ]
  },
  {
   "cell_type": "code",
   "execution_count": null,
   "metadata": {},
   "outputs": [],
   "source": []
  }
 ],
 "metadata": {
  "kernelspec": {
   "display_name": "Python 3",
   "language": "python",
   "name": "python3"
  },
  "language_info": {
   "codemirror_mode": {
    "name": "ipython",
    "version": 3
   },
   "file_extension": ".py",
   "mimetype": "text/x-python",
   "name": "python",
   "nbconvert_exporter": "python",
   "pygments_lexer": "ipython3",
   "version": "3.7.3"
  }
 },
 "nbformat": 4,
 "nbformat_minor": 2
}
