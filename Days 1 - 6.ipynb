{
 "cells": [
  {
   "cell_type": "code",
   "execution_count": 1,
   "metadata": {},
   "outputs": [],
   "source": [
    "import re\n",
    "import aoc"
   ]
  },
  {
   "cell_type": "markdown",
   "metadata": {},
   "source": [
    "# Day 1"
   ]
  },
  {
   "cell_type": "code",
   "execution_count": 2,
   "metadata": {},
   "outputs": [],
   "source": [
    "d1_example_list = [199, 200, 208, 210, 200, 207, 240, 269, 260, 263]"
   ]
  },
  {
   "cell_type": "code",
   "execution_count": 3,
   "metadata": {},
   "outputs": [],
   "source": [
    "def num_increases(sonar_readings):\n",
    "    verdict = [i for i in range(len(sonar_readings) - 1) \n",
    "               if sonar_readings[i] < sonar_readings[i+1]]\n",
    "    return len(verdict)"
   ]
  },
  {
   "cell_type": "code",
   "execution_count": 4,
   "metadata": {},
   "outputs": [],
   "source": [
    "assert num_increases(d1_example_list) == 7"
   ]
  },
  {
   "cell_type": "code",
   "execution_count": 5,
   "metadata": {},
   "outputs": [],
   "source": [
    "input_file = 'inputs/day1_1.txt'\n",
    "star1_list = [int(x) \n",
    "              for x in aoc.read_file_as_list(input_file)]"
   ]
  },
  {
   "cell_type": "code",
   "execution_count": 6,
   "metadata": {},
   "outputs": [
    {
     "name": "stdout",
     "output_type": "stream",
     "text": [
      "1502\n"
     ]
    }
   ],
   "source": [
    "# First star answer\n",
    "print(num_increases(star1_list))"
   ]
  },
  {
   "cell_type": "code",
   "execution_count": 7,
   "metadata": {},
   "outputs": [],
   "source": [
    "def sliding_window(sonar_readings, window_size):\n",
    "    num_sliding_windows = len(sonar_readings) + 1 - window_size\n",
    "    return [sum(sonar_readings[i:i + window_size]) \n",
    "            for i in range(num_sliding_windows)]"
   ]
  },
  {
   "cell_type": "code",
   "execution_count": 8,
   "metadata": {},
   "outputs": [],
   "source": [
    "# Verify the example\n",
    "expected_windows = [607, 618, 618, 617, 647, 716, 769, 792]\n",
    "computed_windows = sliding_window(d1_example_list, 3)\n",
    "assert  computed_windows == expected_windows\n",
    "assert num_increases(expected_windows) == 5"
   ]
  },
  {
   "cell_type": "code",
   "execution_count": 9,
   "metadata": {},
   "outputs": [
    {
     "name": "stdout",
     "output_type": "stream",
     "text": [
      "1538\n"
     ]
    }
   ],
   "source": [
    "# Second star answer\n",
    "print(num_increases(sliding_window(star1_list, 3)))"
   ]
  },
  {
   "cell_type": "markdown",
   "metadata": {},
   "source": [
    "# Day 2"
   ]
  },
  {
   "cell_type": "code",
   "execution_count": 10,
   "metadata": {},
   "outputs": [],
   "source": [
    "# Grab entire file as one string\n",
    "filename = 'inputs/day2_1.txt'\n",
    "raw_directions = aoc.read_file_as_string(filename)"
   ]
  },
  {
   "cell_type": "markdown",
   "metadata": {},
   "source": [
    "## Star 1"
   ]
  },
  {
   "cell_type": "code",
   "execution_count": 11,
   "metadata": {},
   "outputs": [],
   "source": [
    "# Process\n",
    "directions = aoc.directions_from_string(raw_directions)"
   ]
  },
  {
   "cell_type": "code",
   "execution_count": 12,
   "metadata": {},
   "outputs": [
    {
     "data": {
      "text/plain": [
       "2010"
      ]
     },
     "execution_count": 12,
     "metadata": {},
     "output_type": "execute_result"
    }
   ],
   "source": [
    "#horizontal is cumulative effect of forward steps\n",
    "horizontal = sum([d[1] for d in directions if d[0]=='forward'])\n",
    "horizontal"
   ]
  },
  {
   "cell_type": "code",
   "execution_count": 13,
   "metadata": {},
   "outputs": [
    {
     "data": {
      "text/plain": [
       "1030"
      ]
     },
     "execution_count": 13,
     "metadata": {},
     "output_type": "execute_result"
    }
   ],
   "source": [
    "#depth is net cumulative of total descent and ascent \n",
    "# (provided depth never instructed to go negative; not handled)\n",
    "depth = sum([d[1] for d in directions if d[0]=='down']) - sum([d[1] for d in directions if d[0]=='up'])\n",
    "depth"
   ]
  },
  {
   "cell_type": "code",
   "execution_count": 14,
   "metadata": {},
   "outputs": [
    {
     "name": "stdout",
     "output_type": "stream",
     "text": [
      "2070300\n"
     ]
    }
   ],
   "source": [
    "# First star answer\n",
    "print(horizontal * depth)"
   ]
  },
  {
   "cell_type": "markdown",
   "metadata": {},
   "source": [
    "## Star 2"
   ]
  },
  {
   "cell_type": "code",
   "execution_count": 15,
   "metadata": {},
   "outputs": [
    {
     "name": "stdout",
     "output_type": "stream",
     "text": [
      "Solution for star 1 is 2070300\n",
      "Solution for star 2 is 2078985210\n"
     ]
    }
   ],
   "source": [
    "# Second star answer (and repeat of first, by tracing route rather than cumulative counts)\n",
    "for mode in ['d2s1', 'd2s2']:\n",
    "    journey = aoc.generate_journey(directions, mode)\n",
    "    destination = journey[-1]\n",
    "    solution = destination[0] * destination[1]\n",
    "    print(f'Solution for star {mode[-1]} is {solution}')"
   ]
  },
  {
   "cell_type": "markdown",
   "metadata": {},
   "source": [
    "# Day 3"
   ]
  },
  {
   "cell_type": "code",
   "execution_count": 16,
   "metadata": {},
   "outputs": [],
   "source": [
    "d3_example_input = ['00100', '11110', '10110', '10111',\n",
    "                    '10101', '01111', '00111', '11100',\n",
    "                    '10000', '11001', '00010', '01010']"
   ]
  },
  {
   "cell_type": "code",
   "execution_count": 17,
   "metadata": {},
   "outputs": [
    {
     "data": {
      "text/plain": [
       "['111100000101',\n",
       " '001110100010',\n",
       " '101110110011',\n",
       " '100000001101',\n",
       " '001101010011']"
      ]
     },
     "execution_count": 17,
     "metadata": {},
     "output_type": "execute_result"
    }
   ],
   "source": [
    "d3_full_input = aoc.read_file_as_list('inputs/day3_1.txt')\n",
    "\n",
    "# preview\n",
    "d3_full_input[:5]"
   ]
  },
  {
   "cell_type": "markdown",
   "metadata": {},
   "source": [
    "## Star 1"
   ]
  },
  {
   "cell_type": "code",
   "execution_count": 18,
   "metadata": {},
   "outputs": [],
   "source": [
    "assert aoc.rate(d3_example_input, 'gamma') == 22\n",
    "assert aoc.rate(d3_example_input, 'epsilon') == 9"
   ]
  },
  {
   "cell_type": "code",
   "execution_count": 19,
   "metadata": {},
   "outputs": [
    {
     "name": "stdout",
     "output_type": "stream",
     "text": [
      "3277364\n"
     ]
    }
   ],
   "source": [
    "# Star 1 solution\n",
    "print(aoc.rate(d3_full_input, 'gamma') * aoc.rate(d3_full_input, 'epsilon'))"
   ]
  },
  {
   "cell_type": "markdown",
   "metadata": {},
   "source": [
    "## Star 2"
   ]
  },
  {
   "cell_type": "code",
   "execution_count": 20,
   "metadata": {},
   "outputs": [],
   "source": [
    "assert aoc.rating(d3_example_input, 'oxygen_generator') == 23\n",
    "assert aoc.rating(d3_example_input, 'co2_scrubber') == 10"
   ]
  },
  {
   "cell_type": "code",
   "execution_count": 21,
   "metadata": {},
   "outputs": [
    {
     "name": "stdout",
     "output_type": "stream",
     "text": [
      "Starting condition 1 leaves 511 strings\n",
      "Starting condition 11 leaves 261 strings\n",
      "Starting condition 110 leaves 133 strings\n",
      "Starting condition 1101 leaves 78 strings\n",
      "Starting condition 11011 leaves 44 strings\n",
      "Starting condition 110111 leaves 28 strings\n",
      "Starting condition 1101111 leaves 17 strings\n",
      "Starting condition 11011111 leaves 9 strings\n",
      "Starting condition 110111111 leaves 5 strings\n",
      "Starting condition 1101111111 leaves 4 strings\n",
      "Starting condition 11011111111 leaves 2 strings\n",
      "Starting condition 110111111111 leaves 1 strings\n",
      "Conditioning on 110111111111 leaves one string 110111111111\n"
     ]
    }
   ],
   "source": [
    "oxygen = aoc.rating(d3_full_input, 'oxygen_generator', verbose=True)"
   ]
  },
  {
   "cell_type": "code",
   "execution_count": 22,
   "metadata": {},
   "outputs": [
    {
     "name": "stdout",
     "output_type": "stream",
     "text": [
      "Starting condition 0 leaves 489 strings\n",
      "Starting condition 01 leaves 237 strings\n",
      "Starting condition 011 leaves 113 strings\n",
      "Starting condition 0110 leaves 56 strings\n",
      "Starting condition 01100 leaves 26 strings\n",
      "Starting condition 011001 leaves 11 strings\n",
      "Starting condition 0110010 leaves 4 strings\n",
      "Starting condition 01100100 leaves 2 strings\n",
      "Starting condition 011001000 leaves 1 strings\n",
      "Conditioning on 011001000 leaves one string 011001000001\n"
     ]
    }
   ],
   "source": [
    "co2 = aoc.rating(d3_full_input, 'co2_scrubber', verbose=True)"
   ]
  },
  {
   "cell_type": "code",
   "execution_count": 23,
   "metadata": {},
   "outputs": [
    {
     "name": "stdout",
     "output_type": "stream",
     "text": [
      "5736383\n"
     ]
    }
   ],
   "source": [
    "# Star 2 solution\n",
    "print(oxygen * co2)"
   ]
  },
  {
   "cell_type": "markdown",
   "metadata": {},
   "source": [
    "# Day 4"
   ]
  },
  {
   "cell_type": "code",
   "execution_count": 24,
   "metadata": {},
   "outputs": [],
   "source": [
    "example_calls = [7,4,9,5,11,17,23,2,0,14,21,24,10,16,13,6,15,25,12,22,18,20,8,19,3,26,1]"
   ]
  },
  {
   "cell_type": "code",
   "execution_count": 25,
   "metadata": {},
   "outputs": [],
   "source": [
    "# Set up example boards\n",
    "\n",
    "example_board1 = [[22, 13, 17, 11,  0],\n",
    " [8,  2, 23,  4, 24],\n",
    "[21,  9, 14, 16,  7],\n",
    "[6, 10,  3, 18,  5],\n",
    " [1, 12, 20, 15, 19]]\n",
    "\n",
    "example_board2 = [[3, 15,  0,  2, 22],\n",
    " [9, 18, 13, 17,  5],\n",
    "[19,  8,  7, 25, 23],\n",
    "[20, 11, 10, 24,  4],\n",
    "[14, 21, 16, 12,  6]]\n",
    "\n",
    "example_board3 = [[14, 21, 17, 24,  4],\n",
    "[10, 16, 15,  9, 19],\n",
    "[18,  8, 23, 26, 20],\n",
    "[22, 11, 13,  6,  5],\n",
    "[2,  0, 12,  3,  7]]\n",
    "\n",
    "example_inputs = [example_board1, example_board2, example_board3]\n",
    "example_bingo_boards = [aoc.bingo_board(e) for e in example_inputs]"
   ]
  },
  {
   "cell_type": "code",
   "execution_count": 26,
   "metadata": {},
   "outputs": [],
   "source": [
    "# Get full data set\n",
    "all_input = aoc.read_file_as_list_of_lists('inputs/day4_1.txt')"
   ]
  },
  {
   "cell_type": "code",
   "execution_count": 27,
   "metadata": {},
   "outputs": [
    {
     "name": "stdout",
     "output_type": "stream",
     "text": [
      "[90, 4, 2, 96, 46, 1, 62, 97, 3, 52, 7, 35, 50, 28, 31, 37, 74, 26, 59, 53, 82, 47, 83, 80, 19, 40, 68, 95, 34, 55, 54, 73, 12, 78, 30, 63, 57, 93, 72, 77, 56, 91, 23, 67, 64, 79, 85, 84, 76, 10, 58, 0, 29, 13, 94, 20, 32, 25, 11, 38, 89, 21, 98, 92, 42, 27, 14, 99, 24, 75, 86, 51, 22, 48, 9, 33, 49, 18, 70, 8, 87, 61, 39, 16, 66, 71, 5, 69, 15, 43, 88, 45, 6, 81, 60, 36, 44, 17, 41, 65]\n"
     ]
    }
   ],
   "source": [
    "calls = [int(x) for x in all_input[0]]\n",
    "print(calls)"
   ]
  },
  {
   "cell_type": "code",
   "execution_count": 28,
   "metadata": {},
   "outputs": [],
   "source": [
    "# Generate boards\n",
    "num_boards = int((len(all_input) - 1) / 6)\n",
    "num_boards\n",
    "all_boards = []\n",
    "for b in range(num_boards):\n",
    "    board_input_data = all_input[2 + b * 6 : 1 + (b + 1) * 6]\n",
    "    board_data = [[int(x) for x in re.findall(r'(\\d+)', row[0])] for row in board_input_data]\n",
    "    all_boards.append(aoc.bingo_board(board_data))"
   ]
  },
  {
   "cell_type": "markdown",
   "metadata": {},
   "source": [
    "## Star 1"
   ]
  },
  {
   "cell_type": "code",
   "execution_count": 29,
   "metadata": {},
   "outputs": [
    {
     "name": "stdout",
     "output_type": "stream",
     "text": [
      "Round 0 call 7\n",
      "Round 1 call 4\n",
      "Round 2 call 9\n",
      "Round 3 call 5\n",
      "Round 4 call 11\n",
      "Round 5 call 17\n",
      "Round 6 call 23\n",
      "Round 7 call 2\n",
      "Round 8 call 0\n",
      "Round 9 call 14\n",
      "Round 10 call 21\n",
      "Round 11 call 24\n",
      "\n",
      "winning board:\n",
      " X  X  X  X  X\n",
      "10 16 15  X 19\n",
      "18  8  X 26 20\n",
      "22  X 13  6  X\n",
      " X  X 12  3  X\n",
      "\n",
      "Unmarked total 188\n"
     ]
    }
   ],
   "source": [
    "# verify score of first winning board, and review game session\n",
    "assert aoc.score_winning_board(example_calls, example_bingo_boards) == 4512"
   ]
  },
  {
   "cell_type": "code",
   "execution_count": 30,
   "metadata": {},
   "outputs": [
    {
     "name": "stdout",
     "output_type": "stream",
     "text": [
      "Round 0 call 90\n",
      "Round 1 call 4\n",
      "Round 2 call 2\n",
      "Round 3 call 96\n",
      "Round 4 call 46\n",
      "Round 5 call 1\n",
      "Round 6 call 62\n",
      "Round 7 call 97\n",
      "Round 8 call 3\n",
      "Round 9 call 52\n",
      "Round 10 call 7\n",
      "Round 11 call 35\n",
      "Round 12 call 50\n",
      "Round 13 call 28\n",
      "Round 14 call 31\n",
      "Round 15 call 37\n",
      "Round 16 call 74\n",
      "Round 17 call 26\n",
      "Round 18 call 59\n",
      "Round 19 call 53\n",
      "Round 20 call 82\n",
      "Round 21 call 47\n",
      "Round 22 call 83\n",
      "Round 23 call 80\n",
      "Round 24 call 19\n",
      "Round 25 call 40\n",
      "Round 26 call 68\n",
      "Round 27 call 95\n",
      "Round 28 call 34\n",
      "Round 29 call 55\n",
      "Round 30 call 54\n",
      "Round 31 call 73\n",
      "Round 32 call 12\n",
      "\n",
      "winning board:\n",
      " X 18  X 88  X\n",
      "10 51  X  X 79\n",
      "24  X  X 89 21\n",
      "57  X  X 17  X\n",
      "58 92  X 14 60\n",
      "\n",
      "Unmarked total 678\n",
      "8136\n"
     ]
    }
   ],
   "source": [
    "# Star 1 solution\n",
    "print(aoc.score_winning_board(calls, all_boards))"
   ]
  },
  {
   "cell_type": "markdown",
   "metadata": {},
   "source": [
    "## Star 2"
   ]
  },
  {
   "cell_type": "code",
   "execution_count": 31,
   "metadata": {},
   "outputs": [
    {
     "name": "stdout",
     "output_type": "stream",
     "text": [
      "Round 0 call 7\n",
      "3 boards remain\n",
      "Round 1 call 4\n",
      "3 boards remain\n",
      "Round 2 call 9\n",
      "3 boards remain\n",
      "Round 3 call 5\n",
      "3 boards remain\n",
      "Round 4 call 11\n",
      "3 boards remain\n",
      "Round 5 call 17\n",
      "3 boards remain\n",
      "Round 6 call 23\n",
      "3 boards remain\n",
      "Round 7 call 2\n",
      "3 boards remain\n",
      "Round 8 call 0\n",
      "3 boards remain\n",
      "Round 9 call 14\n",
      "3 boards remain\n",
      "Round 10 call 21\n",
      "3 boards remain\n",
      "Round 11 call 24\n",
      "2 boards remain\n",
      "Round 12 call 10\n",
      "2 boards remain\n",
      "Round 13 call 16\n",
      "1 boards remain\n",
      "Round 14 call 13\n",
      "No boards left\n",
      "Final entry was\n",
      " 3 15  X  X 22\n",
      " X 18  X  X  X\n",
      "19  8  X 25  X\n",
      "20  X  X  X  X\n",
      " X  X  X 12  6\n",
      "\n",
      "Unmarked total 148\n"
     ]
    }
   ],
   "source": [
    "# verify score of last winning board, and review elimination process\n",
    "assert aoc.score_last_winning_board(example_calls, example_bingo_boards, verbose=True) == 1924"
   ]
  },
  {
   "cell_type": "code",
   "execution_count": 32,
   "metadata": {},
   "outputs": [
    {
     "data": {
      "text/plain": [
       "12738"
      ]
     },
     "execution_count": 32,
     "metadata": {},
     "output_type": "execute_result"
    }
   ],
   "source": [
    "# Star 2 solution\n",
    "aoc.score_last_winning_board(calls, all_boards)"
   ]
  },
  {
   "cell_type": "markdown",
   "metadata": {},
   "source": [
    "# Day 5"
   ]
  },
  {
   "cell_type": "code",
   "execution_count": 33,
   "metadata": {},
   "outputs": [],
   "source": [
    "d5_example_string = r'''0,9 -> 5,9\n",
    "8,0 -> 0,8\n",
    "9,4 -> 3,4\n",
    "2,2 -> 2,1\n",
    "7,0 -> 7,4\n",
    "6,4 -> 2,0\n",
    "0,9 -> 2,9\n",
    "3,4 -> 1,4\n",
    "0,0 -> 8,8\n",
    "5,5 -> 8,2'''\n",
    "\n",
    "d5_example_lines = aoc.process_vent_lines_string(d5_example_string)"
   ]
  },
  {
   "cell_type": "code",
   "execution_count": 34,
   "metadata": {},
   "outputs": [],
   "source": [
    "# Get full data set\n",
    "d5_full_string = aoc.read_file_as_string('inputs/day5_1.txt')\n",
    "d5_lines = aoc.process_vent_lines_string(d5_full_string)"
   ]
  },
  {
   "cell_type": "markdown",
   "metadata": {},
   "source": [
    "## Star 1"
   ]
  },
  {
   "cell_type": "code",
   "execution_count": 35,
   "metadata": {},
   "outputs": [],
   "source": [
    "# Verify example\n",
    "danger_points = aoc.count_danger_points(d5_example_lines,\n",
    "                                        include_diag=False)\n",
    "assert danger_points == 5"
   ]
  },
  {
   "cell_type": "code",
   "execution_count": 36,
   "metadata": {},
   "outputs": [
    {
     "data": {
      "text/plain": [
       "7318"
      ]
     },
     "execution_count": 36,
     "metadata": {},
     "output_type": "execute_result"
    }
   ],
   "source": [
    "# Star 1 solution\n",
    "aoc.count_danger_points(d5_lines, include_diag=False)"
   ]
  },
  {
   "cell_type": "markdown",
   "metadata": {},
   "source": [
    "## Star 2"
   ]
  },
  {
   "cell_type": "code",
   "execution_count": 37,
   "metadata": {},
   "outputs": [],
   "source": [
    "# Verify example\n",
    "danger_points = aoc.count_danger_points(d5_example_lines,\n",
    "                                        include_diag=True)\n",
    "\n",
    "assert danger_points == 12"
   ]
  },
  {
   "cell_type": "code",
   "execution_count": 38,
   "metadata": {},
   "outputs": [
    {
     "data": {
      "text/plain": [
       "19939"
      ]
     },
     "execution_count": 38,
     "metadata": {},
     "output_type": "execute_result"
    }
   ],
   "source": [
    "# Star 2 solution\n",
    "aoc.count_danger_points(d5_lines, include_diag=True)"
   ]
  },
  {
   "cell_type": "markdown",
   "metadata": {},
   "source": [
    "# Day 6"
   ]
  },
  {
   "cell_type": "code",
   "execution_count": 39,
   "metadata": {},
   "outputs": [],
   "source": [
    "d6_example_counts = [3, 4, 3, 1, 2]\n",
    "example_school = aoc.LanternfishSchool(d6_example_counts)\n",
    "\n",
    "full_counts = aoc.read_file_as_single_line_of_ints('inputs/day6.txt')\n",
    "full_school = aoc.LanternfishSchool(full_counts)"
   ]
  },
  {
   "cell_type": "markdown",
   "metadata": {},
   "source": [
    "## Star 1"
   ]
  },
  {
   "cell_type": "code",
   "execution_count": 40,
   "metadata": {},
   "outputs": [],
   "source": [
    "# Verify examples\n",
    "example_school.set_to_day_n(18)\n",
    "assert example_school.total_fish() == 26\n",
    "\n",
    "example_school.set_to_day_n(80)\n",
    "assert example_school.total_fish() == 5934"
   ]
  },
  {
   "cell_type": "code",
   "execution_count": 41,
   "metadata": {},
   "outputs": [
    {
     "data": {
      "text/plain": [
       "375482"
      ]
     },
     "execution_count": 41,
     "metadata": {},
     "output_type": "execute_result"
    }
   ],
   "source": [
    "# Star 1 solution\n",
    "full_school.set_to_day_n(80)\n",
    "full_school.total_fish()"
   ]
  },
  {
   "cell_type": "markdown",
   "metadata": {},
   "source": [
    "## Star 2"
   ]
  },
  {
   "cell_type": "code",
   "execution_count": 42,
   "metadata": {},
   "outputs": [],
   "source": [
    "# Verify example\n",
    "example_school.set_to_day_n(256)\n",
    "assert example_school.total_fish() == 26984457539"
   ]
  },
  {
   "cell_type": "code",
   "execution_count": 43,
   "metadata": {},
   "outputs": [
    {
     "data": {
      "text/plain": [
       "1689540415957"
      ]
     },
     "execution_count": 43,
     "metadata": {},
     "output_type": "execute_result"
    }
   ],
   "source": [
    "# Star 2 solution\n",
    "full_school.set_to_day_n(256)\n",
    "full_school.total_fish()"
   ]
  },
  {
   "cell_type": "code",
   "execution_count": null,
   "metadata": {},
   "outputs": [],
   "source": []
  }
 ],
 "metadata": {
  "kernelspec": {
   "display_name": "Python 3",
   "language": "python",
   "name": "python3"
  },
  "language_info": {
   "codemirror_mode": {
    "name": "ipython",
    "version": 3
   },
   "file_extension": ".py",
   "mimetype": "text/x-python",
   "name": "python",
   "nbconvert_exporter": "python",
   "pygments_lexer": "ipython3",
   "version": "3.7.3"
  }
 },
 "nbformat": 4,
 "nbformat_minor": 2
}
