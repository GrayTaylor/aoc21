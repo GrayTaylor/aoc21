{
 "cells": [
  {
   "cell_type": "code",
   "execution_count": null,
   "metadata": {},
   "outputs": [],
   "source": [
    "import aoc"
   ]
  },
  {
   "cell_type": "code",
   "execution_count": null,
   "metadata": {},
   "outputs": [],
   "source": [
    "examples = ['[({(<(())[]>[[{[]{<()<>>',\n",
    "            '[(()[<>])]({[<{<<[]>>(',\n",
    "            '{([(<{}[<>[]}>{[]{[(<()>',\n",
    "            '(((({<>}<{<{<>}{[]{[]{}',\n",
    "            '[[<[([]))<([[{}[[()]]]',\n",
    "            '[{[{({}]{}}([{[{{{}}([]',\n",
    "            '{<[[]]>}<{[{[{[]{()[[[]',\n",
    "            '[<(<(<(<{}))><([]([]()',\n",
    "            '<{([([[(<>()){}]>(<<{{',\n",
    "            '<{([{{}}[<[[[<>{}]]]>[]]']"
   ]
  },
  {
   "cell_type": "code",
   "execution_count": null,
   "metadata": {},
   "outputs": [],
   "source": [
    "def first_illegal_char(line):\n",
    "    char_counts = {'[':0, '(':0, '{':0, '<':0}\n",
    "    closes = {']':'[', ')':'(', '}':'{', '>':'<'}\n",
    "    for char in line:\n",
    "        if char in ['[', '{', '(', '<']:\n",
    "            char_counts[char] += 1\n",
    "        else:\n",
    "            if char_counts[closes[char]] == 0:\n",
    "                return char\n",
    "            else:\n",
    "                char_counts[closes[char]] -= 1\n",
    "        print(char_counts)\n",
    "    return None"
   ]
  },
  {
   "cell_type": "code",
   "execution_count": null,
   "metadata": {},
   "outputs": [],
   "source": [
    "def first_illegal_char(line):\n",
    "    closes = {']':'[', ')':'(', '}':'{', '>':'<'}\n",
    "    pending = [line[0]]\n",
    "    for char in line[1:]:\n",
    "        if char in ['[', '{', '(', '<']:\n",
    "            pending.append(char)\n",
    "        else:\n",
    "            if pending[-1] != closes[char]:\n",
    "                return char\n",
    "            else:\n",
    "                pending = pending[:-1]\n",
    "        #print(pending)\n",
    "    return None"
   ]
  },
  {
   "cell_type": "code",
   "execution_count": null,
   "metadata": {},
   "outputs": [],
   "source": [
    "def score_illegal_first_chars(lines):\n",
    "    first_illegal_chars = [first_illegal_char(l) for l in lines]\n",
    "    first_illegal_chars = [c for c in first_illegal_chars if c is not None]\n",
    "    char_counts = aoc.distinct_counts(first_illegal_chars)\n",
    "    scores = {']':57, ')':3, '}':1197, '>':25137}\n",
    "    return sum([scores[c]*char_counts[c] for c in char_counts])"
   ]
  },
  {
   "cell_type": "code",
   "execution_count": null,
   "metadata": {},
   "outputs": [],
   "source": [
    "score_illegal_first_chars(examples)"
   ]
  },
  {
   "cell_type": "code",
   "execution_count": null,
   "metadata": {},
   "outputs": [],
   "source": [
    "full_lines=aoc.read_file_as_list('inputs/day10.txt')\n"
   ]
  },
  {
   "cell_type": "code",
   "execution_count": null,
   "metadata": {},
   "outputs": [],
   "source": [
    "score_illegal_first_chars(full_lines)"
   ]
  },
  {
   "cell_type": "code",
   "execution_count": null,
   "metadata": {},
   "outputs": [],
   "source": [
    "def incomplete_lines(lines):\n",
    "    return [l for l in lines if first_illegal_char(l) is None]"
   ]
  },
  {
   "cell_type": "code",
   "execution_count": null,
   "metadata": {},
   "outputs": [],
   "source": [
    "example_incomplete = incomplete_lines(examples)"
   ]
  },
  {
   "cell_type": "code",
   "execution_count": null,
   "metadata": {},
   "outputs": [],
   "source": [
    "example_incomplete"
   ]
  },
  {
   "cell_type": "code",
   "execution_count": null,
   "metadata": {},
   "outputs": [],
   "source": [
    "def build_pending_queue(line):\n",
    "    closes = {']':'[', ')':'(', '}':'{', '>':'<'}\n",
    "    pending = [line[0]]\n",
    "    for char in line[1:]:\n",
    "        if char in ['[', '{', '(', '<']:\n",
    "            pending.append(char)\n",
    "        else:\n",
    "            if pending[-1] != closes[char]:\n",
    "                raise ValueError('line was corrupt, not incomplete')\n",
    "            else:\n",
    "                pending = pending[:-1]\n",
    "    return pending"
   ]
  },
  {
   "cell_type": "code",
   "execution_count": null,
   "metadata": {},
   "outputs": [],
   "source": [
    "build_pending_queue(example_incomplete[0])"
   ]
  },
  {
   "cell_type": "code",
   "execution_count": null,
   "metadata": {},
   "outputs": [],
   "source": [
    "def complete_line(line):\n",
    "    pending = build_pending_queue(line)\n",
    "    pending.reverse()\n",
    "    closer = {'[':']', '(':')', '{':'}', '<':'>'}\n",
    "    return [closer[char] for char in pending]"
   ]
  },
  {
   "cell_type": "code",
   "execution_count": null,
   "metadata": {},
   "outputs": [],
   "source": [
    "complete_line(example_incomplete[0])"
   ]
  },
  {
   "cell_type": "code",
   "execution_count": null,
   "metadata": {},
   "outputs": [],
   "source": [
    "def score_autocomplete(completion):\n",
    "    score = 0\n",
    "    char_score = {']':2, ')':1, '}':3, '>':4}\n",
    "    for char in completion:\n",
    "        score *= 5\n",
    "        score += char_score[char]\n",
    "    return score"
   ]
  },
  {
   "cell_type": "code",
   "execution_count": null,
   "metadata": {},
   "outputs": [],
   "source": [
    "score_autocomplete(complete_line(example_incomplete[-1]))"
   ]
  },
  {
   "cell_type": "code",
   "execution_count": null,
   "metadata": {},
   "outputs": [],
   "source": [
    "def score_incomplete_line(line):\n",
    "    return score_autocomplete(complete_line(line))"
   ]
  },
  {
   "cell_type": "code",
   "execution_count": null,
   "metadata": {},
   "outputs": [],
   "source": [
    "for l in example_incomplete:\n",
    "    print(l, score_incomplete_line(l))"
   ]
  },
  {
   "cell_type": "code",
   "execution_count": null,
   "metadata": {},
   "outputs": [],
   "source": [
    "def score_incomplete_lines(lines):\n",
    "    scores = [score_incomplete_line(l) for l in lines]\n",
    "    scores.sort()\n",
    "    return scores[int((len(scores) -1)/2)]"
   ]
  },
  {
   "cell_type": "code",
   "execution_count": null,
   "metadata": {},
   "outputs": [],
   "source": [
    "score_incomplete_lines(example_incomplete)"
   ]
  },
  {
   "cell_type": "code",
   "execution_count": null,
   "metadata": {},
   "outputs": [],
   "source": [
    "score_incomplete_lines(incomplete_lines(full_lines))"
   ]
  },
  {
   "cell_type": "code",
   "execution_count": null,
   "metadata": {},
   "outputs": [],
   "source": []
  }
 ],
 "metadata": {
  "kernelspec": {
   "display_name": "Python 3",
   "language": "python",
   "name": "python3"
  },
  "language_info": {
   "codemirror_mode": {
    "name": "ipython",
    "version": 3
   },
   "file_extension": ".py",
   "mimetype": "text/x-python",
   "name": "python",
   "nbconvert_exporter": "python",
   "pygments_lexer": "ipython3",
   "version": "3.7.3"
  }
 },
 "nbformat": 4,
 "nbformat_minor": 2
}
