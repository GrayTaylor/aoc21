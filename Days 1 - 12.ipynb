{
 "cells": [
  {
   "cell_type": "code",
   "execution_count": null,
   "metadata": {},
   "outputs": [],
   "source": [
    "import re\n",
    "import aoc"
   ]
  },
  {
   "cell_type": "markdown",
   "metadata": {},
   "source": [
    "# Day 1"
   ]
  },
  {
   "cell_type": "code",
   "execution_count": null,
   "metadata": {},
   "outputs": [],
   "source": [
    "d1_example_list = [199, 200, 208, 210, 200, 207, 240, 269, 260, 263]"
   ]
  },
  {
   "cell_type": "code",
   "execution_count": null,
   "metadata": {},
   "outputs": [],
   "source": [
    "def num_increases(sonar_readings):\n",
    "    verdict = [i for i in range(len(sonar_readings) - 1) \n",
    "               if sonar_readings[i] < sonar_readings[i+1]]\n",
    "    return len(verdict)"
   ]
  },
  {
   "cell_type": "code",
   "execution_count": null,
   "metadata": {},
   "outputs": [],
   "source": [
    "assert num_increases(d1_example_list) == 7"
   ]
  },
  {
   "cell_type": "code",
   "execution_count": null,
   "metadata": {},
   "outputs": [],
   "source": [
    "input_file = 'inputs/day1_1.txt'\n",
    "star1_list = [int(x) \n",
    "              for x in aoc.read_file_as_list(input_file)]"
   ]
  },
  {
   "cell_type": "code",
   "execution_count": null,
   "metadata": {},
   "outputs": [],
   "source": [
    "# First star answer\n",
    "print(num_increases(star1_list))"
   ]
  },
  {
   "cell_type": "code",
   "execution_count": null,
   "metadata": {},
   "outputs": [],
   "source": [
    "def sliding_window(sonar_readings, window_size):\n",
    "    num_sliding_windows = len(sonar_readings) + 1 - window_size\n",
    "    return [sum(sonar_readings[i:i + window_size]) \n",
    "            for i in range(num_sliding_windows)]"
   ]
  },
  {
   "cell_type": "code",
   "execution_count": null,
   "metadata": {},
   "outputs": [],
   "source": [
    "# Verify the example\n",
    "expected_windows = [607, 618, 618, 617, 647, 716, 769, 792]\n",
    "computed_windows = sliding_window(d1_example_list, 3)\n",
    "assert  computed_windows == expected_windows\n",
    "assert num_increases(expected_windows) == 5"
   ]
  },
  {
   "cell_type": "code",
   "execution_count": null,
   "metadata": {},
   "outputs": [],
   "source": [
    "# Second star answer\n",
    "print(num_increases(sliding_window(star1_list, 3)))"
   ]
  },
  {
   "cell_type": "markdown",
   "metadata": {},
   "source": [
    "# Day 2"
   ]
  },
  {
   "cell_type": "code",
   "execution_count": null,
   "metadata": {},
   "outputs": [],
   "source": [
    "# Grab entire file as one string\n",
    "filename = 'inputs/day2_1.txt'\n",
    "raw_directions = aoc.read_file_as_string(filename)"
   ]
  },
  {
   "cell_type": "markdown",
   "metadata": {},
   "source": [
    "## Star 1"
   ]
  },
  {
   "cell_type": "code",
   "execution_count": null,
   "metadata": {},
   "outputs": [],
   "source": [
    "# Process\n",
    "directions = aoc.directions_from_string(raw_directions)"
   ]
  },
  {
   "cell_type": "code",
   "execution_count": null,
   "metadata": {},
   "outputs": [],
   "source": [
    "#horizontal is cumulative effect of forward steps\n",
    "horizontal = sum([d[1] for d in directions if d[0]=='forward'])\n",
    "horizontal"
   ]
  },
  {
   "cell_type": "code",
   "execution_count": null,
   "metadata": {},
   "outputs": [],
   "source": [
    "#depth is net cumulative of total descent and ascent \n",
    "# (provided depth never instructed to go negative; not handled)\n",
    "depth = sum([d[1] for d in directions if d[0]=='down']) - sum([d[1] for d in directions if d[0]=='up'])\n",
    "depth"
   ]
  },
  {
   "cell_type": "code",
   "execution_count": null,
   "metadata": {},
   "outputs": [],
   "source": [
    "# First star answer\n",
    "print(horizontal * depth)"
   ]
  },
  {
   "cell_type": "markdown",
   "metadata": {},
   "source": [
    "## Star 2"
   ]
  },
  {
   "cell_type": "code",
   "execution_count": null,
   "metadata": {},
   "outputs": [],
   "source": [
    "# Second star answer (and repeat of first, by tracing route rather than cumulative counts)\n",
    "for mode in ['d2s1', 'd2s2']:\n",
    "    journey = aoc.generate_journey(directions, mode)\n",
    "    destination = journey[-1]\n",
    "    solution = destination[0] * destination[1]\n",
    "    print(f'Solution for star {mode[-1]} is {solution}')"
   ]
  },
  {
   "cell_type": "markdown",
   "metadata": {},
   "source": [
    "# Day 3"
   ]
  },
  {
   "cell_type": "code",
   "execution_count": null,
   "metadata": {},
   "outputs": [],
   "source": [
    "d3_example_input = ['00100', '11110', '10110', '10111',\n",
    "                    '10101', '01111', '00111', '11100',\n",
    "                    '10000', '11001', '00010', '01010']"
   ]
  },
  {
   "cell_type": "code",
   "execution_count": null,
   "metadata": {},
   "outputs": [],
   "source": [
    "d3_full_input = aoc.read_file_as_list('inputs/day3_1.txt')\n",
    "\n",
    "# preview\n",
    "d3_full_input[:5]"
   ]
  },
  {
   "cell_type": "markdown",
   "metadata": {},
   "source": [
    "## Star 1"
   ]
  },
  {
   "cell_type": "code",
   "execution_count": null,
   "metadata": {},
   "outputs": [],
   "source": [
    "assert aoc.rate(d3_example_input, 'gamma') == 22\n",
    "assert aoc.rate(d3_example_input, 'epsilon') == 9"
   ]
  },
  {
   "cell_type": "code",
   "execution_count": null,
   "metadata": {},
   "outputs": [],
   "source": [
    "# Star 1 solution\n",
    "print(aoc.rate(d3_full_input, 'gamma') * aoc.rate(d3_full_input, 'epsilon'))"
   ]
  },
  {
   "cell_type": "markdown",
   "metadata": {},
   "source": [
    "## Star 2"
   ]
  },
  {
   "cell_type": "code",
   "execution_count": null,
   "metadata": {},
   "outputs": [],
   "source": [
    "assert aoc.rating(d3_example_input, 'oxygen_generator') == 23\n",
    "assert aoc.rating(d3_example_input, 'co2_scrubber') == 10"
   ]
  },
  {
   "cell_type": "code",
   "execution_count": null,
   "metadata": {},
   "outputs": [],
   "source": [
    "oxygen = aoc.rating(d3_full_input, 'oxygen_generator', verbose=True)"
   ]
  },
  {
   "cell_type": "code",
   "execution_count": null,
   "metadata": {},
   "outputs": [],
   "source": [
    "co2 = aoc.rating(d3_full_input, 'co2_scrubber', verbose=True)"
   ]
  },
  {
   "cell_type": "code",
   "execution_count": null,
   "metadata": {},
   "outputs": [],
   "source": [
    "# Star 2 solution\n",
    "print(oxygen * co2)"
   ]
  },
  {
   "cell_type": "markdown",
   "metadata": {},
   "source": [
    "# Day 4"
   ]
  },
  {
   "cell_type": "code",
   "execution_count": null,
   "metadata": {},
   "outputs": [],
   "source": [
    "example_calls = [7,4,9,5,11,17,23,2,0,14,21,24,10,16,13,6,15,25,12,22,18,20,8,19,3,26,1]"
   ]
  },
  {
   "cell_type": "code",
   "execution_count": null,
   "metadata": {},
   "outputs": [],
   "source": [
    "# Set up example boards\n",
    "\n",
    "example_board1 = [[22, 13, 17, 11,  0],\n",
    " [8,  2, 23,  4, 24],\n",
    "[21,  9, 14, 16,  7],\n",
    "[6, 10,  3, 18,  5],\n",
    " [1, 12, 20, 15, 19]]\n",
    "\n",
    "example_board2 = [[3, 15,  0,  2, 22],\n",
    " [9, 18, 13, 17,  5],\n",
    "[19,  8,  7, 25, 23],\n",
    "[20, 11, 10, 24,  4],\n",
    "[14, 21, 16, 12,  6]]\n",
    "\n",
    "example_board3 = [[14, 21, 17, 24,  4],\n",
    "[10, 16, 15,  9, 19],\n",
    "[18,  8, 23, 26, 20],\n",
    "[22, 11, 13,  6,  5],\n",
    "[2,  0, 12,  3,  7]]\n",
    "\n",
    "example_inputs = [example_board1, example_board2, example_board3]\n",
    "example_bingo_boards = [aoc.bingo_board(e) for e in example_inputs]"
   ]
  },
  {
   "cell_type": "code",
   "execution_count": null,
   "metadata": {},
   "outputs": [],
   "source": [
    "# Get full data set\n",
    "all_input = aoc.read_file_as_list_of_lists('inputs/day4_1.txt')"
   ]
  },
  {
   "cell_type": "code",
   "execution_count": null,
   "metadata": {},
   "outputs": [],
   "source": [
    "calls = [int(x) for x in all_input[0]]\n",
    "print(calls)"
   ]
  },
  {
   "cell_type": "code",
   "execution_count": null,
   "metadata": {},
   "outputs": [],
   "source": [
    "# Generate boards\n",
    "num_boards = int((len(all_input) - 1) / 6)\n",
    "num_boards\n",
    "all_boards = []\n",
    "for b in range(num_boards):\n",
    "    board_input_data = all_input[2 + b * 6 : 1 + (b + 1) * 6]\n",
    "    board_data = [[int(x) for x in re.findall(r'(\\d+)', row[0])] for row in board_input_data]\n",
    "    all_boards.append(aoc.bingo_board(board_data))"
   ]
  },
  {
   "cell_type": "markdown",
   "metadata": {},
   "source": [
    "## Star 1"
   ]
  },
  {
   "cell_type": "code",
   "execution_count": null,
   "metadata": {},
   "outputs": [],
   "source": [
    "# verify score of first winning board, and review game session\n",
    "assert aoc.score_winning_board(example_calls, example_bingo_boards) == 4512"
   ]
  },
  {
   "cell_type": "code",
   "execution_count": null,
   "metadata": {},
   "outputs": [],
   "source": [
    "# Star 1 solution\n",
    "print(aoc.score_winning_board(calls, all_boards))"
   ]
  },
  {
   "cell_type": "markdown",
   "metadata": {},
   "source": [
    "## Star 2"
   ]
  },
  {
   "cell_type": "code",
   "execution_count": null,
   "metadata": {},
   "outputs": [],
   "source": [
    "# verify score of last winning board, and review elimination process\n",
    "assert aoc.score_last_winning_board(example_calls, example_bingo_boards, verbose=True) == 1924"
   ]
  },
  {
   "cell_type": "code",
   "execution_count": null,
   "metadata": {},
   "outputs": [],
   "source": [
    "# Star 2 solution\n",
    "aoc.score_last_winning_board(calls, all_boards)"
   ]
  },
  {
   "cell_type": "markdown",
   "metadata": {},
   "source": [
    "# Day 5"
   ]
  },
  {
   "cell_type": "code",
   "execution_count": null,
   "metadata": {},
   "outputs": [],
   "source": [
    "d5_example_string = r'''0,9 -> 5,9\n",
    "8,0 -> 0,8\n",
    "9,4 -> 3,4\n",
    "2,2 -> 2,1\n",
    "7,0 -> 7,4\n",
    "6,4 -> 2,0\n",
    "0,9 -> 2,9\n",
    "3,4 -> 1,4\n",
    "0,0 -> 8,8\n",
    "5,5 -> 8,2'''\n",
    "\n",
    "d5_example_lines = aoc.process_vent_lines_string(d5_example_string)"
   ]
  },
  {
   "cell_type": "code",
   "execution_count": null,
   "metadata": {},
   "outputs": [],
   "source": [
    "# Get full data set\n",
    "d5_full_string = aoc.read_file_as_string('inputs/day5_1.txt')\n",
    "d5_lines = aoc.process_vent_lines_string(d5_full_string)"
   ]
  },
  {
   "cell_type": "markdown",
   "metadata": {},
   "source": [
    "## Star 1"
   ]
  },
  {
   "cell_type": "code",
   "execution_count": null,
   "metadata": {},
   "outputs": [],
   "source": [
    "# Verify example\n",
    "danger_points = aoc.count_danger_points(d5_example_lines,\n",
    "                                        include_diag=False)\n",
    "assert danger_points == 5"
   ]
  },
  {
   "cell_type": "code",
   "execution_count": null,
   "metadata": {},
   "outputs": [],
   "source": [
    "# Star 1 solution\n",
    "aoc.count_danger_points(d5_lines, include_diag=False)"
   ]
  },
  {
   "cell_type": "markdown",
   "metadata": {},
   "source": [
    "## Star 2"
   ]
  },
  {
   "cell_type": "code",
   "execution_count": null,
   "metadata": {},
   "outputs": [],
   "source": [
    "# Verify example\n",
    "danger_points = aoc.count_danger_points(d5_example_lines,\n",
    "                                        include_diag=True)\n",
    "\n",
    "assert danger_points == 12"
   ]
  },
  {
   "cell_type": "code",
   "execution_count": null,
   "metadata": {},
   "outputs": [],
   "source": [
    "# Star 2 solution\n",
    "aoc.count_danger_points(d5_lines, include_diag=True)"
   ]
  },
  {
   "cell_type": "markdown",
   "metadata": {},
   "source": [
    "# Day 6"
   ]
  },
  {
   "cell_type": "code",
   "execution_count": null,
   "metadata": {},
   "outputs": [],
   "source": [
    "d6_example_counts = [3, 4, 3, 1, 2]\n",
    "example_school = aoc.LanternfishSchool(d6_example_counts)\n",
    "\n",
    "full_counts = aoc.read_file_as_single_line_of_ints('inputs/day6.txt')\n",
    "full_school = aoc.LanternfishSchool(full_counts)"
   ]
  },
  {
   "cell_type": "markdown",
   "metadata": {},
   "source": [
    "## Star 1"
   ]
  },
  {
   "cell_type": "code",
   "execution_count": null,
   "metadata": {},
   "outputs": [],
   "source": [
    "# Verify examples\n",
    "example_school.set_to_day_n(18)\n",
    "assert example_school.total_fish() == 26\n",
    "\n",
    "example_school.set_to_day_n(80)\n",
    "assert example_school.total_fish() == 5934"
   ]
  },
  {
   "cell_type": "code",
   "execution_count": null,
   "metadata": {},
   "outputs": [],
   "source": [
    "# Star 1 solution\n",
    "full_school.set_to_day_n(80)\n",
    "full_school.total_fish()"
   ]
  },
  {
   "cell_type": "markdown",
   "metadata": {},
   "source": [
    "## Star 2"
   ]
  },
  {
   "cell_type": "code",
   "execution_count": null,
   "metadata": {},
   "outputs": [],
   "source": [
    "# Verify example\n",
    "example_school.set_to_day_n(256)\n",
    "assert example_school.total_fish() == 26984457539"
   ]
  },
  {
   "cell_type": "code",
   "execution_count": null,
   "metadata": {},
   "outputs": [],
   "source": [
    "# Star 2 solution\n",
    "full_school.set_to_day_n(256)\n",
    "full_school.total_fish()"
   ]
  },
  {
   "cell_type": "markdown",
   "metadata": {},
   "source": [
    "# Day 7"
   ]
  },
  {
   "cell_type": "code",
   "execution_count": null,
   "metadata": {},
   "outputs": [],
   "source": [
    "d7_crab_positions = [16, 1, 2, 0, 4, 2, 7, 1, 2, 14]"
   ]
  },
  {
   "cell_type": "code",
   "execution_count": null,
   "metadata": {},
   "outputs": [],
   "source": [
    "d7_all_crab_positions = aoc.read_file_as_single_line_of_ints('inputs/day7.txt')"
   ]
  },
  {
   "cell_type": "markdown",
   "metadata": {},
   "source": [
    "## Star 1"
   ]
  },
  {
   "cell_type": "code",
   "execution_count": null,
   "metadata": {},
   "outputs": [],
   "source": [
    "# Verify various examples\n",
    "assert aoc.total_crab_fuel_costs(d7_crab_positions, 2, 'linear') == 37\n",
    "assert aoc.total_crab_fuel_costs(d7_crab_positions, 1, 'linear') == 41\n",
    "assert aoc.total_crab_fuel_costs(d7_crab_positions, 3, 'linear') == 39\n",
    "assert aoc.total_crab_fuel_costs(d7_crab_positions, 10, 'linear') == 71\n",
    "\n",
    "assert aoc.cheapest_crab_target(d7_crab_positions, mode='linear') == 2"
   ]
  },
  {
   "cell_type": "code",
   "execution_count": null,
   "metadata": {},
   "outputs": [],
   "source": [
    "# Star 1 solution\n",
    "target = aoc.cheapest_crab_target(d7_all_crab_positions, mode='linear')\n",
    "print(aoc.total_crab_fuel_costs(d7_all_crab_positions, target, 'linear'))"
   ]
  },
  {
   "cell_type": "markdown",
   "metadata": {},
   "source": [
    "## Star 2"
   ]
  },
  {
   "cell_type": "code",
   "execution_count": null,
   "metadata": {},
   "outputs": [],
   "source": [
    "# Verify various examples\n",
    "assert aoc.total_crab_fuel_costs(d7_crab_positions, 5, 'triangular') == 168\n",
    "assert aoc.total_crab_fuel_costs(d7_crab_positions, 2, 'triangular') == 206\n",
    "\n",
    "assert aoc.cheapest_crab_target(d7_crab_positions, mode='triangular') == 5"
   ]
  },
  {
   "cell_type": "code",
   "execution_count": null,
   "metadata": {},
   "outputs": [],
   "source": [
    "# Star 2 solution\n",
    "target = aoc.cheapest_crab_target(d7_all_crab_positions, mode='triangular')\n",
    "print(aoc.total_crab_fuel_costs(d7_all_crab_positions, target, 'triangular'))"
   ]
  },
  {
   "cell_type": "markdown",
   "metadata": {},
   "source": [
    "# Day 8"
   ]
  },
  {
   "cell_type": "code",
   "execution_count": null,
   "metadata": {},
   "outputs": [],
   "source": [
    "examples = ['be cfbegad cbdgef fgaecd cgeb fdcge agebfd fecdb fabcd edb | fdgacbe cefdb cefbgd gcbe',\n",
    "'edbfga begcd cbg gc gcadebf fbgde acbgfd abcde gfcbed gfec | fcgedb cgb dgebacf gc',\n",
    "'fgaebd cg bdaec gdafb agbcfd gdcbef bgcad gfac gcb cdgabef | cg cg fdcagb cbg',\n",
    "'fbegcd cbd adcefb dageb afcb bc aefdc ecdab fgdeca fcdbega | efabcd cedba gadfec cb',\n",
    "'aecbfdg fbg gf bafeg dbefa fcge gcbea fcaegb dgceab fcbdga | gecf egdcabf bgf bfgea',\n",
    "'fgeab ca afcebg bdacfeg cfaedg gcfdb baec bfadeg bafgc acf | gebdcfa ecba ca fadegcb',\n",
    "'dbcfg fgd bdegcaf fgec aegbdf ecdfab fbedc dacgb gdcebf gf | cefg dcbef fcge gbcadfe',\n",
    "'bdfegc cbegaf gecbf dfcage bdacg ed bedf ced adcbefg gebcd | ed bcgafe cdgba cbgef',\n",
    "'egadfb cdbfeg cegd fecab cgb gbdefca cg fgcdab egfdb bfceg | gbdfcae bgc cg cgb',\n",
    "'gcafb gcf dcaebfg ecagb gf abcdeg gaef cafbge fdbac fegbdc | fgae cfgab fg bagce']"
   ]
  },
  {
   "cell_type": "code",
   "execution_count": null,
   "metadata": {},
   "outputs": [],
   "source": [
    "full_day8 = aoc.read_file_as_list('inputs/day8.txt')"
   ]
  },
  {
   "cell_type": "markdown",
   "metadata": {},
   "source": [
    "## Star 1"
   ]
  },
  {
   "cell_type": "code",
   "execution_count": null,
   "metadata": {},
   "outputs": [],
   "source": [
    "# verify example\n",
    "all_outputs = []\n",
    "for wire in examples:\n",
    "    all_outputs.extend(aoc.get_output_symbols(wire))\n",
    "    \n",
    "output_lengths = [len(s) for s in all_outputs]\n",
    "unique_digits = [d for d in output_lengths if d in [2, 4, 3, 7]]\n",
    "assert len(unique_digits) == 26"
   ]
  },
  {
   "cell_type": "code",
   "execution_count": null,
   "metadata": {},
   "outputs": [],
   "source": [
    "# repeat for full data\n",
    "all_outputs = []\n",
    "for wire in full_day8:\n",
    "    all_outputs.extend(aoc.get_output_symbols(wire))\n",
    "    \n",
    "output_lengths = [len(s) for s in all_outputs]\n",
    "unique_digits = [d for d in output_lengths if d in [2, 4, 3, 7]]"
   ]
  },
  {
   "cell_type": "code",
   "execution_count": null,
   "metadata": {},
   "outputs": [],
   "source": [
    "# star 1 solution\n",
    "print(len(unique_digits))"
   ]
  },
  {
   "cell_type": "markdown",
   "metadata": {},
   "source": [
    "## Star 2"
   ]
  },
  {
   "cell_type": "code",
   "execution_count": null,
   "metadata": {},
   "outputs": [],
   "source": [
    "# verify a particular example\n",
    "d8_example = 'acedgfb cdfbe gcdfa fbcad dab cefabd cdfgeb eafb cagedb ab | cdfeb fcadb cdfeb cdbaf'\n",
    "d8_example_symbol_list = aoc.get_symbol_list(d8_example)\n",
    "d8_output_symbols = aoc.get_output_symbols(d8_example)"
   ]
  },
  {
   "cell_type": "code",
   "execution_count": null,
   "metadata": {},
   "outputs": [],
   "source": [
    "# check we de-rewired correctly\n",
    "wiring = aoc.determine_wiring(d8_example_symbol_list)\n",
    "assert wiring['d'] == 'a'\n",
    "assert wiring['e'] == 'b'\n",
    "assert wiring['a'] == 'c'\n",
    "assert wiring['f'] == 'd'\n",
    "assert wiring['g'] == 'e'\n",
    "assert wiring['b'] == 'f'\n",
    "assert wiring['c'] == 'g'"
   ]
  },
  {
   "cell_type": "code",
   "execution_count": null,
   "metadata": {},
   "outputs": [],
   "source": [
    "# check symbol processing\n",
    "assert aoc.decode_output('cdfeb', wiring) == 5\n",
    "assert aoc.decode_output('fcadb', wiring) == 3\n",
    "assert aoc.decode_output('cdbaf', wiring) == 3"
   ]
  },
  {
   "cell_type": "code",
   "execution_count": null,
   "metadata": {},
   "outputs": [],
   "source": [
    "# check answer built from digits correctly\n",
    "assert aoc.get_line_value(d8_example) == 5353"
   ]
  },
  {
   "cell_type": "code",
   "execution_count": null,
   "metadata": {},
   "outputs": [],
   "source": [
    "# star 2 solution\n",
    "print(sum([aoc.get_line_value(x) for x in full_day8]))"
   ]
  },
  {
   "cell_type": "markdown",
   "metadata": {},
   "source": [
    "# Day 9"
   ]
  },
  {
   "cell_type": "code",
   "execution_count": null,
   "metadata": {},
   "outputs": [],
   "source": [
    "example = ['2199943210',\n",
    "           '3987894921',\n",
    "           '9856789892',\n",
    "           '8767896789',\n",
    "           '9899965678']"
   ]
  },
  {
   "cell_type": "code",
   "execution_count": null,
   "metadata": {},
   "outputs": [],
   "source": [
    "full_input = aoc.read_file_as_list('inputs/day9.txt')"
   ]
  },
  {
   "cell_type": "code",
   "execution_count": null,
   "metadata": {},
   "outputs": [],
   "source": [
    "example_grid = aoc.ValueGrid(aoc.int_array_from_strings(example))\n",
    "full_grid = aoc.ValueGrid(aoc.int_array_from_strings(full_input))"
   ]
  },
  {
   "cell_type": "markdown",
   "metadata": {},
   "source": [
    "## Star 1"
   ]
  },
  {
   "cell_type": "code",
   "execution_count": null,
   "metadata": {},
   "outputs": [],
   "source": [
    "# Verify low point locations\n",
    "example_low_points = aoc.low_points(example_grid)\n",
    "print(example_low_points)\n",
    "total_risk = sum(aoc.risk_level(p, example_grid) for p in example_low_points)\n",
    "assert total_risk == 15"
   ]
  },
  {
   "cell_type": "code",
   "execution_count": null,
   "metadata": {},
   "outputs": [],
   "source": [
    "# Star 1 solution\n",
    "sum(aoc.risk_level(p, full_grid) for p in aoc.low_points(full_grid))"
   ]
  },
  {
   "cell_type": "markdown",
   "metadata": {},
   "source": [
    "## Star 2"
   ]
  },
  {
   "cell_type": "code",
   "execution_count": null,
   "metadata": {},
   "outputs": [],
   "source": [
    "# Verify basin sizes\n",
    "for p in example_low_points:\n",
    "    print(p, len(aoc.get_basin(p, example_grid)))"
   ]
  },
  {
   "cell_type": "code",
   "execution_count": null,
   "metadata": {},
   "outputs": [],
   "source": [
    "# Star 2 solution\n",
    "all_basin_sizes = [len(aoc.get_basin(p, full_grid)) \n",
    "                   for p in aoc.low_points(full_grid)]\n",
    "all_basin_sizes.sort()\n",
    "print(all_basin_sizes[-3] * all_basin_sizes[-2] * all_basin_sizes[-1])"
   ]
  },
  {
   "cell_type": "markdown",
   "metadata": {},
   "source": [
    "# Day 10"
   ]
  },
  {
   "cell_type": "code",
   "execution_count": null,
   "metadata": {},
   "outputs": [],
   "source": [
    "examples = ['[({(<(())[]>[[{[]{<()<>>',\n",
    "            '[(()[<>])]({[<{<<[]>>(',\n",
    "            '{([(<{}[<>[]}>{[]{[(<()>',\n",
    "            '(((({<>}<{<{<>}{[]{[]{}',\n",
    "            '[[<[([]))<([[{}[[()]]]',\n",
    "            '[{[{({}]{}}([{[{{{}}([]',\n",
    "            '{<[[]]>}<{[{[{[]{()[[[]',\n",
    "            '[<(<(<(<{}))><([]([]()',\n",
    "            '<{([([[(<>()){}]>(<<{{',\n",
    "            '<{([{{}}[<[[[<>{}]]]>[]]']"
   ]
  },
  {
   "cell_type": "code",
   "execution_count": null,
   "metadata": {},
   "outputs": [],
   "source": [
    "full_lines=aoc.read_file_as_list('inputs/day10.txt')"
   ]
  },
  {
   "cell_type": "markdown",
   "metadata": {},
   "source": [
    "## Star 1"
   ]
  },
  {
   "cell_type": "code",
   "execution_count": null,
   "metadata": {},
   "outputs": [],
   "source": [
    "# Verify example\n",
    "assert aoc.score_illegal_first_chars(examples)  == 26397"
   ]
  },
  {
   "cell_type": "code",
   "execution_count": null,
   "metadata": {},
   "outputs": [],
   "source": [
    "# Star 1 solution\n",
    "aoc.score_illegal_first_chars(full_lines)"
   ]
  },
  {
   "cell_type": "markdown",
   "metadata": {},
   "source": [
    "## Star 2"
   ]
  },
  {
   "cell_type": "code",
   "execution_count": null,
   "metadata": {},
   "outputs": [],
   "source": [
    "# Verify example completions\n",
    "example_incomplete = aoc.incomplete_lines(examples)\n",
    "for line in example_incomplete:\n",
    "    print(line, '-  complete by adding', ''.join(aoc.complete_line(line)))"
   ]
  },
  {
   "cell_type": "code",
   "execution_count": null,
   "metadata": {},
   "outputs": [],
   "source": [
    "# verify scoring system\n",
    "for line in example_incomplete:\n",
    "    completion = aoc.complete_line(line)\n",
    "    print(f\"{''.join(completion)} - {aoc.score_autocomplete(completion)} total points\")"
   ]
  },
  {
   "cell_type": "code",
   "execution_count": null,
   "metadata": {},
   "outputs": [],
   "source": [
    "# star 2 solution\n",
    "aoc.score_incomplete_lines(aoc.incomplete_lines(full_lines))"
   ]
  },
  {
   "cell_type": "markdown",
   "metadata": {},
   "source": [
    "# Day 11"
   ]
  },
  {
   "cell_type": "code",
   "execution_count": null,
   "metadata": {},
   "outputs": [],
   "source": [
    "example_dumbo = ['5483143223',\n",
    "                 '2745854711',\n",
    "                 '5264556173',\n",
    "                 '6141336146',\n",
    "                 '6357385478',\n",
    "                 '4167524645',\n",
    "                 '2176841721',\n",
    "                 '6882881134',\n",
    "                 '4846848554',\n",
    "                 '5283751526']\n",
    "\n",
    "tiny_example = ['11111',\n",
    "                '19991',\n",
    "                '19191',\n",
    "                '19991',\n",
    "                '11111']\n",
    "\n",
    "full_input = aoc.read_file_as_list('inputs/day11.txt')"
   ]
  },
  {
   "cell_type": "code",
   "execution_count": null,
   "metadata": {},
   "outputs": [],
   "source": [
    "example_grid = aoc.ValueGrid(aoc.int_array_from_strings(example_dumbo), \n",
    "                          neighbour_pattern='ring')\n",
    "tiny_example_grid = aoc.ValueGrid(aoc.int_array_from_strings(tiny_example), \n",
    "                          neighbour_pattern='ring')\n",
    "full_grid = aoc.ValueGrid(aoc.int_array_from_strings(full_input), \n",
    "                          neighbour_pattern='ring')"
   ]
  },
  {
   "cell_type": "markdown",
   "metadata": {},
   "source": [
    "## Star 1"
   ]
  },
  {
   "cell_type": "code",
   "execution_count": null,
   "metadata": {},
   "outputs": [],
   "source": [
    "# Verify the tiny example"
   ]
  },
  {
   "cell_type": "code",
   "execution_count": null,
   "metadata": {},
   "outputs": [],
   "source": [
    "tiny_example_grid.view_grid()"
   ]
  },
  {
   "cell_type": "code",
   "execution_count": null,
   "metadata": {},
   "outputs": [],
   "source": [
    "aoc.dumbo_step(tiny_example_grid)\n",
    "tiny_example_grid.view_grid()"
   ]
  },
  {
   "cell_type": "code",
   "execution_count": null,
   "metadata": {},
   "outputs": [],
   "source": [
    "aoc.dumbo_step(tiny_example_grid)\n",
    "tiny_example_grid.view_grid()"
   ]
  },
  {
   "cell_type": "code",
   "execution_count": null,
   "metadata": {},
   "outputs": [],
   "source": [
    "# verify flash count for example\n",
    "assert aoc.count_total_flashes(example_grid, 10) == 204\n",
    "assert aoc.count_total_flashes(example_grid, 100) == 1656"
   ]
  },
  {
   "cell_type": "code",
   "execution_count": null,
   "metadata": {},
   "outputs": [],
   "source": [
    "# Star 1 solution\n",
    "aoc.count_total_flashes(full_grid, 100)"
   ]
  },
  {
   "cell_type": "markdown",
   "metadata": {},
   "source": [
    "## Star 2"
   ]
  },
  {
   "cell_type": "code",
   "execution_count": null,
   "metadata": {},
   "outputs": [],
   "source": [
    "# verify example\n",
    "assert aoc.detect_sync(example_grid) == 195"
   ]
  },
  {
   "cell_type": "code",
   "execution_count": null,
   "metadata": {},
   "outputs": [],
   "source": [
    "# Star 2 solution\n",
    "aoc.detect_sync(full_grid)"
   ]
  },
  {
   "cell_type": "markdown",
   "metadata": {},
   "source": [
    "# Day 12"
   ]
  },
  {
   "cell_type": "code",
   "execution_count": null,
   "metadata": {},
   "outputs": [],
   "source": [
    "example_network1 = ['start-A',\n",
    "                    'start-b',\n",
    "                    'A-c',\n",
    "                    'A-b',\n",
    "                    'b-d',\n",
    "                    'A-end',\n",
    "                    'b-end']\n",
    "\n",
    "example_network2 = ['dc-end',\n",
    "                    'HN-start',\n",
    "                    'start-kj',\n",
    "                    'dc-start',\n",
    "                    'dc-HN',\n",
    "                    'LN-dc',\n",
    "                    'HN-end',\n",
    "                    'kj-sa',\n",
    "                    'kj-HN',\n",
    "                    'kj-dc']\n",
    "\n",
    "example_network3 = ['fs-end',\n",
    "                    'he-DX',\n",
    "                    'fs-he',\n",
    "                    'start-DX',\n",
    "                    'pj-DX',\n",
    "                    'end-zg',\n",
    "                    'zg-sl',\n",
    "                    'zg-pj',\n",
    "                    'pj-he',\n",
    "                    'RW-he',\n",
    "                    'fs-DX',\n",
    "                    'pj-RW',\n",
    "                    'zg-RW',\n",
    "                    'start-pj',\n",
    "                    'he-WI',\n",
    "                    'zg-he',\n",
    "                    'pj-fs',\n",
    "                    'start-RW']\n",
    "\n",
    "full_network = aoc.read_file_as_list('inputs/day12.txt')"
   ]
  },
  {
   "cell_type": "code",
   "execution_count": null,
   "metadata": {},
   "outputs": [],
   "source": [
    "example_cave1 = aoc.CaveNetwork(example_network1)\n",
    "example_cave2 = aoc.CaveNetwork(example_network2)\n",
    "example_cave3 = aoc.CaveNetwork(example_network3)\n",
    "full_cave = aoc.CaveNetwork(full_network)"
   ]
  },
  {
   "cell_type": "markdown",
   "metadata": {},
   "source": [
    "## Star 1"
   ]
  },
  {
   "cell_type": "code",
   "execution_count": null,
   "metadata": {},
   "outputs": [],
   "source": [
    "# verify the example paths\n",
    "example_cave1.find_start_to_end(mode='d12s1')"
   ]
  },
  {
   "cell_type": "code",
   "execution_count": null,
   "metadata": {},
   "outputs": [],
   "source": [
    "# verify path counts\n",
    "assert len(example_cave1.find_start_to_end(mode='d12s1')) == 10\n",
    "assert len(example_cave2.find_start_to_end(mode='d12s1')) == 19\n",
    "assert len(example_cave3.find_start_to_end(mode='d12s1')) == 226"
   ]
  },
  {
   "cell_type": "code",
   "execution_count": null,
   "metadata": {},
   "outputs": [],
   "source": [
    "# Star 1 solution\n",
    "len(full_cave.find_start_to_end(mode='d12s1'))"
   ]
  },
  {
   "cell_type": "markdown",
   "metadata": {},
   "source": [
    "## Star 2"
   ]
  },
  {
   "cell_type": "code",
   "execution_count": null,
   "metadata": {},
   "outputs": [],
   "source": [
    "# verify the new path counts\n",
    "assert len(example_cave1.find_start_to_end(mode='d12s2')) == 36\n",
    "assert len(example_cave2.find_start_to_end(mode='d12s2')) == 103\n",
    "assert len(example_cave3.find_start_to_end(mode='d12s2')) == 3509"
   ]
  },
  {
   "cell_type": "code",
   "execution_count": null,
   "metadata": {},
   "outputs": [],
   "source": [
    "# star 2 solution\n",
    "%time len(full_cave.find_start_to_end(mode='d12s2'))"
   ]
  },
  {
   "cell_type": "code",
   "execution_count": null,
   "metadata": {},
   "outputs": [],
   "source": []
  }
 ],
 "metadata": {
  "kernelspec": {
   "display_name": "Python 3",
   "language": "python",
   "name": "python3"
  },
  "language_info": {
   "codemirror_mode": {
    "name": "ipython",
    "version": 3
   },
   "file_extension": ".py",
   "mimetype": "text/x-python",
   "name": "python",
   "nbconvert_exporter": "python",
   "pygments_lexer": "ipython3",
   "version": "3.7.3"
  }
 },
 "nbformat": 4,
 "nbformat_minor": 2
}
