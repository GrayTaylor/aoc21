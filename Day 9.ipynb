{
 "cells": [
  {
   "cell_type": "code",
   "execution_count": 1,
   "metadata": {},
   "outputs": [],
   "source": [
    "import aoc"
   ]
  },
  {
   "cell_type": "code",
   "execution_count": 2,
   "metadata": {},
   "outputs": [],
   "source": [
    "example = ['2199943210',\n",
    "'3987894921',\n",
    "'9856789892',\n",
    "'8767896789',\n",
    "'9899965678']"
   ]
  },
  {
   "cell_type": "code",
   "execution_count": 64,
   "metadata": {},
   "outputs": [],
   "source": [
    "def grid_from_input(input_strings):\n",
    "    return [[int(x) for x in s] for s in input_strings]"
   ]
  },
  {
   "cell_type": "code",
   "execution_count": 65,
   "metadata": {},
   "outputs": [],
   "source": [
    "example_grid = grid_from_input(example)"
   ]
  },
  {
   "cell_type": "code",
   "execution_count": 66,
   "metadata": {},
   "outputs": [
    {
     "data": {
      "text/plain": [
       "[[2, 1, 9, 9, 9, 4, 3, 2, 1, 0],\n",
       " [3, 9, 8, 7, 8, 9, 4, 9, 2, 1],\n",
       " [9, 8, 5, 6, 7, 8, 9, 8, 9, 2],\n",
       " [8, 7, 6, 7, 8, 9, 6, 7, 8, 9],\n",
       " [9, 8, 9, 9, 9, 6, 5, 6, 7, 8]]"
      ]
     },
     "execution_count": 66,
     "metadata": {},
     "output_type": "execute_result"
    }
   ],
   "source": [
    "example_grid"
   ]
  },
  {
   "cell_type": "code",
   "execution_count": 41,
   "metadata": {},
   "outputs": [],
   "source": [
    "def get_neighbours(i,j,num_rows, num_cols):\n",
    "    possible_neighbours = [(i - 1, j), (i + 1, j), (i, j - 1), (i, j + 1)]\n",
    "    return [n for n in possible_neighbours if n[0] >=0 and n[1] >= 0\n",
    "            and n[0] < num_rows and n[1] < num_cols]"
   ]
  },
  {
   "cell_type": "code",
   "execution_count": 56,
   "metadata": {},
   "outputs": [],
   "source": [
    "num_rows = len(example_grid)\n",
    "num_cols = len(example_grid[0])"
   ]
  },
  {
   "cell_type": "code",
   "execution_count": 43,
   "metadata": {},
   "outputs": [
    {
     "data": {
      "text/plain": [
       "[(1, 6), (0, 5), (0, 7)]"
      ]
     },
     "execution_count": 43,
     "metadata": {},
     "output_type": "execute_result"
    }
   ],
   "source": [
    "get_neighbours(0,6,num_rows, num_cols)"
   ]
  },
  {
   "cell_type": "code",
   "execution_count": 73,
   "metadata": {},
   "outputs": [],
   "source": [
    "def low_points(grid):\n",
    "    num_rows = len(grid)\n",
    "    num_cols = len(grid[0])\n",
    "\n",
    "    low_points = []\n",
    "    for i in range(num_rows):\n",
    "        for j in range(num_cols):\n",
    "            value = grid[i][j]\n",
    "            neighbours = get_neighbours(i,j,num_rows, num_cols)\n",
    "            neighbour_vals = [grid[n[0]][n[1]] \n",
    "                              for n in get_neighbours(i,j,num_rows, num_cols)]\n",
    "            if value < min(neighbour_vals):\n",
    "                low_points.append((i,j))\n",
    "    \n",
    "    return low_points"
   ]
  },
  {
   "cell_type": "code",
   "execution_count": 74,
   "metadata": {},
   "outputs": [],
   "source": [
    "example_low_points = low_points(example_grid)"
   ]
  },
  {
   "cell_type": "code",
   "execution_count": 75,
   "metadata": {},
   "outputs": [],
   "source": [
    "def risk_level(point, grid):\n",
    "    return 1 + grid[point[0]][point[1]]"
   ]
  },
  {
   "cell_type": "code",
   "execution_count": 76,
   "metadata": {},
   "outputs": [
    {
     "data": {
      "text/plain": [
       "15"
      ]
     },
     "execution_count": 76,
     "metadata": {},
     "output_type": "execute_result"
    }
   ],
   "source": [
    "total_risk = sum(risk_level(p, example_grid) for p in example_low_points)\n",
    "total_risk"
   ]
  },
  {
   "cell_type": "code",
   "execution_count": 77,
   "metadata": {},
   "outputs": [],
   "source": [
    "full_input = aoc.read_file_as_list('inputs/day9.txt')"
   ]
  },
  {
   "cell_type": "code",
   "execution_count": 78,
   "metadata": {},
   "outputs": [],
   "source": [
    "full_grid = grid_from_input(full_input)"
   ]
  },
  {
   "cell_type": "code",
   "execution_count": 79,
   "metadata": {},
   "outputs": [],
   "source": [
    "full_low_points = low_points(full_grid)"
   ]
  },
  {
   "cell_type": "code",
   "execution_count": 80,
   "metadata": {},
   "outputs": [
    {
     "data": {
      "text/plain": [
       "508"
      ]
     },
     "execution_count": 80,
     "metadata": {},
     "output_type": "execute_result"
    }
   ],
   "source": [
    "# star 1\n",
    "total_risk = sum(risk_level(p, full_grid) for p in full_low_points)\n",
    "total_risk"
   ]
  },
  {
   "cell_type": "code",
   "execution_count": 100,
   "metadata": {},
   "outputs": [],
   "source": [
    "def grow_basin(basin_points, grid):\n",
    "    num_rows = len(grid)\n",
    "    num_cols = len(grid[0])\n",
    "    new_points = []\n",
    "    for p in basin_points:\n",
    "        value = grid[p[0]][p[1]]\n",
    "        neighbours = get_neighbours(p[0], p[1], num_rows, num_cols)\n",
    "        for n in neighbours:\n",
    "            if n not in basin_points:  # look for periphery:\n",
    "                val_n = grid[n[0]][n[1]]\n",
    "                if val_n > value and val_n < 9 and n not in new_points:\n",
    "                    new_points.append(n)\n",
    "    return new_points\n",
    "                    "
   ]
  },
  {
   "cell_type": "code",
   "execution_count": 101,
   "metadata": {},
   "outputs": [],
   "source": [
    "def get_basin(low_point, grid):\n",
    "    search = True\n",
    "    basin = [low_point]\n",
    "    while search:\n",
    "        new_points = grow_basin(basin, grid)\n",
    "        if len(new_points) == 0:\n",
    "            search = False\n",
    "        else:\n",
    "            basin.extend(new_points)\n",
    "    return basin"
   ]
  },
  {
   "cell_type": "code",
   "execution_count": 104,
   "metadata": {},
   "outputs": [
    {
     "name": "stdout",
     "output_type": "stream",
     "text": [
      "(0, 1) 3\n",
      "(0, 9) 9\n",
      "(2, 2) 14\n",
      "(4, 6) 9\n"
     ]
    }
   ],
   "source": [
    "for p in example_low_points:\n",
    "    print(p, len(get_basin(p, example_grid)))"
   ]
  },
  {
   "cell_type": "code",
   "execution_count": 108,
   "metadata": {},
   "outputs": [],
   "source": [
    "all_basin_sizes = [len(get_basin(p, full_grid)) for p in full_low_points]"
   ]
  },
  {
   "cell_type": "code",
   "execution_count": 109,
   "metadata": {},
   "outputs": [],
   "source": [
    "all_basin_sizes.sort()"
   ]
  },
  {
   "cell_type": "code",
   "execution_count": 114,
   "metadata": {},
   "outputs": [
    {
     "data": {
      "text/plain": [
       "[110, 112, 127]"
      ]
     },
     "execution_count": 114,
     "metadata": {},
     "output_type": "execute_result"
    }
   ],
   "source": [
    "all_basin_sizes[-3:]"
   ]
  },
  {
   "cell_type": "code",
   "execution_count": 115,
   "metadata": {},
   "outputs": [
    {
     "data": {
      "text/plain": [
       "1564640"
      ]
     },
     "execution_count": 115,
     "metadata": {},
     "output_type": "execute_result"
    }
   ],
   "source": [
    "110 * 112 * 127"
   ]
  },
  {
   "cell_type": "code",
   "execution_count": null,
   "metadata": {},
   "outputs": [],
   "source": []
  }
 ],
 "metadata": {
  "kernelspec": {
   "display_name": "Python 3",
   "language": "python",
   "name": "python3"
  },
  "language_info": {
   "codemirror_mode": {
    "name": "ipython",
    "version": 3
   },
   "file_extension": ".py",
   "mimetype": "text/x-python",
   "name": "python",
   "nbconvert_exporter": "python",
   "pygments_lexer": "ipython3",
   "version": "3.7.3"
  }
 },
 "nbformat": 4,
 "nbformat_minor": 2
}
