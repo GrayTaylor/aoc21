{
 "cells": [
  {
   "cell_type": "code",
   "execution_count": 34,
   "metadata": {},
   "outputs": [],
   "source": [
    "import aoc\n",
    "import re"
   ]
  },
  {
   "cell_type": "code",
   "execution_count": 35,
   "metadata": {},
   "outputs": [],
   "source": [
    "examples = ['be cfbegad cbdgef fgaecd cgeb fdcge agebfd fecdb fabcd edb | fdgacbe cefdb cefbgd gcbe',\n",
    "'edbfga begcd cbg gc gcadebf fbgde acbgfd abcde gfcbed gfec | fcgedb cgb dgebacf gc',\n",
    "'fgaebd cg bdaec gdafb agbcfd gdcbef bgcad gfac gcb cdgabef | cg cg fdcagb cbg',\n",
    "'fbegcd cbd adcefb dageb afcb bc aefdc ecdab fgdeca fcdbega | efabcd cedba gadfec cb',\n",
    "'aecbfdg fbg gf bafeg dbefa fcge gcbea fcaegb dgceab fcbdga | gecf egdcabf bgf bfgea',\n",
    "'fgeab ca afcebg bdacfeg cfaedg gcfdb baec bfadeg bafgc acf | gebdcfa ecba ca fadegcb',\n",
    "'dbcfg fgd bdegcaf fgec aegbdf ecdfab fbedc dacgb gdcebf gf | cefg dcbef fcge gbcadfe',\n",
    "'bdfegc cbegaf gecbf dfcage bdacg ed bedf ced adcbefg gebcd | ed bcgafe cdgba cbgef',\n",
    "'egadfb cdbfeg cegd fecab cgb gbdefca cg fgcdab egfdb bfceg | gbdfcae bgc cg cgb',\n",
    "'gcafb gcf dcaebfg ecagb gf abcdeg gaef cafbge fdbac fegbdc | fgae cfgab fg bagce']"
   ]
  },
  {
   "cell_type": "code",
   "execution_count": 36,
   "metadata": {},
   "outputs": [],
   "source": [
    "def get_outputs(wire_line):\n",
    "    outputs = wire_line.split(' | ')[1].split(' ')\n",
    "    return outputs"
   ]
  },
  {
   "cell_type": "code",
   "execution_count": 37,
   "metadata": {},
   "outputs": [
    {
     "data": {
      "text/plain": [
       "['fdgacbe', 'cefdb', 'cefbgd', 'gcbe']"
      ]
     },
     "execution_count": 37,
     "metadata": {},
     "output_type": "execute_result"
    }
   ],
   "source": [
    "get_outputs(examples[0])"
   ]
  },
  {
   "cell_type": "code",
   "execution_count": 38,
   "metadata": {},
   "outputs": [
    {
     "data": {
      "text/plain": [
       "['be ',\n",
       " 'cfbegad ',\n",
       " 'cbdgef ',\n",
       " 'fgaecd ',\n",
       " 'cgeb ',\n",
       " 'fdcge ',\n",
       " 'agebfd ',\n",
       " 'fecdb ',\n",
       " 'fabcd ',\n",
       " 'edb ',\n",
       " 'fdgacbe ',\n",
       " 'cefdb ',\n",
       " 'cefbgd ']"
      ]
     },
     "execution_count": 38,
     "metadata": {},
     "output_type": "execute_result"
    }
   ],
   "source": [
    "re.findall(r'(\\w+ )', examples[0])"
   ]
  },
  {
   "cell_type": "code",
   "execution_count": 39,
   "metadata": {},
   "outputs": [],
   "source": [
    "all_outputs = []\n",
    "for wire in examples:\n",
    "    all_outputs.extend(get_outputs(wire))"
   ]
  },
  {
   "cell_type": "code",
   "execution_count": 40,
   "metadata": {},
   "outputs": [],
   "source": [
    "output_lengths = [len(s) for s in all_outputs]\n",
    "unique_digits = [d for d in output_lengths if d in [2, 4, 3, 7]]"
   ]
  },
  {
   "cell_type": "code",
   "execution_count": 41,
   "metadata": {},
   "outputs": [
    {
     "data": {
      "text/plain": [
       "26"
      ]
     },
     "execution_count": 41,
     "metadata": {},
     "output_type": "execute_result"
    }
   ],
   "source": [
    "len(unique_digits)"
   ]
  },
  {
   "cell_type": "code",
   "execution_count": 42,
   "metadata": {},
   "outputs": [],
   "source": [
    "full_input = aoc.read_file_as_list('inputs/day8.txt')"
   ]
  },
  {
   "cell_type": "code",
   "execution_count": 43,
   "metadata": {},
   "outputs": [],
   "source": [
    "all_outputs = []\n",
    "for wire in full_input:\n",
    "    all_outputs.extend(get_outputs(wire))"
   ]
  },
  {
   "cell_type": "code",
   "execution_count": 44,
   "metadata": {},
   "outputs": [],
   "source": [
    "output_lengths = [len(s) for s in all_outputs]\n",
    "unique_digits = [d for d in output_lengths if d in [2, 4, 3, 7]]"
   ]
  },
  {
   "cell_type": "code",
   "execution_count": 45,
   "metadata": {},
   "outputs": [
    {
     "data": {
      "text/plain": [
       "344"
      ]
     },
     "execution_count": 45,
     "metadata": {},
     "output_type": "execute_result"
    }
   ],
   "source": [
    "len(unique_digits)"
   ]
  },
  {
   "cell_type": "code",
   "execution_count": 46,
   "metadata": {},
   "outputs": [],
   "source": [
    "# star 2"
   ]
  },
  {
   "cell_type": "code",
   "execution_count": 47,
   "metadata": {},
   "outputs": [],
   "source": [
    "focus_example = 'acedgfb cdfbe gcdfa fbcad dab cefabd cdfgeb eafb cagedb ab | cdfeb fcadb cdfeb cdbaf'"
   ]
  },
  {
   "cell_type": "code",
   "execution_count": 48,
   "metadata": {},
   "outputs": [],
   "source": [
    "def get_inputs(wire_line):\n",
    "    inputs = wire_line.split('| ')[0].split(' ')\n",
    "    return [v for v in inputs if len(v) > 0]"
   ]
  },
  {
   "cell_type": "code",
   "execution_count": 49,
   "metadata": {},
   "outputs": [
    {
     "data": {
      "text/plain": [
       "['acedgfb',\n",
       " 'cdfbe',\n",
       " 'gcdfa',\n",
       " 'fbcad',\n",
       " 'dab',\n",
       " 'cefabd',\n",
       " 'cdfgeb',\n",
       " 'eafb',\n",
       " 'cagedb',\n",
       " 'ab']"
      ]
     },
     "execution_count": 49,
     "metadata": {},
     "output_type": "execute_result"
    }
   ],
   "source": [
    "focus_inputs = get_inputs(focus_example)\n",
    "focus_inputs"
   ]
  },
  {
   "cell_type": "code",
   "execution_count": 50,
   "metadata": {},
   "outputs": [
    {
     "name": "stdout",
     "output_type": "stream",
     "text": [
      "['a', 'b']\n",
      "['d', 'a', 'b']\n",
      "['e', 'a', 'f', 'b']\n",
      "['a', 'c', 'e', 'd', 'g', 'f', 'b']\n"
     ]
    }
   ],
   "source": [
    "one_chars = [c for c in [s for s in focus_inputs if len(s) == 2][0]]\n",
    "print(one_chars)\n",
    "\n",
    "seven_chars = [c for c in [s for s in focus_inputs if len(s) == 3][0]]\n",
    "print(seven_chars)\n",
    "\n",
    "four_chars = [c for c in [s for s in focus_inputs if len(s) == 4][0]]\n",
    "print(four_chars)\n",
    "\n",
    "eight_chars = [c for c in [s for s in focus_inputs if len(s) == 7][0]]\n",
    "print(eight_chars)"
   ]
  },
  {
   "cell_type": "code",
   "execution_count": 51,
   "metadata": {},
   "outputs": [
    {
     "name": "stdout",
     "output_type": "stream",
     "text": [
      "a maps to d\n"
     ]
    }
   ],
   "source": [
    "# a is only entry in 7 that is not in 1\n",
    "a_map = [c for c in seven_chars if c not in one_chars][0]\n",
    "print(f'a maps to {a_map}')"
   ]
  },
  {
   "cell_type": "code",
   "execution_count": 52,
   "metadata": {},
   "outputs": [],
   "source": [
    "# of the easy digits:\n",
    "# b does not appear in 1, 7, but does in 4, 8\n",
    "# c appears in all four\n",
    "# d does not appear in 1,7 but does in 4, 8\n",
    "# e only appears in 8\n",
    "# f appears in all four\n",
    "# g only appears in 8\n"
   ]
  },
  {
   "cell_type": "code",
   "execution_count": 53,
   "metadata": {},
   "outputs": [
    {
     "data": {
      "text/plain": [
       "['cefabd', 'cdfgeb', 'cagedb']"
      ]
     },
     "execution_count": 53,
     "metadata": {},
     "output_type": "execute_result"
    }
   ],
   "source": [
    "# the six segment options are 0 (missing d), 6 (missing c), 9 (missing e)\n",
    "length6 = [s for s in focus_inputs if len(s) == 6]\n",
    "length6"
   ]
  },
  {
   "cell_type": "code",
   "execution_count": 54,
   "metadata": {},
   "outputs": [],
   "source": [
    "cde_candidates = []\n",
    "for s in length6:\n",
    "    cde_candidates.extend([l for  l in 'abcdefg' if l not in s])"
   ]
  },
  {
   "cell_type": "code",
   "execution_count": 55,
   "metadata": {},
   "outputs": [
    {
     "data": {
      "text/plain": [
       "['g', 'a', 'f']"
      ]
     },
     "execution_count": 55,
     "metadata": {},
     "output_type": "execute_result"
    }
   ],
   "source": [
    "cde_candidates"
   ]
  },
  {
   "cell_type": "code",
   "execution_count": 56,
   "metadata": {},
   "outputs": [
    {
     "name": "stdout",
     "output_type": "stream",
     "text": [
      "e maps to g\n"
     ]
    }
   ],
   "source": [
    "# c and d both appear in four, so whichever cde candidate does not, is e\n",
    "e_map = [l for l in cde_candidates if l not in four_chars][0]\n",
    "print(f'e maps to {e_map}')"
   ]
  },
  {
   "cell_type": "code",
   "execution_count": 57,
   "metadata": {},
   "outputs": [
    {
     "name": "stdout",
     "output_type": "stream",
     "text": [
      "['g', 'c', 'd', 'f', 'a']\n"
     ]
    }
   ],
   "source": [
    "# the five segment options are 2 (missing b,f), 3 (missing b,e), 5 (missing c,e)\n",
    "# so only one of them contains e, and that's two:\n",
    "five_seg = [s for s in focus_inputs if len(s) == 5]\n",
    "five_seg_with_e = [s for s in five_seg if e_map in s][0]\n",
    "two_chars = [c for c in five_seg_with_e]\n",
    "print(two_chars)"
   ]
  },
  {
   "cell_type": "code",
   "execution_count": 58,
   "metadata": {},
   "outputs": [
    {
     "name": "stdout",
     "output_type": "stream",
     "text": [
      "f maps to b\n"
     ]
    }
   ],
   "source": [
    "#c is in one and two, but f is only in one:\n",
    "f_map = [c for c in one_chars if c not in two_chars][0]\n",
    "print(f'f maps to {f_map}')"
   ]
  },
  {
   "cell_type": "code",
   "execution_count": 59,
   "metadata": {},
   "outputs": [
    {
     "name": "stdout",
     "output_type": "stream",
     "text": [
      "c maps to a\n"
     ]
    }
   ],
   "source": [
    "# hence the other character of one is c:\n",
    "c_map = [c for c in one_chars if c != f_map][0]\n",
    "print(f'c maps to {c_map}')"
   ]
  },
  {
   "cell_type": "code",
   "execution_count": 60,
   "metadata": {},
   "outputs": [
    {
     "name": "stdout",
     "output_type": "stream",
     "text": [
      "['e', 'f']\n"
     ]
    }
   ],
   "source": [
    "# this leaves two characters in four, which are b and d:\n",
    "bd_candidates = [c for c in four_chars if c not in [c_map, f_map]]\n",
    "print(bd_candidates)"
   ]
  },
  {
   "cell_type": "code",
   "execution_count": 61,
   "metadata": {},
   "outputs": [
    {
     "name": "stdout",
     "output_type": "stream",
     "text": [
      "b maps to e\n",
      "d maps to f\n"
     ]
    }
   ],
   "source": [
    "# d is in two, b is not\n",
    "d_map = [c for c in bd_candidates if c in two_chars][0]\n",
    "b_map = [c for c in bd_candidates if c not in two_chars][0]\n",
    "print(f'b maps to {b_map}')\n",
    "print(f'd maps to {d_map}')"
   ]
  },
  {
   "cell_type": "code",
   "execution_count": 62,
   "metadata": {},
   "outputs": [
    {
     "name": "stdout",
     "output_type": "stream",
     "text": [
      "g maps to c\n"
     ]
    }
   ],
   "source": [
    "# g is whatever is left\n",
    "g_map = [c for c in 'abcdefg' if c not in [a_map, b_map, c_map, d_map, e_map, f_map]][0]\n",
    "print(f'g maps to {g_map}')"
   ]
  },
  {
   "cell_type": "code",
   "execution_count": 63,
   "metadata": {},
   "outputs": [],
   "source": [
    "# so now we can build a translator\n",
    "correct_wire = {a_map: 'a', b_map: 'b', c_map: 'c', d_map: 'd', e_map: 'e', f_map: 'f', g_map:'g'}"
   ]
  },
  {
   "cell_type": "code",
   "execution_count": 64,
   "metadata": {},
   "outputs": [
    {
     "data": {
      "text/plain": [
       "['cdfeb', 'fcadb', 'cdfeb', 'cdbaf']"
      ]
     },
     "execution_count": 64,
     "metadata": {},
     "output_type": "execute_result"
    }
   ],
   "source": [
    "# this lets us decode our outputs:\n",
    "focus_outputs = get_outputs(focus_example)\n",
    "focus_outputs"
   ]
  },
  {
   "cell_type": "code",
   "execution_count": 65,
   "metadata": {},
   "outputs": [],
   "source": [
    "def decode_output(output, correct_wire):\n",
    "    correct_chars = ''.join(sorted([correct_wire[c] for c in output]))\n",
    "    if correct_chars == 'abcefg':\n",
    "        return 0\n",
    "    elif correct_chars == 'cf':\n",
    "        return 1\n",
    "    elif correct_chars == 'acdeg':\n",
    "        return 2\n",
    "    elif correct_chars == 'acdfg':\n",
    "        return 3\n",
    "    elif correct_chars == 'bcdf':\n",
    "        return 4\n",
    "    elif correct_chars == 'abdfg':\n",
    "        return 5\n",
    "    elif correct_chars == 'abdefg':\n",
    "        return 6\n",
    "    elif correct_chars == 'acf':\n",
    "        return 7\n",
    "    elif correct_chars == 'abcdefg':\n",
    "        return 8\n",
    "    elif correct_chars == 'abcdfg':\n",
    "        return 9\n",
    "    else:\n",
    "        raise ValueError(f\"can't parse {correct_chars}\")"
   ]
  },
  {
   "cell_type": "code",
   "execution_count": 66,
   "metadata": {
    "scrolled": true
   },
   "outputs": [
    {
     "data": {
      "text/plain": [
       "[5, 3, 5, 3]"
      ]
     },
     "execution_count": 66,
     "metadata": {},
     "output_type": "execute_result"
    }
   ],
   "source": [
    "[decode_output(s, correct_wire) for s in focus_outputs]"
   ]
  },
  {
   "cell_type": "code",
   "execution_count": 67,
   "metadata": {},
   "outputs": [],
   "source": [
    "def construct_correct_wiring(inputs):\n",
    "    one_chars = [c for c in [s for s in inputs if len(s) == 2][0]]\n",
    "    seven_chars = [c for c in [s for s in inputs if len(s) == 3][0]]\n",
    "    four_chars = [c for c in [s for s in inputs if len(s) == 4][0]]\n",
    "    eight_chars = [c for c in [s for s in inputs if len(s) == 7][0]]\n",
    "\n",
    "    a_map = [c for c in seven_chars if c not in one_chars][0]\n",
    "    \n",
    "    length6 = [s for s in inputs if len(s) == 6]\n",
    "    cde_candidates = []\n",
    "    for s in length6:\n",
    "        cde_candidates.extend([l for  l in 'abcdefg' if l not in s])\n",
    "    e_map = [l for l in cde_candidates if l not in four_chars][0]\n",
    "    \n",
    "    five_seg = [s for s in inputs if len(s) == 5]\n",
    "    five_seg_with_e = [s for s in five_seg if e_map in s][0]\n",
    "    two_chars = [c for c in five_seg_with_e]\n",
    "    \n",
    "    f_map = [c for c in one_chars if c not in two_chars][0]\n",
    "    c_map = [c for c in one_chars if c != f_map][0]\n",
    "    \n",
    "    bd_candidates = [c for c in four_chars if c not in [c_map, f_map]]\n",
    "    d_map = [c for c in bd_candidates if c in two_chars][0]\n",
    "    b_map = [c for c in bd_candidates if c not in two_chars][0]\n",
    "    g_map = [c for c in 'abcdefg' if c not in [a_map, b_map, c_map, d_map, e_map, f_map]][0]\n",
    "    \n",
    "    return {a_map: 'a', b_map: 'b', c_map: 'c', d_map: 'd', e_map: 'e', f_map: 'f', g_map:'g'}"
   ]
  },
  {
   "cell_type": "code",
   "execution_count": 68,
   "metadata": {},
   "outputs": [],
   "source": [
    "def get_line_value(wire_line):\n",
    "    inputs = get_inputs(wire_line)\n",
    "    outputs = get_outputs(wire_line)\n",
    "    correct_wiring = construct_correct_wiring(inputs)\n",
    "    output_values = [decode_output(s, correct_wiring) for s in outputs]\n",
    "    return int(''.join([str(v) for v in output_values]))"
   ]
  },
  {
   "cell_type": "code",
   "execution_count": 69,
   "metadata": {},
   "outputs": [
    {
     "data": {
      "text/plain": [
       "['acedgfb',\n",
       " 'cdfbe',\n",
       " 'gcdfa',\n",
       " 'fbcad',\n",
       " 'dab',\n",
       " 'cefabd',\n",
       " 'cdfgeb',\n",
       " 'eafb',\n",
       " 'cagedb',\n",
       " 'ab']"
      ]
     },
     "execution_count": 69,
     "metadata": {},
     "output_type": "execute_result"
    }
   ],
   "source": [
    "inputs= get_inputs(focus_example)\n",
    "inputs"
   ]
  },
  {
   "cell_type": "code",
   "execution_count": 70,
   "metadata": {},
   "outputs": [
    {
     "data": {
      "text/plain": [
       "5353"
      ]
     },
     "execution_count": 70,
     "metadata": {},
     "output_type": "execute_result"
    }
   ],
   "source": [
    "get_line_value(focus_example)"
   ]
  },
  {
   "cell_type": "code",
   "execution_count": 71,
   "metadata": {},
   "outputs": [],
   "source": [
    "star2 = sum([get_line_value(x) for x in full_input])"
   ]
  },
  {
   "cell_type": "code",
   "execution_count": 72,
   "metadata": {},
   "outputs": [
    {
     "data": {
      "text/plain": [
       "1048410"
      ]
     },
     "execution_count": 72,
     "metadata": {},
     "output_type": "execute_result"
    }
   ],
   "source": [
    "star2"
   ]
  },
  {
   "cell_type": "code",
   "execution_count": 73,
   "metadata": {},
   "outputs": [],
   "source": [
    "def get_symbol_list(wire_line):\n",
    "    return wire_line.split(' | ')[0].split(' ')"
   ]
  },
  {
   "cell_type": "code",
   "execution_count": 74,
   "metadata": {},
   "outputs": [],
   "source": [
    "def get_output_symbols(wire_line):\n",
    "    return wire_line.split(' | ')[1].split(' ')"
   ]
  },
  {
   "cell_type": "code",
   "execution_count": 95,
   "metadata": {},
   "outputs": [],
   "source": [
    "def get_line_value(wire_line):\n",
    "    symbols = get_symbol_list(wire_line)\n",
    "    outputs = get_output_symbols(wire_line)\n",
    "    correct_wiring = determine_wiring(symbols)\n",
    "    output_values = [decode_output(s, correct_wiring) for s in outputs]\n",
    "    return sum([output_values[k] * 10**(3-k) for k in range(4)])"
   ]
  },
  {
   "cell_type": "code",
   "execution_count": 108,
   "metadata": {},
   "outputs": [],
   "source": [
    "test = get_line_value(examples[0])"
   ]
  },
  {
   "cell_type": "code",
   "execution_count": 109,
   "metadata": {},
   "outputs": [
    {
     "data": {
      "text/plain": [
       "8394"
      ]
     },
     "execution_count": 109,
     "metadata": {},
     "output_type": "execute_result"
    }
   ],
   "source": [
    "test"
   ]
  },
  {
   "cell_type": "code",
   "execution_count": 99,
   "metadata": {},
   "outputs": [],
   "source": [
    "def decode_output(output, correct_wire):\n",
    "    unscrambled_segments = ''.join(sorted([correct_wire[c] for c in output]))\n",
    "    standard_segments = ['abcefg', 'cf', 'acdeg', 'acdfg', 'bcdf', \n",
    "                         'abdfg', 'abdefg', 'acf', 'abcdefg', 'abcdfg']\n",
    "    if unscrambled_segments not in standard_segments:\n",
    "        raise ValueError(f\"can't parse {unscrambled_segments}\")\n",
    "    else:\n",
    "        return standard_segments.index(unscrambled_segments)"
   ]
  },
  {
   "cell_type": "code",
   "execution_count": 107,
   "metadata": {},
   "outputs": [],
   "source": [
    "def determine_wiring(observed_symbols):\n",
    "    one_segments = [l for l in [s for s in observed_symbols if len(s) == 2][0]]\n",
    "    seven_segments = [l for l in [s for s in observed_symbols if len(s) == 3][0]]\n",
    "    four_segments = [l for l in [s for s in observed_symbols if len(s) == 4][0]]\n",
    "    eight_segments = [l for l in [s for s in observed_symbols if len(s) == 7][0]]\n",
    "\n",
    "    a_map = [seg for seg in seven_segments if seg not in one_segments][0]\n",
    "    \n",
    "    length_6_symbols = [s for s in observed_symbols if len(s) == 6]\n",
    "    cde_candidates = []\n",
    "    for s in length_6_symbols:\n",
    "        cde_candidates.extend([l for  l in 'abcdefg' if l not in s])\n",
    "    e_map = [seg for seg in cde_candidates if seg not in four_segments][0]\n",
    "    \n",
    "    length_5_symbols = [s for s in observed_symbols if len(s) == 5]\n",
    "    length_5_symbols_with_e = [s for s in length_5_symbols if e_map in s][0]\n",
    "    two_segments = [seg for seg in length_5_symbols_with_e]\n",
    "    \n",
    "    f_map = [seg for seg in one_segments if seg not in two_segments][0]\n",
    "    c_map = [seg for seg in one_segments if seg != f_map][0]\n",
    "    \n",
    "    bd_candidates = [seg for seg in four_segments if seg not in [c_map, f_map]]\n",
    "    d_map = [seg for seg in bd_candidates if seg in two_segments][0]\n",
    "    b_map = [seg for seg in bd_candidates if seg not in two_segments][0]\n",
    "    g_map = [seg for seg in 'abcdefg' \n",
    "             if seg not in [a_map, b_map, c_map, d_map, e_map, f_map]][0]\n",
    "    \n",
    "    return {a_map: 'a', b_map: 'b', c_map: 'c', d_map: 'd', \n",
    "            e_map: 'e', f_map: 'f', g_map:'g'}"
   ]
  },
  {
   "cell_type": "code",
   "execution_count": null,
   "metadata": {},
   "outputs": [],
   "source": []
  }
 ],
 "metadata": {
  "kernelspec": {
   "display_name": "Python 3",
   "language": "python",
   "name": "python3"
  },
  "language_info": {
   "codemirror_mode": {
    "name": "ipython",
    "version": 3
   },
   "file_extension": ".py",
   "mimetype": "text/x-python",
   "name": "python",
   "nbconvert_exporter": "python",
   "pygments_lexer": "ipython3",
   "version": "3.7.3"
  }
 },
 "nbformat": 4,
 "nbformat_minor": 2
}
